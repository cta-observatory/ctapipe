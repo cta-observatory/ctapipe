{
 "cells": [
  {
   "cell_type": "markdown",
   "metadata": {},
   "source": [
    "# Working with Instrumental Descriptions\n",
    "\n",
    "the instrumental description is loaded by the event source, and consists of a hierarchy of classes in the ctapipe.instrument module, the base of which is the `SubarrayDescription`"
   ]
  },
  {
   "cell_type": "markdown",
   "metadata": {},
   "source": [
    "First, let's open a file and load a single event so we get the instrument info in the event.inst container."
   ]
  },
  {
   "cell_type": "code",
   "execution_count": 1,
   "metadata": {},
   "outputs": [],
   "source": [
    "from ctapipe.utils.datasets import get_dataset_path\n",
    "from ctapipe.io import event_source\n",
    "import numpy as np\n",
    "\n",
    "#filename = get_dataset_path(\"gamma_test_large.simtel.gz\") # try this one as well\n",
    "filename = get_dataset_path(\"gamma_test_large.simtel.gz\")  \n",
    "\n",
    "# just get the first event in the file:\n",
    "with event_source(filename, max_events=1) as source:\n",
    "    event = next(iter(source))\n"
   ]
  },
  {
   "cell_type": "markdown",
   "metadata": {},
   "source": [
    "## the SubarrayDescription:"
   ]
  },
  {
   "cell_type": "code",
   "execution_count": 2,
   "metadata": {},
   "outputs": [
    {
     "name": "stdout",
     "output_type": "stream",
     "text": [
      "Subarray : MonteCarloArray\n",
      "Num Tels : 98\n",
      "Footprint: 4.92 km2\n",
      "\n",
      "                TYPE  Num IDmin  IDmax\n",
      "=====================================\n",
      "      LST_LST_LSTCam    4    1 ..   4\n",
      "    MST_MST_FlashCam   25    5 ..  29\n",
      "  SST_ASTRI_ASTRICam   69   30 ..  98\n"
     ]
    }
   ],
   "source": [
    "subarray = event.inst.subarray\n",
    "\n",
    "subarray.info()"
   ]
  },
  {
   "cell_type": "code",
   "execution_count": 3,
   "metadata": {},
   "outputs": [
    {
     "data": {
      "text/html": [
       "<i>Table length=98</i>\n",
       "<table id=\"table48025685576\" class=\"table-striped table-bordered table-condensed\">\n",
       "<thead><tr><th>tel_id</th><th>pos_x</th><th>pos_y</th><th>pos_z</th><th>name</th><th>type</th><th>num_mirrors</th><th>camera_type</th><th>tel_description</th></tr></thead>\n",
       "<thead><tr><th></th><th>m</th><th>m</th><th>m</th><th></th><th></th><th></th><th></th><th></th></tr></thead>\n",
       "<thead><tr><th>int16</th><th>float64</th><th>float64</th><th>float64</th><th>str5</th><th>str3</th><th>int64</th><th>str8</th><th>str18</th></tr></thead>\n",
       "<tr><td>1</td><td>-20.0</td><td>65.0</td><td>16.0</td><td>LST</td><td>LST</td><td>1</td><td>LSTCam</td><td>LST_LST_LSTCam</td></tr>\n",
       "<tr><td>2</td><td>-20.0</td><td>-65.0</td><td>16.0</td><td>LST</td><td>LST</td><td>1</td><td>LSTCam</td><td>LST_LST_LSTCam</td></tr>\n",
       "<tr><td>3</td><td>80.0</td><td>0.0</td><td>16.0</td><td>LST</td><td>LST</td><td>1</td><td>LSTCam</td><td>LST_LST_LSTCam</td></tr>\n",
       "<tr><td>4</td><td>-120.0</td><td>0.0</td><td>16.0</td><td>LST</td><td>LST</td><td>1</td><td>LSTCam</td><td>LST_LST_LSTCam</td></tr>\n",
       "<tr><td>5</td><td>0.0</td><td>0.0</td><td>10.0</td><td>MST</td><td>MST</td><td>1</td><td>FlashCam</td><td>MST_MST_FlashCam</td></tr>\n",
       "<tr><td>6</td><td>0.0</td><td>151.1999969482422</td><td>10.0</td><td>MST</td><td>MST</td><td>1</td><td>FlashCam</td><td>MST_MST_FlashCam</td></tr>\n",
       "<tr><td>7</td><td>0.0</td><td>-151.1999969482422</td><td>10.0</td><td>MST</td><td>MST</td><td>1</td><td>FlashCam</td><td>MST_MST_FlashCam</td></tr>\n",
       "<tr><td>8</td><td>146.65599060058594</td><td>75.5999984741211</td><td>10.0</td><td>MST</td><td>MST</td><td>1</td><td>FlashCam</td><td>MST_MST_FlashCam</td></tr>\n",
       "<tr><td>9</td><td>146.65599060058594</td><td>-75.5999984741211</td><td>10.0</td><td>MST</td><td>MST</td><td>1</td><td>FlashCam</td><td>MST_MST_FlashCam</td></tr>\n",
       "<tr><td>...</td><td>...</td><td>...</td><td>...</td><td>...</td><td>...</td><td>...</td><td>...</td><td>...</td></tr>\n",
       "<tr><td>89</td><td>956.7870483398438</td><td>739.822998046875</td><td>5.0</td><td>ASTRI</td><td>SST</td><td>2</td><td>ASTRICam</td><td>SST_ASTRI_ASTRICam</td></tr>\n",
       "<tr><td>90</td><td>956.7870483398438</td><td>-739.822998046875</td><td>5.0</td><td>ASTRI</td><td>SST</td><td>2</td><td>ASTRICam</td><td>SST_ASTRI_ASTRICam</td></tr>\n",
       "<tr><td>91</td><td>-239.19699096679688</td><td>1109.7349853515625</td><td>5.0</td><td>ASTRI</td><td>SST</td><td>2</td><td>ASTRICam</td><td>SST_ASTRI_ASTRICam</td></tr>\n",
       "<tr><td>92</td><td>-239.19699096679688</td><td>-1109.7349853515625</td><td>5.0</td><td>ASTRI</td><td>SST</td><td>2</td><td>ASTRICam</td><td>SST_ASTRI_ASTRICam</td></tr>\n",
       "<tr><td>93</td><td>-956.7870483398438</td><td>739.822998046875</td><td>5.0</td><td>ASTRI</td><td>SST</td><td>2</td><td>ASTRICam</td><td>SST_ASTRI_ASTRICam</td></tr>\n",
       "<tr><td>94</td><td>-956.7870483398438</td><td>-739.822998046875</td><td>5.0</td><td>ASTRI</td><td>SST</td><td>2</td><td>ASTRICam</td><td>SST_ASTRI_ASTRICam</td></tr>\n",
       "<tr><td>95</td><td>1195.9840087890625</td><td>369.9119873046875</td><td>5.0</td><td>ASTRI</td><td>SST</td><td>2</td><td>ASTRICam</td><td>SST_ASTRI_ASTRICam</td></tr>\n",
       "<tr><td>96</td><td>1195.9840087890625</td><td>-369.9119873046875</td><td>5.0</td><td>ASTRI</td><td>SST</td><td>2</td><td>ASTRICam</td><td>SST_ASTRI_ASTRICam</td></tr>\n",
       "<tr><td>97</td><td>-1195.9840087890625</td><td>369.9119873046875</td><td>5.0</td><td>ASTRI</td><td>SST</td><td>2</td><td>ASTRICam</td><td>SST_ASTRI_ASTRICam</td></tr>\n",
       "<tr><td>98</td><td>-1195.9840087890625</td><td>-369.9119873046875</td><td>5.0</td><td>ASTRI</td><td>SST</td><td>2</td><td>ASTRICam</td><td>SST_ASTRI_ASTRICam</td></tr>\n",
       "</table>"
      ],
      "text/plain": [
       "<Table length=98>\n",
       "tel_id        pos_x        ... camera_type  tel_description  \n",
       "                m          ...                               \n",
       "int16        float64       ...     str8          str18       \n",
       "------ ------------------- ... ----------- ------------------\n",
       "     1               -20.0 ...      LSTCam     LST_LST_LSTCam\n",
       "     2               -20.0 ...      LSTCam     LST_LST_LSTCam\n",
       "     3                80.0 ...      LSTCam     LST_LST_LSTCam\n",
       "     4              -120.0 ...      LSTCam     LST_LST_LSTCam\n",
       "     5                 0.0 ...    FlashCam   MST_MST_FlashCam\n",
       "     6                 0.0 ...    FlashCam   MST_MST_FlashCam\n",
       "     7                 0.0 ...    FlashCam   MST_MST_FlashCam\n",
       "     8  146.65599060058594 ...    FlashCam   MST_MST_FlashCam\n",
       "     9  146.65599060058594 ...    FlashCam   MST_MST_FlashCam\n",
       "   ...                 ... ...         ...                ...\n",
       "    89   956.7870483398438 ...    ASTRICam SST_ASTRI_ASTRICam\n",
       "    90   956.7870483398438 ...    ASTRICam SST_ASTRI_ASTRICam\n",
       "    91 -239.19699096679688 ...    ASTRICam SST_ASTRI_ASTRICam\n",
       "    92 -239.19699096679688 ...    ASTRICam SST_ASTRI_ASTRICam\n",
       "    93  -956.7870483398438 ...    ASTRICam SST_ASTRI_ASTRICam\n",
       "    94  -956.7870483398438 ...    ASTRICam SST_ASTRI_ASTRICam\n",
       "    95  1195.9840087890625 ...    ASTRICam SST_ASTRI_ASTRICam\n",
       "    96  1195.9840087890625 ...    ASTRICam SST_ASTRI_ASTRICam\n",
       "    97 -1195.9840087890625 ...    ASTRICam SST_ASTRI_ASTRICam\n",
       "    98 -1195.9840087890625 ...    ASTRICam SST_ASTRI_ASTRICam"
      ]
     },
     "execution_count": 3,
     "metadata": {},
     "output_type": "execute_result"
    }
   ],
   "source": [
    "subarray.to_table()"
   ]
  },
  {
   "cell_type": "markdown",
   "metadata": {},
   "source": [
    "You can also get a table of just the `OpticsDescriptions` (`CameraGeometry` is more complex and can't be stored on a single table row, so each one can be converted to a table separately)"
   ]
  },
  {
   "cell_type": "code",
   "execution_count": 4,
   "metadata": {},
   "outputs": [
    {
     "data": {
      "text/html": [
       "<i>Table length=3</i>\n",
       "<table id=\"table48031953864\" class=\"table-striped table-bordered table-condensed\">\n",
       "<thead><tr><th>description</th><th>name</th><th>type</th><th>mirror_area</th><th>num_mirrors</th><th>num_mirror_tiles</th><th>equivalent_focal_length</th></tr></thead>\n",
       "<thead><tr><th></th><th></th><th></th><th>m2</th><th></th><th></th><th>m</th></tr></thead>\n",
       "<thead><tr><th>str18</th><th>str5</th><th>str3</th><th>float64</th><th>int64</th><th>int64</th><th>float64</th></tr></thead>\n",
       "<tr><td>MST_MST_FlashCam</td><td>MST</td><td>MST</td><td>103.83055877685547</td><td>1</td><td>84</td><td>16.0</td></tr>\n",
       "<tr><td>SST_ASTRI_ASTRICam</td><td>ASTRI</td><td>SST</td><td>14.562566757202148</td><td>2</td><td>2</td><td>2.1500000953674316</td></tr>\n",
       "<tr><td>LST_LST_LSTCam</td><td>LST</td><td>LST</td><td>386.7332458496094</td><td>1</td><td>198</td><td>28.0</td></tr>\n",
       "</table>"
      ],
      "text/plain": [
       "<Table length=3>\n",
       "   description      name type ... num_mirror_tiles equivalent_focal_length\n",
       "                              ...                             m           \n",
       "      str18         str5 str3 ...      int64               float64        \n",
       "------------------ ----- ---- ... ---------------- -----------------------\n",
       "  MST_MST_FlashCam   MST  MST ...               84                    16.0\n",
       "SST_ASTRI_ASTRICam ASTRI  SST ...                2      2.1500000953674316\n",
       "    LST_LST_LSTCam   LST  LST ...              198                    28.0"
      ]
     },
     "execution_count": 4,
     "metadata": {},
     "output_type": "execute_result"
    }
   ],
   "source": [
    "subarray.to_table(kind='optics')"
   ]
  },
  {
   "cell_type": "markdown",
   "metadata": {},
   "source": [
    "Make a sub-array with only SC-type telescopes:"
   ]
  },
  {
   "cell_type": "code",
   "execution_count": 5,
   "metadata": {},
   "outputs": [
    {
     "name": "stdout",
     "output_type": "stream",
     "text": [
      "Subarray : SCTels\n",
      "Num Tels : 69\n",
      "Footprint: 4.92 km2\n",
      "\n",
      "                TYPE  Num IDmin  IDmax\n",
      "=====================================\n",
      "  SST_ASTRI_ASTRICam   69   30 ..  98\n"
     ]
    }
   ],
   "source": [
    "tab = subarray.to_table()\n",
    "sc_tels = tab[tab['num_mirrors'] == 2]['tel_id']  # select tel_id of entries where the mirror type is SC\n",
    "newsub = subarray.select_subarray(\"SCTels\", sc_tels)\n",
    "newsub.info()"
   ]
  },
  {
   "cell_type": "markdown",
   "metadata": {},
   "source": [
    "can also do this by using `Table.group_by`"
   ]
  },
  {
   "cell_type": "code",
   "execution_count": 6,
   "metadata": {},
   "outputs": [
    {
     "name": "stdout",
     "output_type": "stream",
     "text": [
      "Subarray : SCTels\n",
      "Num Tels : 29\n",
      "Footprint: 1.06 km2\n",
      "\n",
      "                TYPE  Num IDmin  IDmax\n",
      "=====================================\n",
      "      LST_LST_LSTCam    4    1 ..   4\n",
      "    MST_MST_FlashCam   25    5 ..  29\n"
     ]
    }
   ],
   "source": [
    "gtab = tab.group_by('num_mirrors')\n",
    "sc = gtab.groups[0]\n",
    "newsub = subarray.select_subarray(\"SCTels\", sc['tel_id'])\n",
    "newsub.info()"
   ]
  },
  {
   "cell_type": "markdown",
   "metadata": {},
   "source": [
    "## Explore some of the details of the telescopes"
   ]
  },
  {
   "cell_type": "code",
   "execution_count": 7,
   "metadata": {},
   "outputs": [
    {
     "data": {
      "text/plain": [
       "TelescopeDescription(type=MST, name=MST, optics=MST, camera=FlashCam)"
      ]
     },
     "execution_count": 7,
     "metadata": {},
     "output_type": "execute_result"
    }
   ],
   "source": [
    "tel = subarray.tel[5]\n",
    "tel"
   ]
  },
  {
   "cell_type": "code",
   "execution_count": 8,
   "metadata": {},
   "outputs": [
    {
     "data": {
      "text/latex": [
       "$103.83056 \\; \\mathrm{m^{2}}$"
      ],
      "text/plain": [
       "<Quantity 103.83055878 m2>"
      ]
     },
     "execution_count": 8,
     "metadata": {},
     "output_type": "execute_result"
    }
   ],
   "source": [
    "tel.optics.mirror_area"
   ]
  },
  {
   "cell_type": "code",
   "execution_count": 9,
   "metadata": {},
   "outputs": [
    {
     "data": {
      "text/plain": [
       "84"
      ]
     },
     "execution_count": 9,
     "metadata": {},
     "output_type": "execute_result"
    }
   ],
   "source": [
    "tel.optics.num_mirror_tiles"
   ]
  },
  {
   "cell_type": "code",
   "execution_count": 10,
   "metadata": {},
   "outputs": [
    {
     "data": {
      "text/latex": [
       "$16 \\; \\mathrm{m}$"
      ],
      "text/plain": [
       "<Quantity 16. m>"
      ]
     },
     "execution_count": 10,
     "metadata": {},
     "output_type": "execute_result"
    }
   ],
   "source": [
    "tel.optics.equivalent_focal_length"
   ]
  },
  {
   "cell_type": "code",
   "execution_count": 11,
   "metadata": {},
   "outputs": [
    {
     "data": {
      "text/plain": [
       "CameraGeometry(cam_id='FlashCam', pix_type='hexagonal', npix=1764, cam_rot=0.0 rad, pix_rot=0.0 deg)"
      ]
     },
     "execution_count": 11,
     "metadata": {},
     "output_type": "execute_result"
    }
   ],
   "source": [
    "tel.camera"
   ]
  },
  {
   "cell_type": "code",
   "execution_count": 12,
   "metadata": {},
   "outputs": [
    {
     "data": {
      "text/latex": [
       "$[-0.028867999,~-0.072168998,~0.057735,~\\dots,~-0.54848301,~-0.50518101,~-0.54848301] \\; \\mathrm{m}$"
      ],
      "text/plain": [
       "<Quantity [-0.028868  , -0.072169  ,  0.057735  , ..., -0.54848301,\n",
       "           -0.50518101, -0.54848301] m>"
      ]
     },
     "execution_count": 12,
     "metadata": {},
     "output_type": "execute_result"
    }
   ],
   "source": [
    "tel.camera.pix_x"
   ]
  },
  {
   "cell_type": "code",
   "execution_count": 13,
   "metadata": {},
   "outputs": [
    {
     "data": {
      "text/plain": [
       "<ctapipe.visualization.mpl_camera.CameraDisplay at 0xb2f419080>"
      ]
     },
     "execution_count": 13,
     "metadata": {},
     "output_type": "execute_result"
    },
    {
     "data": {
      "image/png": "[encoded data removed]",
      "text/plain": [
       "<Figure size 432x288 with 1 Axes>"
      ]
     },
     "metadata": {
      "needs_background": "light"
     },
     "output_type": "display_data"
    }
   ],
   "source": [
    "%matplotlib inline\n",
    "from ctapipe.visualization import CameraDisplay\n",
    "CameraDisplay(tel.camera)"
   ]
  },
  {
   "cell_type": "code",
   "execution_count": 14,
   "metadata": {},
   "outputs": [
    {
     "data": {
      "text/plain": [
       "<ctapipe.visualization.mpl_camera.CameraDisplay at 0xb2eed7630>"
      ]
     },
     "execution_count": 14,
     "metadata": {},
     "output_type": "execute_result"
    },
    {
     "data": {
      "image/png": "[encoded data removed]",
      "text/plain": [
       "<Figure size 432x288 with 1 Axes>"
      ]
     },
     "metadata": {
      "needs_background": "light"
     },
     "output_type": "display_data"
    }
   ],
   "source": [
    "CameraDisplay(subarray.tel[98].camera)"
   ]
  },
  {
   "cell_type": "markdown",
   "metadata": {},
   "source": [
    "## Plot the subarray\n",
    "\n",
    "We'll make a subarray by telescope type and plot each separately, so they appear in different colors.  We also calculate the radius using the mirror area (and exagerate it a bit).\n",
    "\n",
    "This is just for debugging and info, for any \"real\" use, a `visualization.ArrayDisplay` should be used"
   ]
  },
  {
   "cell_type": "code",
   "execution_count": 15,
   "metadata": {},
   "outputs": [
    {
     "data": {
      "image/png": "[encoded data removed]",
      "text/plain": [
       "<Figure size 576x576 with 1 Axes>"
      ]
     },
     "metadata": {
      "needs_background": "light"
     },
     "output_type": "display_data"
    }
   ],
   "source": [
    "subarray.peek()"
   ]
  },
  {
   "cell_type": "code",
   "execution_count": 16,
   "metadata": {},
   "outputs": [
    {
     "data": {
      "text/latex": [
       "$4.9235437 \\; \\mathrm{km^{2}}$"
      ],
      "text/plain": [
       "<Quantity 4.92354368 km2>"
      ]
     },
     "execution_count": 16,
     "metadata": {},
     "output_type": "execute_result"
    }
   ],
   "source": [
    "subarray.footprint"
   ]
  },
  {
   "cell_type": "markdown",
   "metadata": {},
   "source": [
    "## Get info about the subarray in general"
   ]
  },
  {
   "cell_type": "code",
   "execution_count": 17,
   "metadata": {},
   "outputs": [
    {
     "data": {
      "text/plain": [
       "[TelescopeDescription(type=MST, name=MST, optics=MST, camera=FlashCam),\n",
       " TelescopeDescription(type=SST, name=ASTRI, optics=ASTRI, camera=ASTRICam),\n",
       " TelescopeDescription(type=LST, name=LST, optics=LST, camera=LSTCam)]"
      ]
     },
     "execution_count": 17,
     "metadata": {},
     "output_type": "execute_result"
    }
   ],
   "source": [
    "subarray.telescope_types"
   ]
  },
  {
   "cell_type": "code",
   "execution_count": 18,
   "metadata": {},
   "outputs": [
    {
     "data": {
      "text/plain": [
       "[CameraGeometry(cam_id='ASTRICam', pix_type='rectangular', npix=2368, cam_rot=0.0 rad, pix_rot=0.0 deg),\n",
       " CameraGeometry(cam_id='FlashCam', pix_type='hexagonal', npix=1764, cam_rot=0.0 rad, pix_rot=0.0 deg),\n",
       " CameraGeometry(cam_id='LSTCam', pix_type='hexagonal', npix=1855, cam_rot=0.0 rad, pix_rot=100.89299992867878 deg)]"
      ]
     },
     "execution_count": 18,
     "metadata": {},
     "output_type": "execute_result"
    }
   ],
   "source": [
    "subarray.camera_types"
   ]
  },
  {
   "cell_type": "code",
   "execution_count": 19,
   "metadata": {},
   "outputs": [
    {
     "data": {
      "text/plain": [
       "[OpticsDescription(name=LST, equivalent_focal_length=28.00 m, num_mirros=1, mirror_area=386.73 m2),\n",
       " OpticsDescription(name=ASTRI, equivalent_focal_length=2.15 m, num_mirros=2, mirror_area=14.56 m2),\n",
       " OpticsDescription(name=MST, equivalent_focal_length=16.00 m, num_mirros=1, mirror_area=103.83 m2)]"
      ]
     },
     "execution_count": 19,
     "metadata": {},
     "output_type": "execute_result"
    }
   ],
   "source": [
    "subarray.optics_types"
   ]
  },
  {
   "cell_type": "code",
   "execution_count": 20,
   "metadata": {},
   "outputs": [
    {
     "data": {
      "text/latex": [
       "[$95^\\circ38{}^\\prime18.0015{}^{\\prime\\prime}$\n",
       " $117^\\circ35{}^\\prime31.273{}^{\\prime\\prime}$\n",
       " $15^\\circ56{}^\\prime32.527{}^{\\prime\\prime}$\n",
       " $166^\\circ24{}^\\prime15.7253{}^{\\prime\\prime}$\n",
       " $90^\\circ00{}^\\prime00{}^{\\prime\\prime}$\n",
       " $78^\\circ42{}^\\prime54.1682{}^{\\prime\\prime}$\n",
       " $101^\\circ17{}^\\prime05.8318{}^{\\prime\\prime}$\n",
       " $16^\\circ19{}^\\prime25.416{}^{\\prime\\prime}$\n",
       " $38^\\circ42{}^\\prime43.3493{}^{\\prime\\prime}$\n",
       " $138^\\circ18{}^\\prime26.2816{}^{\\prime\\prime}$\n",
       " $160^\\circ45{}^\\prime08.6066{}^{\\prime\\prime}$\n",
       " $45^\\circ50{}^\\prime11.5818{}^{\\prime\\prime}$\n",
       " $68^\\circ26{}^\\prime09.4249{}^{\\prime\\prime}$\n",
       " $11^\\circ27{}^\\prime33.9556{}^{\\prime\\prime}$\n",
       " $111^\\circ33{}^\\prime50.5751{}^{\\prime\\prime}$\n",
       " $134^\\circ09{}^\\prime48.4182{}^{\\prime\\prime}$\n",
       " $168^\\circ32{}^\\prime26.0444{}^{\\prime\\prime}$\n",
       " $78^\\circ41{}^\\prime43.7281{}^{\\prime\\prime}$\n",
       " $101^\\circ18{}^\\prime16.2719{}^{\\prime\\prime}$\n",
       " $16^\\circ02{}^\\prime24.2016{}^{\\prime\\prime}$\n",
       " $38^\\circ36{}^\\prime32.8491{}^{\\prime\\prime}$\n",
       " $141^\\circ23{}^\\prime27.1509{}^{\\prime\\prime}$\n",
       " $163^\\circ57{}^\\prime35.7984{}^{\\prime\\prime}$\n",
       " $45^\\circ48{}^\\prime42.2049{}^{\\prime\\prime}$\n",
       " $68^\\circ25{}^\\prime33.0227{}^{\\prime\\prime}$\n",
       " $11^\\circ21{}^\\prime07.5916{}^{\\prime\\prime}$\n",
       " $111^\\circ34{}^\\prime26.9773{}^{\\prime\\prime}$\n",
       " $134^\\circ11{}^\\prime17.7951{}^{\\prime\\prime}$\n",
       " $168^\\circ38{}^\\prime52.4084{}^{\\prime\\prime}$\n",
       " $49^\\circ01{}^\\prime53.8821{}^{\\prime\\prime}$\n",
       " $130^\\circ58{}^\\prime06.1179{}^{\\prime\\prime}$\n",
       " $153^\\circ34{}^\\prime33.8961{}^{\\prime\\prime}$\n",
       " $57^\\circ29{}^\\prime13.3129{}^{\\prime\\prime}$\n",
       " $80^\\circ06{}^\\prime19.0782{}^{\\prime\\prime}$\n",
       " $99^\\circ53{}^\\prime40.9218{}^{\\prime\\prime}$\n",
       " $122^\\circ30{}^\\prime46.6871{}^{\\prime\\prime}$\n",
       " $1^\\circ21{}^\\prime19.7674{}^{\\prime\\prime}$\n",
       " $23^\\circ51{}^\\prime29.0911{}^{\\prime\\prime}$\n",
       " $156^\\circ08{}^\\prime30.9089{}^{\\prime\\prime}$\n",
       " $178^\\circ38{}^\\prime40.2326{}^{\\prime\\prime}$\n",
       " $78^\\circ41{}^\\prime26.1515{}^{\\prime\\prime}$\n",
       " $101^\\circ18{}^\\prime33.8485{}^{\\prime\\prime}$\n",
       " $34^\\circ34{}^\\prime02.3914{}^{\\prime\\prime}$\n",
       " $57^\\circ11{}^\\prime07.3317{}^{\\prime\\prime}$\n",
       " $122^\\circ48{}^\\prime52.6683{}^{\\prime\\prime}$\n",
       " $145^\\circ25{}^\\prime57.6086{}^{\\prime\\prime}$\n",
       " $15^\\circ57{}^\\prime57.3762{}^{\\prime\\prime}$\n",
       " $38^\\circ34{}^\\prime56.9335{}^{\\prime\\prime}$\n",
       " $141^\\circ25{}^\\prime03.0665{}^{\\prime\\prime}$\n",
       " $164^\\circ02{}^\\prime02.6238{}^{\\prime\\prime}$\n",
       " $78^\\circ41{}^\\prime25.2281{}^{\\prime\\prime}$\n",
       " $101^\\circ18{}^\\prime34.7719{}^{\\prime\\prime}$\n",
       " $11^\\circ18{}^\\prime54.9244{}^{\\prime\\prime}$\n",
       " $168^\\circ41{}^\\prime05.0756{}^{\\prime\\prime}$\n",
       " $45^\\circ48{}^\\prime11.2618{}^{\\prime\\prime}$\n",
       " $68^\\circ25{}^\\prime20.4612{}^{\\prime\\prime}$\n",
       " $111^\\circ34{}^\\prime39.5388{}^{\\prime\\prime}$\n",
       " $134^\\circ11{}^\\prime48.7382{}^{\\prime\\prime}$\n",
       " $63^\\circ12{}^\\prime03.8214{}^{\\prime\\prime}$\n",
       " $85^\\circ49{}^\\prime13.7063{}^{\\prime\\prime}$\n",
       " $29^\\circ21{}^\\prime33.4806{}^{\\prime\\prime}$\n",
       " $51^\\circ58{}^\\prime41.6293{}^{\\prime\\prime}$\n",
       " $3^\\circ09{}^\\prime32.0002{}^{\\prime\\prime}$\n",
       " $25^\\circ45{}^\\prime53.6564{}^{\\prime\\prime}$\n",
       " $94^\\circ10{}^\\prime46.2937{}^{\\prime\\prime}$\n",
       " $116^\\circ47{}^\\prime56.1786{}^{\\prime\\prime}$\n",
       " $128^\\circ01{}^\\prime18.3707{}^{\\prime\\prime}$\n",
       " $150^\\circ38{}^\\prime26.5194{}^{\\prime\\prime}$\n",
       " $154^\\circ14{}^\\prime06.3436{}^{\\prime\\prime}$\n",
       " $176^\\circ50{}^\\prime27.9998{}^{\\prime\\prime}$\n",
       " $78^\\circ41{}^\\prime24.8214{}^{\\prime\\prime}$\n",
       " $101^\\circ18{}^\\prime35.1786{}^{\\prime\\prime}$\n",
       " $15^\\circ57{}^\\prime47.4141{}^{\\prime\\prime}$\n",
       " $38^\\circ34{}^\\prime53.4825{}^{\\prime\\prime}$\n",
       " $141^\\circ25{}^\\prime06.5175{}^{\\prime\\prime}$\n",
       " $164^\\circ02{}^\\prime12.5859{}^{\\prime\\prime}$\n",
       " $11^\\circ18{}^\\prime46.4095{}^{\\prime\\prime}$\n",
       " $168^\\circ41{}^\\prime13.5905{}^{\\prime\\prime}$\n",
       " $52^\\circ49{}^\\prime06.0105{}^{\\prime\\prime}$\n",
       " $75^\\circ26{}^\\prime16.4206{}^{\\prime\\prime}$\n",
       " $38^\\circ57{}^\\prime04.2653{}^{\\prime\\prime}$\n",
       " $61^\\circ34{}^\\prime14.3105{}^{\\prime\\prime}$\n",
       " $104^\\circ33{}^\\prime43.5794{}^{\\prime\\prime}$\n",
       " $127^\\circ10{}^\\prime53.9895{}^{\\prime\\prime}$\n",
       " $118^\\circ25{}^\\prime45.6895{}^{\\prime\\prime}$\n",
       " $141^\\circ02{}^\\prime55.7347{}^{\\prime\\prime}$\n",
       " $66^\\circ31{}^\\prime35.8563{}^{\\prime\\prime}$\n",
       " $89^\\circ08{}^\\prime46.5312{}^{\\prime\\prime}$\n",
       " $26^\\circ24{}^\\prime12.8535{}^{\\prime\\prime}$\n",
       " $49^\\circ01{}^\\prime22.348{}^{\\prime\\prime}$\n",
       " $90^\\circ51{}^\\prime13.4688{}^{\\prime\\prime}$\n",
       " $113^\\circ28{}^\\prime24.1437{}^{\\prime\\prime}$\n",
       " $130^\\circ58{}^\\prime37.652{}^{\\prime\\prime}$\n",
       " $153^\\circ35{}^\\prime47.1465{}^{\\prime\\prime}$\n",
       " $5^\\circ52{}^\\prime51.9148{}^{\\prime\\prime}$\n",
       " $28^\\circ29{}^\\prime50.4816{}^{\\prime\\prime}$\n",
       " $151^\\circ30{}^\\prime09.5184{}^{\\prime\\prime}$\n",
       " $174^\\circ07{}^\\prime08.0852{}^{\\prime\\prime}$]"
      ],
      "text/plain": [
       "<Angle [ 95.63833374, 117.59202028,  15.94236861, 166.40436814,\n",
       "         90.        ,  78.71504671, 101.28495329,  16.32372666,\n",
       "         38.71204146, 138.30730046, 160.75239071,  45.8365505 ,\n",
       "         68.43595137,  11.45943212, 111.56404863, 134.1634495 ,\n",
       "        168.54056788,  78.69548002, 101.30451998,  16.04005599,\n",
       "         38.60912476, 141.39087524, 163.95994401,  45.81172359,\n",
       "         68.42583965,  11.35210877, 111.57416035, 134.18827641,\n",
       "        168.64789123,  49.03163391, 130.96836609, 153.57608224,\n",
       "         57.48703137,  80.10529951,  99.89470049, 122.51296863,\n",
       "          1.35549094,  23.85808087, 156.14191913, 178.64450906,\n",
       "         78.69059764, 101.30940236,  34.56733094,  57.18536991,\n",
       "        122.81463009, 145.43266906,  15.96593785,  38.58248153,\n",
       "        141.41751847, 164.03406215,  78.69034114, 101.30965886,\n",
       "         11.31525677, 168.68474323,  45.80312828,  68.42235035,\n",
       "        111.57764965, 134.19687172,  63.2010615 ,  85.82047396,\n",
       "         29.35930018,  51.97823035,   3.15888895,  25.76490456,\n",
       "         94.17952604, 116.7989385 , 128.02176965, 150.64069982,\n",
       "        154.23509544, 176.84111105,  78.69022816, 101.30977184,\n",
       "         15.96317058,  38.58152291, 141.41847709, 164.03682942,\n",
       "         11.31289154, 168.68710846,  52.81833625,  75.4378946 ,\n",
       "         38.95118481,  61.5706418 , 104.5621054 , 127.18166375,\n",
       "        118.4293582 , 141.04881519,  66.52662676,  89.14625866,\n",
       "         26.40357041,  49.02287445,  90.85374134, 113.47337324,\n",
       "        130.97712555, 153.59642959,   5.88108744,  28.497356  ,\n",
       "        151.502644  , 174.11891256] deg>"
      ]
     },
     "execution_count": 20,
     "metadata": {},
     "output_type": "execute_result"
    }
   ],
   "source": [
    "from astropy.coordinates import SkyCoord\n",
    "from ctapipe.coordinates import GroundFrame\n",
    "center = SkyCoord(\"10.0 m\", \"2.0 m\", \"0.0 m\", frame='groundframe')\n",
    "coords = subarray.tel_coords  # a flat list of coordinates by tel_index\n",
    "coords.separation(center)"
   ]
  },
  {
   "cell_type": "markdown",
   "metadata": {},
   "source": [
    "## Telescope IDs vs Indices\n",
    "\n",
    "Note that `subarray.tel` is a dict mapped by `tel_id` (the indentifying number of a telescope).  It is  possible to have telescope IDs that do not start at 0, are not contiguouous (e.g. if a subarray is selected).  Some functions and properties like `tel_coords` are numpy arrays (not dicts) so they are not mapped to the telescope ID, but rather the *index* within this SubarrayDescription. To convert between the two concepts you can do:"
   ]
  },
  {
   "cell_type": "code",
   "execution_count": 21,
   "metadata": {},
   "outputs": [
    {
     "data": {
      "text/plain": [
       "array([ 0,  4, 22])"
      ]
     },
     "execution_count": 21,
     "metadata": {},
     "output_type": "execute_result"
    }
   ],
   "source": [
    "subarray.tel_ids_to_indices([1,5,23])"
   ]
  },
  {
   "cell_type": "markdown",
   "metadata": {},
   "source": [
    "or you can get the indexing array directly in numpy or dict form:"
   ]
  },
  {
   "cell_type": "code",
   "execution_count": 22,
   "metadata": {},
   "outputs": [
    {
     "data": {
      "text/plain": [
       "array([-1,  0,  1,  2,  3,  4,  5,  6,  7,  8,  9, 10, 11, 12, 13, 14, 15,\n",
       "       16, 17, 18, 19, 20, 21, 22, 23, 24, 25, 26, 27, 28, 29, 30, 31, 32,\n",
       "       33, 34, 35, 36, 37, 38, 39, 40, 41, 42, 43, 44, 45, 46, 47, 48, 49,\n",
       "       50, 51, 52, 53, 54, 55, 56, 57, 58, 59, 60, 61, 62, 63, 64, 65, 66,\n",
       "       67, 68, 69, 70, 71, 72, 73, 74, 75, 76, 77, 78, 79, 80, 81, 82, 83,\n",
       "       84, 85, 86, 87, 88, 89, 90, 91, 92, 93, 94, 95, 96, 97])"
      ]
     },
     "execution_count": 22,
     "metadata": {},
     "output_type": "execute_result"
    }
   ],
   "source": [
    "subarray.tel_index_array"
   ]
  },
  {
   "cell_type": "code",
   "execution_count": 23,
   "metadata": {},
   "outputs": [
    {
     "data": {
      "text/plain": [
       "array([ 0,  4, 22])"
      ]
     },
     "execution_count": 23,
     "metadata": {},
     "output_type": "execute_result"
    }
   ],
   "source": [
    "subarray.tel_index_array[[1,5,23]]"
   ]
  },
  {
   "cell_type": "code",
   "execution_count": 24,
   "metadata": {},
   "outputs": [
    {
     "data": {
      "text/plain": [
       "0"
      ]
     },
     "execution_count": 24,
     "metadata": {},
     "output_type": "execute_result"
    }
   ],
   "source": [
    "subarray.tel_indices[1]  # this is a dict of tel_id -> tel_index, so we can only do one at once"
   ]
  },
  {
   "cell_type": "code",
   "execution_count": 25,
   "metadata": {},
   "outputs": [
    {
     "data": {
      "text/plain": [
       "[5,\n",
       " 6,\n",
       " 7,\n",
       " 8,\n",
       " 9,\n",
       " 10,\n",
       " 11,\n",
       " 12,\n",
       " 13,\n",
       " 14,\n",
       " 15,\n",
       " 16,\n",
       " 17,\n",
       " 18,\n",
       " 19,\n",
       " 20,\n",
       " 21,\n",
       " 22,\n",
       " 23,\n",
       " 24,\n",
       " 25,\n",
       " 26,\n",
       " 27,\n",
       " 28,\n",
       " 29]"
      ]
     },
     "execution_count": 25,
     "metadata": {},
     "output_type": "execute_result"
    }
   ],
   "source": [
    "ids = subarray.get_tel_ids_for_type(subarray.telescope_types[0])\n",
    "ids"
   ]
  },
  {
   "cell_type": "code",
   "execution_count": 26,
   "metadata": {},
   "outputs": [
    {
     "data": {
      "text/plain": [
       "array([ 4,  5,  6,  7,  8,  9, 10, 11, 12, 13, 14, 15, 16, 17, 18, 19, 20,\n",
       "       21, 22, 23, 24, 25, 26, 27, 28])"
      ]
     },
     "execution_count": 26,
     "metadata": {},
     "output_type": "execute_result"
    }
   ],
   "source": [
    "idx = subarray.tel_ids_to_indices(ids)\n",
    "idx"
   ]
  },
  {
   "cell_type": "code",
   "execution_count": 27,
   "metadata": {},
   "outputs": [
    {
     "data": {
      "text/plain": [
       "<SkyCoord (GroundFrame): (x, y, z) in m\n",
       "    [(   0.        ,    0.        , 10.),\n",
       "     (   0.        ,  151.19999695, 10.),\n",
       "     (   0.        , -151.19999695, 10.),\n",
       "     ( 146.6559906 ,   75.59999847, 10.),\n",
       "     ( 146.6559906 ,  -75.59999847, 10.),\n",
       "     (-146.6559906 ,   85.59999847, 10.),\n",
       "     (-146.6559906 ,  -85.59999847, 10.),\n",
       "     ( 154.20500183,  238.47399902, 10.),\n",
       "     ( 154.20500183, -238.47399902, 10.),\n",
       "     ( 308.41000366,    0.        , 10.),\n",
       "     (-154.20500183,  238.47399902, 10.),\n",
       "     (-154.20500183, -238.47399902, 10.),\n",
       "     (-308.41000366,    0.        , 10.),\n",
       "     (   0.        ,  325.24200439, 10.),\n",
       "     (   0.        , -325.24200439, 10.),\n",
       "     ( 315.46801758,  162.6210022 , 10.),\n",
       "     ( 315.46801758, -162.6210022 , 10.),\n",
       "     (-315.46801758,  162.6210022 , 10.),\n",
       "     (-315.46801758, -162.6210022 , 10.),\n",
       "     ( 291.08499146,  450.15499878, 10.),\n",
       "     ( 291.08499146, -450.15499878, 10.),\n",
       "     ( 582.16998291,    0.        , 10.),\n",
       "     (-291.08499146,  450.15499878, 10.),\n",
       "     (-291.08499146, -450.15499878, 10.),\n",
       "     (-582.16998291,    0.        , 10.)]>"
      ]
     },
     "execution_count": 27,
     "metadata": {},
     "output_type": "execute_result"
    }
   ],
   "source": [
    "subarray.tel_coords[idx]"
   ]
  },
  {
   "cell_type": "markdown",
   "metadata": {},
   "source": [
    "so, with that method you can quickly get many telescope positions at once (the alternative is to use the dict `positions` which maps `tel_id` to a position on the ground"
   ]
  },
  {
   "cell_type": "code",
   "execution_count": 28,
   "metadata": {},
   "outputs": [
    {
     "data": {
      "text/latex": [
       "$[-20,~65,~16] \\; \\mathrm{m}$"
      ],
      "text/plain": [
       "<Quantity [-20.,  65.,  16.] m>"
      ]
     },
     "execution_count": 28,
     "metadata": {},
     "output_type": "execute_result"
    }
   ],
   "source": [
    "subarray.positions[1]"
   ]
  },
  {
   "cell_type": "markdown",
   "metadata": {},
   "source": [
    "## Manipulate the subarray With Pandas\n",
    "If you prefer working with *Pandas* `DataFrames` instead of *AstroPy* `Tables`, you can always convert between the two:"
   ]
  },
  {
   "cell_type": "code",
   "execution_count": 34,
   "metadata": {},
   "outputs": [
    {
     "data": {
      "text/html": [
       "<div>\n",
       "<style scoped>\n",
       "    .dataframe tbody tr th:only-of-type {\n",
       "        vertical-align: middle;\n",
       "    }\n",
       "\n",
       "    .dataframe tbody tr th {\n",
       "        vertical-align: top;\n",
       "    }\n",
       "\n",
       "    .dataframe thead th {\n",
       "        text-align: right;\n",
       "    }\n",
       "</style>\n",
       "<table border=\"1\" class=\"dataframe\">\n",
       "  <thead>\n",
       "    <tr style=\"text-align: right;\">\n",
       "      <th></th>\n",
       "      <th>pos_x</th>\n",
       "      <th>pos_y</th>\n",
       "      <th>pos_z</th>\n",
       "      <th>name</th>\n",
       "      <th>type</th>\n",
       "      <th>num_mirrors</th>\n",
       "      <th>camera_type</th>\n",
       "      <th>tel_description</th>\n",
       "    </tr>\n",
       "    <tr>\n",
       "      <th>tel_id</th>\n",
       "      <th></th>\n",
       "      <th></th>\n",
       "      <th></th>\n",
       "      <th></th>\n",
       "      <th></th>\n",
       "      <th></th>\n",
       "      <th></th>\n",
       "      <th></th>\n",
       "    </tr>\n",
       "  </thead>\n",
       "  <tbody>\n",
       "    <tr>\n",
       "      <th>1</th>\n",
       "      <td>-20.000000</td>\n",
       "      <td>65.000000</td>\n",
       "      <td>16.0</td>\n",
       "      <td>LST</td>\n",
       "      <td>LST</td>\n",
       "      <td>1</td>\n",
       "      <td>LSTCam</td>\n",
       "      <td>LST_LST_LSTCam</td>\n",
       "    </tr>\n",
       "    <tr>\n",
       "      <th>2</th>\n",
       "      <td>-20.000000</td>\n",
       "      <td>-65.000000</td>\n",
       "      <td>16.0</td>\n",
       "      <td>LST</td>\n",
       "      <td>LST</td>\n",
       "      <td>1</td>\n",
       "      <td>LSTCam</td>\n",
       "      <td>LST_LST_LSTCam</td>\n",
       "    </tr>\n",
       "    <tr>\n",
       "      <th>3</th>\n",
       "      <td>80.000000</td>\n",
       "      <td>0.000000</td>\n",
       "      <td>16.0</td>\n",
       "      <td>LST</td>\n",
       "      <td>LST</td>\n",
       "      <td>1</td>\n",
       "      <td>LSTCam</td>\n",
       "      <td>LST_LST_LSTCam</td>\n",
       "    </tr>\n",
       "    <tr>\n",
       "      <th>4</th>\n",
       "      <td>-120.000000</td>\n",
       "      <td>0.000000</td>\n",
       "      <td>16.0</td>\n",
       "      <td>LST</td>\n",
       "      <td>LST</td>\n",
       "      <td>1</td>\n",
       "      <td>LSTCam</td>\n",
       "      <td>LST_LST_LSTCam</td>\n",
       "    </tr>\n",
       "    <tr>\n",
       "      <th>5</th>\n",
       "      <td>0.000000</td>\n",
       "      <td>0.000000</td>\n",
       "      <td>10.0</td>\n",
       "      <td>MST</td>\n",
       "      <td>MST</td>\n",
       "      <td>1</td>\n",
       "      <td>FlashCam</td>\n",
       "      <td>MST_MST_FlashCam</td>\n",
       "    </tr>\n",
       "    <tr>\n",
       "      <th>6</th>\n",
       "      <td>0.000000</td>\n",
       "      <td>151.199997</td>\n",
       "      <td>10.0</td>\n",
       "      <td>MST</td>\n",
       "      <td>MST</td>\n",
       "      <td>1</td>\n",
       "      <td>FlashCam</td>\n",
       "      <td>MST_MST_FlashCam</td>\n",
       "    </tr>\n",
       "    <tr>\n",
       "      <th>7</th>\n",
       "      <td>0.000000</td>\n",
       "      <td>-151.199997</td>\n",
       "      <td>10.0</td>\n",
       "      <td>MST</td>\n",
       "      <td>MST</td>\n",
       "      <td>1</td>\n",
       "      <td>FlashCam</td>\n",
       "      <td>MST_MST_FlashCam</td>\n",
       "    </tr>\n",
       "    <tr>\n",
       "      <th>8</th>\n",
       "      <td>146.655991</td>\n",
       "      <td>75.599998</td>\n",
       "      <td>10.0</td>\n",
       "      <td>MST</td>\n",
       "      <td>MST</td>\n",
       "      <td>1</td>\n",
       "      <td>FlashCam</td>\n",
       "      <td>MST_MST_FlashCam</td>\n",
       "    </tr>\n",
       "    <tr>\n",
       "      <th>9</th>\n",
       "      <td>146.655991</td>\n",
       "      <td>-75.599998</td>\n",
       "      <td>10.0</td>\n",
       "      <td>MST</td>\n",
       "      <td>MST</td>\n",
       "      <td>1</td>\n",
       "      <td>FlashCam</td>\n",
       "      <td>MST_MST_FlashCam</td>\n",
       "    </tr>\n",
       "    <tr>\n",
       "      <th>10</th>\n",
       "      <td>-146.655991</td>\n",
       "      <td>85.599998</td>\n",
       "      <td>10.0</td>\n",
       "      <td>MST</td>\n",
       "      <td>MST</td>\n",
       "      <td>1</td>\n",
       "      <td>FlashCam</td>\n",
       "      <td>MST_MST_FlashCam</td>\n",
       "    </tr>\n",
       "    <tr>\n",
       "      <th>11</th>\n",
       "      <td>-146.655991</td>\n",
       "      <td>-85.599998</td>\n",
       "      <td>10.0</td>\n",
       "      <td>MST</td>\n",
       "      <td>MST</td>\n",
       "      <td>1</td>\n",
       "      <td>FlashCam</td>\n",
       "      <td>MST_MST_FlashCam</td>\n",
       "    </tr>\n",
       "    <tr>\n",
       "      <th>12</th>\n",
       "      <td>154.205002</td>\n",
       "      <td>238.473999</td>\n",
       "      <td>10.0</td>\n",
       "      <td>MST</td>\n",
       "      <td>MST</td>\n",
       "      <td>1</td>\n",
       "      <td>FlashCam</td>\n",
       "      <td>MST_MST_FlashCam</td>\n",
       "    </tr>\n",
       "    <tr>\n",
       "      <th>13</th>\n",
       "      <td>154.205002</td>\n",
       "      <td>-238.473999</td>\n",
       "      <td>10.0</td>\n",
       "      <td>MST</td>\n",
       "      <td>MST</td>\n",
       "      <td>1</td>\n",
       "      <td>FlashCam</td>\n",
       "      <td>MST_MST_FlashCam</td>\n",
       "    </tr>\n",
       "    <tr>\n",
       "      <th>14</th>\n",
       "      <td>308.410004</td>\n",
       "      <td>0.000000</td>\n",
       "      <td>10.0</td>\n",
       "      <td>MST</td>\n",
       "      <td>MST</td>\n",
       "      <td>1</td>\n",
       "      <td>FlashCam</td>\n",
       "      <td>MST_MST_FlashCam</td>\n",
       "    </tr>\n",
       "    <tr>\n",
       "      <th>15</th>\n",
       "      <td>-154.205002</td>\n",
       "      <td>238.473999</td>\n",
       "      <td>10.0</td>\n",
       "      <td>MST</td>\n",
       "      <td>MST</td>\n",
       "      <td>1</td>\n",
       "      <td>FlashCam</td>\n",
       "      <td>MST_MST_FlashCam</td>\n",
       "    </tr>\n",
       "    <tr>\n",
       "      <th>16</th>\n",
       "      <td>-154.205002</td>\n",
       "      <td>-238.473999</td>\n",
       "      <td>10.0</td>\n",
       "      <td>MST</td>\n",
       "      <td>MST</td>\n",
       "      <td>1</td>\n",
       "      <td>FlashCam</td>\n",
       "      <td>MST_MST_FlashCam</td>\n",
       "    </tr>\n",
       "    <tr>\n",
       "      <th>17</th>\n",
       "      <td>-308.410004</td>\n",
       "      <td>0.000000</td>\n",
       "      <td>10.0</td>\n",
       "      <td>MST</td>\n",
       "      <td>MST</td>\n",
       "      <td>1</td>\n",
       "      <td>FlashCam</td>\n",
       "      <td>MST_MST_FlashCam</td>\n",
       "    </tr>\n",
       "    <tr>\n",
       "      <th>18</th>\n",
       "      <td>0.000000</td>\n",
       "      <td>325.242004</td>\n",
       "      <td>10.0</td>\n",
       "      <td>MST</td>\n",
       "      <td>MST</td>\n",
       "      <td>1</td>\n",
       "      <td>FlashCam</td>\n",
       "      <td>MST_MST_FlashCam</td>\n",
       "    </tr>\n",
       "    <tr>\n",
       "      <th>19</th>\n",
       "      <td>0.000000</td>\n",
       "      <td>-325.242004</td>\n",
       "      <td>10.0</td>\n",
       "      <td>MST</td>\n",
       "      <td>MST</td>\n",
       "      <td>1</td>\n",
       "      <td>FlashCam</td>\n",
       "      <td>MST_MST_FlashCam</td>\n",
       "    </tr>\n",
       "    <tr>\n",
       "      <th>20</th>\n",
       "      <td>315.468018</td>\n",
       "      <td>162.621002</td>\n",
       "      <td>10.0</td>\n",
       "      <td>MST</td>\n",
       "      <td>MST</td>\n",
       "      <td>1</td>\n",
       "      <td>FlashCam</td>\n",
       "      <td>MST_MST_FlashCam</td>\n",
       "    </tr>\n",
       "    <tr>\n",
       "      <th>21</th>\n",
       "      <td>315.468018</td>\n",
       "      <td>-162.621002</td>\n",
       "      <td>10.0</td>\n",
       "      <td>MST</td>\n",
       "      <td>MST</td>\n",
       "      <td>1</td>\n",
       "      <td>FlashCam</td>\n",
       "      <td>MST_MST_FlashCam</td>\n",
       "    </tr>\n",
       "    <tr>\n",
       "      <th>22</th>\n",
       "      <td>-315.468018</td>\n",
       "      <td>162.621002</td>\n",
       "      <td>10.0</td>\n",
       "      <td>MST</td>\n",
       "      <td>MST</td>\n",
       "      <td>1</td>\n",
       "      <td>FlashCam</td>\n",
       "      <td>MST_MST_FlashCam</td>\n",
       "    </tr>\n",
       "    <tr>\n",
       "      <th>23</th>\n",
       "      <td>-315.468018</td>\n",
       "      <td>-162.621002</td>\n",
       "      <td>10.0</td>\n",
       "      <td>MST</td>\n",
       "      <td>MST</td>\n",
       "      <td>1</td>\n",
       "      <td>FlashCam</td>\n",
       "      <td>MST_MST_FlashCam</td>\n",
       "    </tr>\n",
       "    <tr>\n",
       "      <th>24</th>\n",
       "      <td>291.084991</td>\n",
       "      <td>450.154999</td>\n",
       "      <td>10.0</td>\n",
       "      <td>MST</td>\n",
       "      <td>MST</td>\n",
       "      <td>1</td>\n",
       "      <td>FlashCam</td>\n",
       "      <td>MST_MST_FlashCam</td>\n",
       "    </tr>\n",
       "    <tr>\n",
       "      <th>25</th>\n",
       "      <td>291.084991</td>\n",
       "      <td>-450.154999</td>\n",
       "      <td>10.0</td>\n",
       "      <td>MST</td>\n",
       "      <td>MST</td>\n",
       "      <td>1</td>\n",
       "      <td>FlashCam</td>\n",
       "      <td>MST_MST_FlashCam</td>\n",
       "    </tr>\n",
       "    <tr>\n",
       "      <th>26</th>\n",
       "      <td>582.169983</td>\n",
       "      <td>0.000000</td>\n",
       "      <td>10.0</td>\n",
       "      <td>MST</td>\n",
       "      <td>MST</td>\n",
       "      <td>1</td>\n",
       "      <td>FlashCam</td>\n",
       "      <td>MST_MST_FlashCam</td>\n",
       "    </tr>\n",
       "    <tr>\n",
       "      <th>27</th>\n",
       "      <td>-291.084991</td>\n",
       "      <td>450.154999</td>\n",
       "      <td>10.0</td>\n",
       "      <td>MST</td>\n",
       "      <td>MST</td>\n",
       "      <td>1</td>\n",
       "      <td>FlashCam</td>\n",
       "      <td>MST_MST_FlashCam</td>\n",
       "    </tr>\n",
       "    <tr>\n",
       "      <th>28</th>\n",
       "      <td>-291.084991</td>\n",
       "      <td>-450.154999</td>\n",
       "      <td>10.0</td>\n",
       "      <td>MST</td>\n",
       "      <td>MST</td>\n",
       "      <td>1</td>\n",
       "      <td>FlashCam</td>\n",
       "      <td>MST_MST_FlashCam</td>\n",
       "    </tr>\n",
       "    <tr>\n",
       "      <th>29</th>\n",
       "      <td>-582.169983</td>\n",
       "      <td>0.000000</td>\n",
       "      <td>10.0</td>\n",
       "      <td>MST</td>\n",
       "      <td>MST</td>\n",
       "      <td>1</td>\n",
       "      <td>FlashCam</td>\n",
       "      <td>MST_MST_FlashCam</td>\n",
       "    </tr>\n",
       "    <tr>\n",
       "      <th>30</th>\n",
       "      <td>205.500000</td>\n",
       "      <td>-158.899994</td>\n",
       "      <td>5.0</td>\n",
       "      <td>ASTRI</td>\n",
       "      <td>SST</td>\n",
       "      <td>2</td>\n",
       "      <td>ASTRICam</td>\n",
       "      <td>SST_ASTRI_ASTRICam</td>\n",
       "    </tr>\n",
       "    <tr>\n",
       "      <th>...</th>\n",
       "      <td>...</td>\n",
       "      <td>...</td>\n",
       "      <td>...</td>\n",
       "      <td>...</td>\n",
       "      <td>...</td>\n",
       "      <td>...</td>\n",
       "      <td>...</td>\n",
       "      <td>...</td>\n",
       "    </tr>\n",
       "    <tr>\n",
       "      <th>69</th>\n",
       "      <td>-883.377014</td>\n",
       "      <td>227.686996</td>\n",
       "      <td>5.0</td>\n",
       "      <td>ASTRI</td>\n",
       "      <td>SST</td>\n",
       "      <td>2</td>\n",
       "      <td>ASTRICam</td>\n",
       "      <td>SST_ASTRI_ASTRICam</td>\n",
       "    </tr>\n",
       "    <tr>\n",
       "      <th>70</th>\n",
       "      <td>-883.377014</td>\n",
       "      <td>-227.686996</td>\n",
       "      <td>5.0</td>\n",
       "      <td>ASTRI</td>\n",
       "      <td>SST</td>\n",
       "      <td>2</td>\n",
       "      <td>ASTRICam</td>\n",
       "      <td>SST_ASTRI_ASTRICam</td>\n",
       "    </tr>\n",
       "    <tr>\n",
       "      <th>71</th>\n",
       "      <td>0.000000</td>\n",
       "      <td>944.301025</td>\n",
       "      <td>5.0</td>\n",
       "      <td>ASTRI</td>\n",
       "      <td>SST</td>\n",
       "      <td>2</td>\n",
       "      <td>ASTRICam</td>\n",
       "      <td>SST_ASTRI_ASTRICam</td>\n",
       "    </tr>\n",
       "    <tr>\n",
       "      <th>72</th>\n",
       "      <td>0.000000</td>\n",
       "      <td>-944.301025</td>\n",
       "      <td>5.0</td>\n",
       "      <td>ASTRI</td>\n",
       "      <td>SST</td>\n",
       "      <td>2</td>\n",
       "      <td>ASTRICam</td>\n",
       "      <td>SST_ASTRI_ASTRICam</td>\n",
       "    </tr>\n",
       "    <tr>\n",
       "      <th>73</th>\n",
       "      <td>915.922974</td>\n",
       "      <td>472.151001</td>\n",
       "      <td>5.0</td>\n",
       "      <td>ASTRI</td>\n",
       "      <td>SST</td>\n",
       "      <td>2</td>\n",
       "      <td>ASTRICam</td>\n",
       "      <td>SST_ASTRI_ASTRICam</td>\n",
       "    </tr>\n",
       "    <tr>\n",
       "      <th>74</th>\n",
       "      <td>915.922974</td>\n",
       "      <td>-472.151001</td>\n",
       "      <td>5.0</td>\n",
       "      <td>ASTRI</td>\n",
       "      <td>SST</td>\n",
       "      <td>2</td>\n",
       "      <td>ASTRICam</td>\n",
       "      <td>SST_ASTRI_ASTRICam</td>\n",
       "    </tr>\n",
       "    <tr>\n",
       "      <th>75</th>\n",
       "      <td>-915.922974</td>\n",
       "      <td>472.151001</td>\n",
       "      <td>5.0</td>\n",
       "      <td>ASTRI</td>\n",
       "      <td>SST</td>\n",
       "      <td>2</td>\n",
       "      <td>ASTRICam</td>\n",
       "      <td>SST_ASTRI_ASTRICam</td>\n",
       "    </tr>\n",
       "    <tr>\n",
       "      <th>76</th>\n",
       "      <td>-915.922974</td>\n",
       "      <td>-472.151001</td>\n",
       "      <td>5.0</td>\n",
       "      <td>ASTRI</td>\n",
       "      <td>SST</td>\n",
       "      <td>2</td>\n",
       "      <td>ASTRICam</td>\n",
       "      <td>SST_ASTRI_ASTRICam</td>\n",
       "    </tr>\n",
       "    <tr>\n",
       "      <th>77</th>\n",
       "      <td>1100.000000</td>\n",
       "      <td>0.000000</td>\n",
       "      <td>5.0</td>\n",
       "      <td>ASTRI</td>\n",
       "      <td>SST</td>\n",
       "      <td>2</td>\n",
       "      <td>ASTRICam</td>\n",
       "      <td>SST_ASTRI_ASTRICam</td>\n",
       "    </tr>\n",
       "    <tr>\n",
       "      <th>78</th>\n",
       "      <td>-1100.000000</td>\n",
       "      <td>0.000000</td>\n",
       "      <td>5.0</td>\n",
       "      <td>ASTRI</td>\n",
       "      <td>SST</td>\n",
       "      <td>2</td>\n",
       "      <td>ASTRICam</td>\n",
       "      <td>SST_ASTRI_ASTRICam</td>\n",
       "    </tr>\n",
       "    <tr>\n",
       "      <th>79</th>\n",
       "      <td>471.011993</td>\n",
       "      <td>971.210022</td>\n",
       "      <td>5.0</td>\n",
       "      <td>ASTRI</td>\n",
       "      <td>SST</td>\n",
       "      <td>2</td>\n",
       "      <td>ASTRICam</td>\n",
       "      <td>SST_ASTRI_ASTRICam</td>\n",
       "    </tr>\n",
       "    <tr>\n",
       "      <th>80</th>\n",
       "      <td>471.011993</td>\n",
       "      <td>-971.210022</td>\n",
       "      <td>5.0</td>\n",
       "      <td>ASTRI</td>\n",
       "      <td>SST</td>\n",
       "      <td>2</td>\n",
       "      <td>ASTRICam</td>\n",
       "      <td>SST_ASTRI_ASTRICam</td>\n",
       "    </tr>\n",
       "    <tr>\n",
       "      <th>81</th>\n",
       "      <td>706.517944</td>\n",
       "      <td>849.808960</td>\n",
       "      <td>5.0</td>\n",
       "      <td>ASTRI</td>\n",
       "      <td>SST</td>\n",
       "      <td>2</td>\n",
       "      <td>ASTRICam</td>\n",
       "      <td>SST_ASTRI_ASTRICam</td>\n",
       "    </tr>\n",
       "    <tr>\n",
       "      <th>82</th>\n",
       "      <td>706.517944</td>\n",
       "      <td>-849.808960</td>\n",
       "      <td>5.0</td>\n",
       "      <td>ASTRI</td>\n",
       "      <td>SST</td>\n",
       "      <td>2</td>\n",
       "      <td>ASTRICam</td>\n",
       "      <td>SST_ASTRI_ASTRICam</td>\n",
       "    </tr>\n",
       "    <tr>\n",
       "      <th>83</th>\n",
       "      <td>-471.011993</td>\n",
       "      <td>971.210022</td>\n",
       "      <td>5.0</td>\n",
       "      <td>ASTRI</td>\n",
       "      <td>SST</td>\n",
       "      <td>2</td>\n",
       "      <td>ASTRICam</td>\n",
       "      <td>SST_ASTRI_ASTRICam</td>\n",
       "    </tr>\n",
       "    <tr>\n",
       "      <th>84</th>\n",
       "      <td>-471.011993</td>\n",
       "      <td>-971.210022</td>\n",
       "      <td>5.0</td>\n",
       "      <td>ASTRI</td>\n",
       "      <td>SST</td>\n",
       "      <td>2</td>\n",
       "      <td>ASTRICam</td>\n",
       "      <td>SST_ASTRI_ASTRICam</td>\n",
       "    </tr>\n",
       "    <tr>\n",
       "      <th>85</th>\n",
       "      <td>-706.517944</td>\n",
       "      <td>849.808960</td>\n",
       "      <td>5.0</td>\n",
       "      <td>ASTRI</td>\n",
       "      <td>SST</td>\n",
       "      <td>2</td>\n",
       "      <td>ASTRICam</td>\n",
       "      <td>SST_ASTRI_ASTRICam</td>\n",
       "    </tr>\n",
       "    <tr>\n",
       "      <th>86</th>\n",
       "      <td>-706.517944</td>\n",
       "      <td>-849.808960</td>\n",
       "      <td>5.0</td>\n",
       "      <td>ASTRI</td>\n",
       "      <td>SST</td>\n",
       "      <td>2</td>\n",
       "      <td>ASTRICam</td>\n",
       "      <td>SST_ASTRI_ASTRICam</td>\n",
       "    </tr>\n",
       "    <tr>\n",
       "      <th>87</th>\n",
       "      <td>239.196991</td>\n",
       "      <td>1109.734985</td>\n",
       "      <td>5.0</td>\n",
       "      <td>ASTRI</td>\n",
       "      <td>SST</td>\n",
       "      <td>2</td>\n",
       "      <td>ASTRICam</td>\n",
       "      <td>SST_ASTRI_ASTRICam</td>\n",
       "    </tr>\n",
       "    <tr>\n",
       "      <th>88</th>\n",
       "      <td>239.196991</td>\n",
       "      <td>-1109.734985</td>\n",
       "      <td>5.0</td>\n",
       "      <td>ASTRI</td>\n",
       "      <td>SST</td>\n",
       "      <td>2</td>\n",
       "      <td>ASTRICam</td>\n",
       "      <td>SST_ASTRI_ASTRICam</td>\n",
       "    </tr>\n",
       "    <tr>\n",
       "      <th>89</th>\n",
       "      <td>956.787048</td>\n",
       "      <td>739.822998</td>\n",
       "      <td>5.0</td>\n",
       "      <td>ASTRI</td>\n",
       "      <td>SST</td>\n",
       "      <td>2</td>\n",
       "      <td>ASTRICam</td>\n",
       "      <td>SST_ASTRI_ASTRICam</td>\n",
       "    </tr>\n",
       "    <tr>\n",
       "      <th>90</th>\n",
       "      <td>956.787048</td>\n",
       "      <td>-739.822998</td>\n",
       "      <td>5.0</td>\n",
       "      <td>ASTRI</td>\n",
       "      <td>SST</td>\n",
       "      <td>2</td>\n",
       "      <td>ASTRICam</td>\n",
       "      <td>SST_ASTRI_ASTRICam</td>\n",
       "    </tr>\n",
       "    <tr>\n",
       "      <th>91</th>\n",
       "      <td>-239.196991</td>\n",
       "      <td>1109.734985</td>\n",
       "      <td>5.0</td>\n",
       "      <td>ASTRI</td>\n",
       "      <td>SST</td>\n",
       "      <td>2</td>\n",
       "      <td>ASTRICam</td>\n",
       "      <td>SST_ASTRI_ASTRICam</td>\n",
       "    </tr>\n",
       "    <tr>\n",
       "      <th>92</th>\n",
       "      <td>-239.196991</td>\n",
       "      <td>-1109.734985</td>\n",
       "      <td>5.0</td>\n",
       "      <td>ASTRI</td>\n",
       "      <td>SST</td>\n",
       "      <td>2</td>\n",
       "      <td>ASTRICam</td>\n",
       "      <td>SST_ASTRI_ASTRICam</td>\n",
       "    </tr>\n",
       "    <tr>\n",
       "      <th>93</th>\n",
       "      <td>-956.787048</td>\n",
       "      <td>739.822998</td>\n",
       "      <td>5.0</td>\n",
       "      <td>ASTRI</td>\n",
       "      <td>SST</td>\n",
       "      <td>2</td>\n",
       "      <td>ASTRICam</td>\n",
       "      <td>SST_ASTRI_ASTRICam</td>\n",
       "    </tr>\n",
       "    <tr>\n",
       "      <th>94</th>\n",
       "      <td>-956.787048</td>\n",
       "      <td>-739.822998</td>\n",
       "      <td>5.0</td>\n",
       "      <td>ASTRI</td>\n",
       "      <td>SST</td>\n",
       "      <td>2</td>\n",
       "      <td>ASTRICam</td>\n",
       "      <td>SST_ASTRI_ASTRICam</td>\n",
       "    </tr>\n",
       "    <tr>\n",
       "      <th>95</th>\n",
       "      <td>1195.984009</td>\n",
       "      <td>369.911987</td>\n",
       "      <td>5.0</td>\n",
       "      <td>ASTRI</td>\n",
       "      <td>SST</td>\n",
       "      <td>2</td>\n",
       "      <td>ASTRICam</td>\n",
       "      <td>SST_ASTRI_ASTRICam</td>\n",
       "    </tr>\n",
       "    <tr>\n",
       "      <th>96</th>\n",
       "      <td>1195.984009</td>\n",
       "      <td>-369.911987</td>\n",
       "      <td>5.0</td>\n",
       "      <td>ASTRI</td>\n",
       "      <td>SST</td>\n",
       "      <td>2</td>\n",
       "      <td>ASTRICam</td>\n",
       "      <td>SST_ASTRI_ASTRICam</td>\n",
       "    </tr>\n",
       "    <tr>\n",
       "      <th>97</th>\n",
       "      <td>-1195.984009</td>\n",
       "      <td>369.911987</td>\n",
       "      <td>5.0</td>\n",
       "      <td>ASTRI</td>\n",
       "      <td>SST</td>\n",
       "      <td>2</td>\n",
       "      <td>ASTRICam</td>\n",
       "      <td>SST_ASTRI_ASTRICam</td>\n",
       "    </tr>\n",
       "    <tr>\n",
       "      <th>98</th>\n",
       "      <td>-1195.984009</td>\n",
       "      <td>-369.911987</td>\n",
       "      <td>5.0</td>\n",
       "      <td>ASTRI</td>\n",
       "      <td>SST</td>\n",
       "      <td>2</td>\n",
       "      <td>ASTRICam</td>\n",
       "      <td>SST_ASTRI_ASTRICam</td>\n",
       "    </tr>\n",
       "  </tbody>\n",
       "</table>\n",
       "<p>98 rows × 8 columns</p>\n",
       "</div>"
      ],
      "text/plain": [
       "              pos_x        pos_y  pos_z   name type  num_mirrors camera_type  \\\n",
       "tel_id                                                                         \n",
       "1        -20.000000    65.000000   16.0    LST  LST            1      LSTCam   \n",
       "2        -20.000000   -65.000000   16.0    LST  LST            1      LSTCam   \n",
       "3         80.000000     0.000000   16.0    LST  LST            1      LSTCam   \n",
       "4       -120.000000     0.000000   16.0    LST  LST            1      LSTCam   \n",
       "5          0.000000     0.000000   10.0    MST  MST            1    FlashCam   \n",
       "6          0.000000   151.199997   10.0    MST  MST            1    FlashCam   \n",
       "7          0.000000  -151.199997   10.0    MST  MST            1    FlashCam   \n",
       "8        146.655991    75.599998   10.0    MST  MST            1    FlashCam   \n",
       "9        146.655991   -75.599998   10.0    MST  MST            1    FlashCam   \n",
       "10      -146.655991    85.599998   10.0    MST  MST            1    FlashCam   \n",
       "11      -146.655991   -85.599998   10.0    MST  MST            1    FlashCam   \n",
       "12       154.205002   238.473999   10.0    MST  MST            1    FlashCam   \n",
       "13       154.205002  -238.473999   10.0    MST  MST            1    FlashCam   \n",
       "14       308.410004     0.000000   10.0    MST  MST            1    FlashCam   \n",
       "15      -154.205002   238.473999   10.0    MST  MST            1    FlashCam   \n",
       "16      -154.205002  -238.473999   10.0    MST  MST            1    FlashCam   \n",
       "17      -308.410004     0.000000   10.0    MST  MST            1    FlashCam   \n",
       "18         0.000000   325.242004   10.0    MST  MST            1    FlashCam   \n",
       "19         0.000000  -325.242004   10.0    MST  MST            1    FlashCam   \n",
       "20       315.468018   162.621002   10.0    MST  MST            1    FlashCam   \n",
       "21       315.468018  -162.621002   10.0    MST  MST            1    FlashCam   \n",
       "22      -315.468018   162.621002   10.0    MST  MST            1    FlashCam   \n",
       "23      -315.468018  -162.621002   10.0    MST  MST            1    FlashCam   \n",
       "24       291.084991   450.154999   10.0    MST  MST            1    FlashCam   \n",
       "25       291.084991  -450.154999   10.0    MST  MST            1    FlashCam   \n",
       "26       582.169983     0.000000   10.0    MST  MST            1    FlashCam   \n",
       "27      -291.084991   450.154999   10.0    MST  MST            1    FlashCam   \n",
       "28      -291.084991  -450.154999   10.0    MST  MST            1    FlashCam   \n",
       "29      -582.169983     0.000000   10.0    MST  MST            1    FlashCam   \n",
       "30       205.500000  -158.899994    5.0  ASTRI  SST            2    ASTRICam   \n",
       "...             ...          ...    ...    ...  ...          ...         ...   \n",
       "69      -883.377014   227.686996    5.0  ASTRI  SST            2    ASTRICam   \n",
       "70      -883.377014  -227.686996    5.0  ASTRI  SST            2    ASTRICam   \n",
       "71         0.000000   944.301025    5.0  ASTRI  SST            2    ASTRICam   \n",
       "72         0.000000  -944.301025    5.0  ASTRI  SST            2    ASTRICam   \n",
       "73       915.922974   472.151001    5.0  ASTRI  SST            2    ASTRICam   \n",
       "74       915.922974  -472.151001    5.0  ASTRI  SST            2    ASTRICam   \n",
       "75      -915.922974   472.151001    5.0  ASTRI  SST            2    ASTRICam   \n",
       "76      -915.922974  -472.151001    5.0  ASTRI  SST            2    ASTRICam   \n",
       "77      1100.000000     0.000000    5.0  ASTRI  SST            2    ASTRICam   \n",
       "78     -1100.000000     0.000000    5.0  ASTRI  SST            2    ASTRICam   \n",
       "79       471.011993   971.210022    5.0  ASTRI  SST            2    ASTRICam   \n",
       "80       471.011993  -971.210022    5.0  ASTRI  SST            2    ASTRICam   \n",
       "81       706.517944   849.808960    5.0  ASTRI  SST            2    ASTRICam   \n",
       "82       706.517944  -849.808960    5.0  ASTRI  SST            2    ASTRICam   \n",
       "83      -471.011993   971.210022    5.0  ASTRI  SST            2    ASTRICam   \n",
       "84      -471.011993  -971.210022    5.0  ASTRI  SST            2    ASTRICam   \n",
       "85      -706.517944   849.808960    5.0  ASTRI  SST            2    ASTRICam   \n",
       "86      -706.517944  -849.808960    5.0  ASTRI  SST            2    ASTRICam   \n",
       "87       239.196991  1109.734985    5.0  ASTRI  SST            2    ASTRICam   \n",
       "88       239.196991 -1109.734985    5.0  ASTRI  SST            2    ASTRICam   \n",
       "89       956.787048   739.822998    5.0  ASTRI  SST            2    ASTRICam   \n",
       "90       956.787048  -739.822998    5.0  ASTRI  SST            2    ASTRICam   \n",
       "91      -239.196991  1109.734985    5.0  ASTRI  SST            2    ASTRICam   \n",
       "92      -239.196991 -1109.734985    5.0  ASTRI  SST            2    ASTRICam   \n",
       "93      -956.787048   739.822998    5.0  ASTRI  SST            2    ASTRICam   \n",
       "94      -956.787048  -739.822998    5.0  ASTRI  SST            2    ASTRICam   \n",
       "95      1195.984009   369.911987    5.0  ASTRI  SST            2    ASTRICam   \n",
       "96      1195.984009  -369.911987    5.0  ASTRI  SST            2    ASTRICam   \n",
       "97     -1195.984009   369.911987    5.0  ASTRI  SST            2    ASTRICam   \n",
       "98     -1195.984009  -369.911987    5.0  ASTRI  SST            2    ASTRICam   \n",
       "\n",
       "           tel_description  \n",
       "tel_id                      \n",
       "1           LST_LST_LSTCam  \n",
       "2           LST_LST_LSTCam  \n",
       "3           LST_LST_LSTCam  \n",
       "4           LST_LST_LSTCam  \n",
       "5         MST_MST_FlashCam  \n",
       "6         MST_MST_FlashCam  \n",
       "7         MST_MST_FlashCam  \n",
       "8         MST_MST_FlashCam  \n",
       "9         MST_MST_FlashCam  \n",
       "10        MST_MST_FlashCam  \n",
       "11        MST_MST_FlashCam  \n",
       "12        MST_MST_FlashCam  \n",
       "13        MST_MST_FlashCam  \n",
       "14        MST_MST_FlashCam  \n",
       "15        MST_MST_FlashCam  \n",
       "16        MST_MST_FlashCam  \n",
       "17        MST_MST_FlashCam  \n",
       "18        MST_MST_FlashCam  \n",
       "19        MST_MST_FlashCam  \n",
       "20        MST_MST_FlashCam  \n",
       "21        MST_MST_FlashCam  \n",
       "22        MST_MST_FlashCam  \n",
       "23        MST_MST_FlashCam  \n",
       "24        MST_MST_FlashCam  \n",
       "25        MST_MST_FlashCam  \n",
       "26        MST_MST_FlashCam  \n",
       "27        MST_MST_FlashCam  \n",
       "28        MST_MST_FlashCam  \n",
       "29        MST_MST_FlashCam  \n",
       "30      SST_ASTRI_ASTRICam  \n",
       "...                    ...  \n",
       "69      SST_ASTRI_ASTRICam  \n",
       "70      SST_ASTRI_ASTRICam  \n",
       "71      SST_ASTRI_ASTRICam  \n",
       "72      SST_ASTRI_ASTRICam  \n",
       "73      SST_ASTRI_ASTRICam  \n",
       "74      SST_ASTRI_ASTRICam  \n",
       "75      SST_ASTRI_ASTRICam  \n",
       "76      SST_ASTRI_ASTRICam  \n",
       "77      SST_ASTRI_ASTRICam  \n",
       "78      SST_ASTRI_ASTRICam  \n",
       "79      SST_ASTRI_ASTRICam  \n",
       "80      SST_ASTRI_ASTRICam  \n",
       "81      SST_ASTRI_ASTRICam  \n",
       "82      SST_ASTRI_ASTRICam  \n",
       "83      SST_ASTRI_ASTRICam  \n",
       "84      SST_ASTRI_ASTRICam  \n",
       "85      SST_ASTRI_ASTRICam  \n",
       "86      SST_ASTRI_ASTRICam  \n",
       "87      SST_ASTRI_ASTRICam  \n",
       "88      SST_ASTRI_ASTRICam  \n",
       "89      SST_ASTRI_ASTRICam  \n",
       "90      SST_ASTRI_ASTRICam  \n",
       "91      SST_ASTRI_ASTRICam  \n",
       "92      SST_ASTRI_ASTRICam  \n",
       "93      SST_ASTRI_ASTRICam  \n",
       "94      SST_ASTRI_ASTRICam  \n",
       "95      SST_ASTRI_ASTRICam  \n",
       "96      SST_ASTRI_ASTRICam  \n",
       "97      SST_ASTRI_ASTRICam  \n",
       "98      SST_ASTRI_ASTRICam  \n",
       "\n",
       "[98 rows x 8 columns]"
      ]
     },
     "execution_count": 34,
     "metadata": {},
     "output_type": "execute_result"
    }
   ],
   "source": [
    "tel_string = \"LST_LST_LSTCam\" # an LST with LST structure and LSTCam camera\n",
    "df = subarray.to_table().to_pandas()\n",
    "df.set_index('tel_id')"
   ]
  },
  {
   "cell_type": "code",
   "execution_count": 35,
   "metadata": {},
   "outputs": [
    {
     "data": {
      "text/plain": [
       "{'LST_LST_LSTCam': Int64Index([0, 1, 2, 3], dtype='int64'),\n",
       " 'MST_MST_FlashCam': Int64Index([ 4,  5,  6,  7,  8,  9, 10, 11, 12, 13, 14, 15, 16, 17, 18, 19, 20,\n",
       "             21, 22, 23, 24, 25, 26, 27, 28],\n",
       "            dtype='int64'),\n",
       " 'SST_ASTRI_ASTRICam': Int64Index([29, 30, 31, 32, 33, 34, 35, 36, 37, 38, 39, 40, 41, 42, 43, 44, 45,\n",
       "             46, 47, 48, 49, 50, 51, 52, 53, 54, 55, 56, 57, 58, 59, 60, 61, 62,\n",
       "             63, 64, 65, 66, 67, 68, 69, 70, 71, 72, 73, 74, 75, 76, 77, 78, 79,\n",
       "             80, 81, 82, 83, 84, 85, 86, 87, 88, 89, 90, 91, 92, 93, 94, 95, 96,\n",
       "             97],\n",
       "            dtype='int64')}"
      ]
     },
     "execution_count": 35,
     "metadata": {},
     "output_type": "execute_result"
    }
   ],
   "source": [
    "g = df.groupby('tel_description')\n",
    "g.groups"
   ]
  },
  {
   "cell_type": "code",
   "execution_count": 36,
   "metadata": {},
   "outputs": [
    {
     "data": {
      "text/plain": [
       "Int64Index([0, 1, 2, 3], dtype='int64')"
      ]
     },
     "execution_count": 36,
     "metadata": {},
     "output_type": "execute_result"
    }
   ],
   "source": [
    "g.groups[tel_string]"
   ]
  },
  {
   "cell_type": "code",
   "execution_count": 37,
   "metadata": {},
   "outputs": [
    {
     "data": {
      "text/html": [
       "<div>\n",
       "<style scoped>\n",
       "    .dataframe tbody tr th:only-of-type {\n",
       "        vertical-align: middle;\n",
       "    }\n",
       "\n",
       "    .dataframe tbody tr th {\n",
       "        vertical-align: top;\n",
       "    }\n",
       "\n",
       "    .dataframe thead th {\n",
       "        text-align: right;\n",
       "    }\n",
       "</style>\n",
       "<table border=\"1\" class=\"dataframe\">\n",
       "  <thead>\n",
       "    <tr style=\"text-align: right;\">\n",
       "      <th></th>\n",
       "      <th>tel_id</th>\n",
       "      <th>pos_x</th>\n",
       "      <th>pos_y</th>\n",
       "      <th>pos_z</th>\n",
       "      <th>name</th>\n",
       "      <th>type</th>\n",
       "      <th>num_mirrors</th>\n",
       "      <th>camera_type</th>\n",
       "      <th>tel_description</th>\n",
       "    </tr>\n",
       "  </thead>\n",
       "  <tbody>\n",
       "    <tr>\n",
       "      <th>0</th>\n",
       "      <td>1</td>\n",
       "      <td>-20.0</td>\n",
       "      <td>65.0</td>\n",
       "      <td>16.0</td>\n",
       "      <td>LST</td>\n",
       "      <td>LST</td>\n",
       "      <td>1</td>\n",
       "      <td>LSTCam</td>\n",
       "      <td>LST_LST_LSTCam</td>\n",
       "    </tr>\n",
       "    <tr>\n",
       "      <th>1</th>\n",
       "      <td>2</td>\n",
       "      <td>-20.0</td>\n",
       "      <td>-65.0</td>\n",
       "      <td>16.0</td>\n",
       "      <td>LST</td>\n",
       "      <td>LST</td>\n",
       "      <td>1</td>\n",
       "      <td>LSTCam</td>\n",
       "      <td>LST_LST_LSTCam</td>\n",
       "    </tr>\n",
       "    <tr>\n",
       "      <th>2</th>\n",
       "      <td>3</td>\n",
       "      <td>80.0</td>\n",
       "      <td>0.0</td>\n",
       "      <td>16.0</td>\n",
       "      <td>LST</td>\n",
       "      <td>LST</td>\n",
       "      <td>1</td>\n",
       "      <td>LSTCam</td>\n",
       "      <td>LST_LST_LSTCam</td>\n",
       "    </tr>\n",
       "    <tr>\n",
       "      <th>3</th>\n",
       "      <td>4</td>\n",
       "      <td>-120.0</td>\n",
       "      <td>0.0</td>\n",
       "      <td>16.0</td>\n",
       "      <td>LST</td>\n",
       "      <td>LST</td>\n",
       "      <td>1</td>\n",
       "      <td>LSTCam</td>\n",
       "      <td>LST_LST_LSTCam</td>\n",
       "    </tr>\n",
       "  </tbody>\n",
       "</table>\n",
       "</div>"
      ],
      "text/plain": [
       "   tel_id  pos_x  pos_y  pos_z name type  num_mirrors camera_type  \\\n",
       "0       1  -20.0   65.0   16.0  LST  LST            1      LSTCam   \n",
       "1       2  -20.0  -65.0   16.0  LST  LST            1      LSTCam   \n",
       "2       3   80.0    0.0   16.0  LST  LST            1      LSTCam   \n",
       "3       4 -120.0    0.0   16.0  LST  LST            1      LSTCam   \n",
       "\n",
       "  tel_description  \n",
       "0  LST_LST_LSTCam  \n",
       "1  LST_LST_LSTCam  \n",
       "2  LST_LST_LSTCam  \n",
       "3  LST_LST_LSTCam  "
      ]
     },
     "execution_count": 37,
     "metadata": {},
     "output_type": "execute_result"
    }
   ],
   "source": [
    "df.loc[g.groups[tel_string]]"
   ]
  },
  {
   "cell_type": "code",
   "execution_count": 38,
   "metadata": {},
   "outputs": [
    {
     "name": "stdout",
     "output_type": "stream",
     "text": [
      "Subarray : LSTs\n",
      "Num Tels : 4\n",
      "Footprint: 0.05 km2\n",
      "\n",
      "                TYPE  Num IDmin  IDmax\n",
      "=====================================\n",
      "      LST_LST_LSTCam    4    1 ..   4\n"
     ]
    },
    {
     "data": {
      "text/latex": [
       "$0.045238934 \\; \\mathrm{km^{2}}$"
      ],
      "text/plain": [
       "<Quantity 0.04523893 km2>"
      ]
     },
     "execution_count": 38,
     "metadata": {},
     "output_type": "execute_result"
    },
    {
     "data": {
      "image/png": "[encoded data removed]",
      "text/plain": [
       "<Figure size 576x576 with 1 Axes>"
      ]
     },
     "metadata": {
      "needs_background": "light"
     },
     "output_type": "display_data"
    }
   ],
   "source": [
    "lsts = subarray.select_subarray(\"LSTs\", df.loc[g.groups[tel_string]]['tel_id'])\n",
    "lsts.info()\n",
    "lsts.peek()\n",
    "lsts.footprint"
   ]
  },
  {
   "cell_type": "code",
   "execution_count": null,
   "metadata": {},
   "outputs": [],
   "source": []
  },
  {
   "cell_type": "code",
   "execution_count": null,
   "metadata": {},
   "outputs": [],
   "source": []
  }
 ],
 "metadata": {
  "kernelspec": {
   "display_name": "Python 3",
   "language": "python",
   "name": "python3"
  },
  "language_info": {
   "codemirror_mode": {
    "name": "ipython",
    "version": 3
   },
   "file_extension": ".py",
   "mimetype": "text/x-python",
   "name": "python",
   "nbconvert_exporter": "python",
   "pygments_lexer": "ipython3",
   "version": "3.7.3"
  }
 },
 "nbformat": 4,
 "nbformat_minor": 2
}
