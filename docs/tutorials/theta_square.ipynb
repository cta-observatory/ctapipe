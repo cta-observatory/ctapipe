{
 "cells": [
  {
   "cell_type": "markdown",
   "metadata": {},
   "source": [
    "# Make a theta-square plot\n",
    "\n",
    "This is a basic example to analyze some events and make a $\\Theta^2$ plot"
   ]
  },
  {
   "cell_type": "code",
   "execution_count": null,
   "metadata": {
    "ExecuteTime": {
     "end_time": "2018-06-15T12:49:35.515499Z",
     "start_time": "2018-06-15T12:49:34.968051Z"
    }
   },
   "outputs": [],
   "source": [
    "%matplotlib inline"
   ]
  },
  {
   "cell_type": "code",
   "execution_count": null,
   "metadata": {
    "ExecuteTime": {
     "end_time": "2018-06-15T12:49:37.807612Z",
     "start_time": "2018-06-15T12:49:35.520552Z"
    }
   },
   "outputs": [],
   "source": [
    "from astropy import units as u\n",
    "from astropy.coordinates.angle_utilities import angular_separation\n",
    "from astropy.coordinates import SkyCoord, AltAz\n",
    "\n",
    "import matplotlib.pyplot as plt\n",
    "import numpy as np\n",
    "\n",
    "from ctapipe.io import EventSource\n",
    "\n",
    "from ctapipe.calib import CameraCalibrator\n",
    "from ctapipe.image import ImageProcessor\n",
    "from ctapipe.reco import ShowerProcessor\n",
    "\n",
    "from tqdm.auto import tqdm"
   ]
  },
  {
   "cell_type": "markdown",
   "metadata": {
    "ExecuteTime": {
     "end_time": "2018-06-15T12:49:37.887391Z",
     "start_time": "2018-06-15T12:49:37.818824Z"
    }
   },
   "source": [
    "Get source events in MC dataset. "
   ]
  },
  {
   "cell_type": "code",
   "execution_count": null,
   "metadata": {
    "ExecuteTime": {
     "end_time": "2018-06-15T12:49:37.887391Z",
     "start_time": "2018-06-15T12:49:37.818824Z"
    }
   },
   "outputs": [],
   "source": [
    "source = EventSource(\n",
    "    \"dataset://gamma_prod5.simtel.zst\",\n",
    "#     allowed_tels={1, 2, 3, 4},\n",
    ")\n",
    "\n",
    "subarray = source.subarray\n",
    "\n",
    "calib = CameraCalibrator(subarray=subarray)\n",
    "image_processor = ImageProcessor(subarray=subarray)\n",
    "shower_processor = ShowerProcessor(subarray=subarray)"
   ]
  },
  {
   "cell_type": "code",
   "execution_count": null,
   "metadata": {
    "ExecuteTime": {
     "end_time": "2018-06-15T12:49:47.500199Z",
     "start_time": "2018-06-15T12:49:37.893169Z"
    }
   },
   "outputs": [],
   "source": [
    "off_angles = []\n",
    "\n",
    "for event in tqdm(source):\n",
    "\n",
    "    # calibrating the event\n",
    "    calib(event)\n",
    "    image_processor(event)\n",
    "    shower_processor(event)\n",
    "\n",
    "    reco_result = event.dl2.stereo.geometry['HillasReconstructor']\n",
    "\n",
    "    # get angular offset between reconstructed shower direction and MC\n",
    "    # generated shower direction\n",
    "    true_shower = event.simulation.shower\n",
    "    off_angle = angular_separation(true_shower.az, true_shower.alt, reco_result.az, reco_result.alt)\n",
    "\n",
    "    # Appending all estimated off angles\n",
    "    off_angles.append(off_angle.to(u.deg).value)"
   ]
  },
  {
   "cell_type": "markdown",
   "metadata": {
    "ExecuteTime": {
     "end_time": "2018-06-15T12:49:47.507369Z",
     "start_time": "2018-06-15T12:49:47.502642Z"
    }
   },
   "source": [
    "calculate theta square for angles which are not nan"
   ]
  },
  {
   "cell_type": "code",
   "execution_count": null,
   "metadata": {
    "ExecuteTime": {
     "end_time": "2018-06-15T12:49:47.507369Z",
     "start_time": "2018-06-15T12:49:47.502642Z"
    }
   },
   "outputs": [],
   "source": [
    "off_angles = np.array(off_angles)\n",
    "thetasquare = off_angles[np.isfinite(off_angles)]**2"
   ]
  },
  {
   "cell_type": "markdown",
   "metadata": {
    "ExecuteTime": {
     "end_time": "2018-06-15T12:49:48.264122Z",
     "start_time": "2018-06-15T12:49:47.511172Z"
    }
   },
   "source": [
    "## Plot the results"
   ]
  },
  {
   "cell_type": "code",
   "execution_count": null,
   "metadata": {
    "ExecuteTime": {
     "end_time": "2018-06-15T12:49:48.264122Z",
     "start_time": "2018-06-15T12:49:47.511172Z"
    }
   },
   "outputs": [],
   "source": [
    "plt.hist(thetasquare, bins=10, range=[0, 0.4])\n",
    "plt.xlabel(r'$\\theta^2$ (deg)')\n",
    "plt.ylabel(\"# of events\")\n",
    "plt.show()"
   ]
  }
 ],
 "metadata": {
  "kernelspec": {
   "display_name": "Python 3 (ipykernel)",
   "language": "python",
   "name": "python3"
  },
  "language_info": {
   "codemirror_mode": {
    "name": "ipython",
    "version": 3
   },
   "file_extension": ".py",
   "mimetype": "text/x-python",
   "name": "python",
   "nbconvert_exporter": "python",
   "pygments_lexer": "ipython3",
   "version": "3.8.13"
  },
  "toc": {
   "nav_menu": {
    "height": "13px",
    "width": "253px"
   },
   "number_sections": false,
   "sideBar": true,
   "skip_h1_title": false,
   "toc_cell": false,
   "toc_position": {},
   "toc_section_display": "block",
   "toc_window_display": false
  }
 },
 "nbformat": 4,
 "nbformat_minor": 4
}
