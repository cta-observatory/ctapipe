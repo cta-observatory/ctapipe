{
 "cells": [
  {
   "cell_type": "markdown",
   "metadata": {},
   "source": [
    "## Setting up environment"
   ]
  },
  {
   "cell_type": "code",
   "execution_count": 1,
   "metadata": {
    "collapsed": true
   },
   "outputs": [],
   "source": [
    "from ipywidgets import interact\n",
    "import matplotlib.pyplot as plt\n",
    "%matplotlib inline"
   ]
  },
  {
   "cell_type": "code",
   "execution_count": 2,
   "metadata": {
    "collapsed": true
   },
   "outputs": [],
   "source": [
    "import h5py\n",
    "import numpy as np"
   ]
  },
  {
   "cell_type": "code",
   "execution_count": 3,
   "metadata": {
    "collapsed": true
   },
   "outputs": [],
   "source": [
    "from ctapipe.instrument import CameraGeometry\n",
    "from ctapipe.image.geometry_converter import convert_geometry_hex1d_to_rect2d\n",
    "from ctapipe.calib import CameraCalibrator\n",
    "from ctapipe.io import event_source\n",
    "from ctapipe.utils import get_dataset"
   ]
  },
  {
   "cell_type": "code",
   "execution_count": 4,
   "metadata": {
    "collapsed": true
   },
   "outputs": [],
   "source": [
    "filename = get_dataset('gamma_test_large.simtel.gz')\n",
    "source = event_source(filename)\n",
    "calib = CameraCalibrator()"
   ]
  },
  {
   "cell_type": "code",
   "execution_count": 5,
   "metadata": {
    "collapsed": true
   },
   "outputs": [],
   "source": [
    "maxevents = 3000     # max number of events to save in hdf5 file\n",
    "imagestels = {}      # tels  dict where 2d images will be stored\n",
    "imagesevts = {}      # event dict where 2d images will be stored\n",
    "count = 1"
   ]
  },
  {
   "cell_type": "markdown",
   "metadata": {},
   "source": [
    "## Creation of 2D images"
   ]
  },
  {
   "cell_type": "code",
   "execution_count": 6,
   "metadata": {
    "scrolled": false
   },
   "outputs": [],
   "source": [
    "for event in source:\n",
    "\n",
    "    count +=1\n",
    "\n",
    "    # calibrating images\n",
    "    calib.calibrate(event)\n",
    "\n",
    "    for tel_id, dl1cameracontainer in event.dl1.tel.items():\n",
    "        telname = \"tel_{:03d}\".format(tel_id)\n",
    "\n",
    "        # create images with camera geometry\n",
    "        camgeom = event.inst.subarray.tel[tel_id].camera\n",
    "\n",
    "        signal = dl1cameracontainer.image[0] # let's take channel 0\n",
    "        new_geom, image2d = convert_geometry_hex1d_to_rect2d(camgeom, signal)\n",
    "\n",
    "        # store 2d images in dicts \n",
    "        #\n",
    "        datasetname = '/DL1/'+telname\n",
    "        eventname = str(event.r0.event_id)\n",
    "        \n",
    "        if datasetname not in imagestels:\n",
    "            imagestels[datasetname] = []\n",
    "            \n",
    "        if eventname not in imagesevts:\n",
    "            imagesevts[eventname] = []    \n",
    "\n",
    "        imagestels[datasetname].append(image2d)\n",
    "        imagesevts[eventname].append(image2d)       \n",
    "\n",
    "    if count>maxevents: break"
   ]
  },
  {
   "cell_type": "markdown",
   "metadata": {},
   "source": [
    "## Creation of HDF5 file"
   ]
  },
  {
   "cell_type": "code",
   "execution_count": 7,
   "metadata": {
    "scrolled": false
   },
   "outputs": [],
   "source": [
    "h5f = h5py.File('tableimages.h5', 'w')\n",
    "for key in imagestels:\n",
    "    h5f.create_dataset(key, data=imagestels[key])\n",
    "h5f.close()"
   ]
  },
  {
   "cell_type": "markdown",
   "metadata": {},
   "source": [
    "## Generated HDF5 file\n",
    "\n",
    "* [DL1 Images Table Dataset](tableimages.h5)"
   ]
  },
  {
   "cell_type": "markdown",
   "metadata": {},
   "source": [
    "## 3D inspection for a given telescope"
   ]
  },
  {
   "cell_type": "code",
   "execution_count": 8,
   "metadata": {
    "scrolled": true
   },
   "outputs": [],
   "source": [
    "#for key in imagestels:\n",
    "#    print(key, len(imagestels[key]))"
   ]
  },
  {
   "cell_type": "code",
   "execution_count": 9,
   "metadata": {
    "scrolled": false
   },
   "outputs": [
    {
     "data": {
      "application/vnd.jupyter.widget-view+json": {
       "model_id": "b752a2985306444ea5762063250442e2",
       "version_major": 2,
       "version_minor": 0
      },
      "text/html": [
       "<p>Failed to display Jupyter Widget of type <code>interactive</code>.</p>\n",
       "<p>\n",
       "  If you're reading this message in the Jupyter Notebook or JupyterLab Notebook, it may mean\n",
       "  that the widgets JavaScript is still loading. If this message persists, it\n",
       "  likely means that the widgets JavaScript library is either not installed or\n",
       "  not enabled. See the <a href=\"https://ipywidgets.readthedocs.io/en/stable/user_install.html\">Jupyter\n",
       "  Widgets Documentation</a> for setup instructions.\n",
       "</p>\n",
       "<p>\n",
       "  If you're reading this message in another frontend (for example, a static\n",
       "  rendering on GitHub or <a href=\"https://nbviewer.jupyter.org/\">NBViewer</a>),\n",
       "  it may mean that your frontend doesn't currently support widgets.\n",
       "</p>\n"
      ],
      "text/plain": [
       "interactive(children=(IntSlider(value=7, description='event', max=14), Output()), _dom_classes=('widget-interact',))"
      ]
     },
     "metadata": {},
     "output_type": "display_data"
    }
   ],
   "source": [
    "# datacube = load_hdf5_data_from_somewhere()  # assuming shape is (N, X, Y)\n",
    "# no need to load fiie \n",
    "datacube = np.array(imagestels['/DL1/tel_028'])\n",
    "\n",
    "@interact\n",
    "def displaycube(event=(0, len(datacube)-1)):\n",
    "    plt.imshow(datacube[event])\n",
    "    plt.show()"
   ]
  },
  {
   "cell_type": "markdown",
   "metadata": {},
   "source": [
    "## 3D inspection for a given event"
   ]
  },
  {
   "cell_type": "code",
   "execution_count": 10,
   "metadata": {
    "scrolled": true
   },
   "outputs": [],
   "source": [
    "#for key in imagesevts:\n",
    "#    print(key, len(imagesevts[key]))"
   ]
  },
  {
   "cell_type": "code",
   "execution_count": 11,
   "metadata": {},
   "outputs": [
    {
     "data": {
      "application/vnd.jupyter.widget-view+json": {
       "model_id": "4a1733baadcd4d0aa8399b44c2ce4b09",
       "version_major": 2,
       "version_minor": 0
      },
      "text/html": [
       "<p>Failed to display Jupyter Widget of type <code>interactive</code>.</p>\n",
       "<p>\n",
       "  If you're reading this message in the Jupyter Notebook or JupyterLab Notebook, it may mean\n",
       "  that the widgets JavaScript is still loading. If this message persists, it\n",
       "  likely means that the widgets JavaScript library is either not installed or\n",
       "  not enabled. See the <a href=\"https://ipywidgets.readthedocs.io/en/stable/user_install.html\">Jupyter\n",
       "  Widgets Documentation</a> for setup instructions.\n",
       "</p>\n",
       "<p>\n",
       "  If you're reading this message in another frontend (for example, a static\n",
       "  rendering on GitHub or <a href=\"https://nbviewer.jupyter.org/\">NBViewer</a>),\n",
       "  it may mean that your frontend doesn't currently support widgets.\n",
       "</p>\n"
      ],
      "text/plain": [
       "interactive(children=(IntSlider(value=5, description='tel', max=10), Output()), _dom_classes=('widget-interact',))"
      ]
     },
     "metadata": {},
     "output_type": "display_data"
    }
   ],
   "source": [
    "# datacube = load_hdf5_data_from_somewhere()  # assuming shape is (N, X, Y)\n",
    "# no need to load fiie \n",
    "datacube = np.array(imagesevts['1633202'])\n",
    "\n",
    "@interact\n",
    "def displaycube(tel=(0, len(datacube)-1)):\n",
    "    plt.imshow(datacube[tel])\n",
    "    plt.show()"
   ]
  },
  {
   "cell_type": "code",
   "execution_count": null,
   "metadata": {
    "collapsed": true
   },
   "outputs": [],
   "source": []
  }
 ],
 "metadata": {
  "kernelspec": {
   "display_name": "Python 3",
   "language": "python",
   "name": "python3"
  },
  "language_info": {
   "codemirror_mode": {
    "name": "ipython",
    "version": 3
   },
   "file_extension": ".py",
   "mimetype": "text/x-python",
   "name": "python",
   "nbconvert_exporter": "python",
   "pygments_lexer": "ipython3",
   "version": "3.6.2"
  },
  "toc": {
   "nav_menu": {
    "height": "13px",
    "width": "253px"
   },
   "number_sections": false,
   "sideBar": true,
   "skip_h1_title": false,
   "toc_cell": false,
   "toc_position": {},
   "toc_section_display": "block",
   "toc_window_display": false
  }
 },
 "nbformat": 4,
 "nbformat_minor": 2
}
