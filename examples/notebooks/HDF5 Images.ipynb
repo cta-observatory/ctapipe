{
 "cells": [
  {
   "cell_type": "code",
   "execution_count": 1,
   "metadata": {
    "collapsed": true
   },
   "outputs": [],
   "source": [
    "import h5py\n",
    "import numpy as np"
   ]
  },
  {
   "cell_type": "code",
   "execution_count": 2,
   "metadata": {
    "collapsed": true
   },
   "outputs": [],
   "source": [
    "from ctapipe.instrument import CameraGeometry\n",
    "from ctapipe.image.geometry_converter import convert_geometry_hex1d_to_rect2d\n",
    "from ctapipe.calib import CameraCalibrator\n",
    "from ctapipe.io.hessio import hessio_event_source\n",
    "from ctapipe.utils import get_dataset"
   ]
  },
  {
   "cell_type": "code",
   "execution_count": 3,
   "metadata": {
    "collapsed": true
   },
   "outputs": [],
   "source": [
    "filename = get_dataset('gamma_test_large.simtel.gz')\n",
    "source = hessio_event_source(filename)\n",
    "calib = CameraCalibrator(None, None)"
   ]
  },
  {
   "cell_type": "code",
   "execution_count": 4,
   "metadata": {
    "collapsed": true
   },
   "outputs": [],
   "source": [
    "h5f = h5py.File('images.h5', 'w')\n",
    "maxevents = 1 # number of events to save in hdf5 file\n",
    "count = 1"
   ]
  },
  {
   "cell_type": "code",
   "execution_count": 5,
   "metadata": {
    "scrolled": false
   },
   "outputs": [
    {
     "name": "stdout",
     "output_type": "stream",
     "text": [
      "/DL1/tel_025/chan_00/image23703\n",
      "/DL1/tel_034/chan_00/image23703\n",
      "/DL1/tel_034/chan_01/image23703\n",
      "/DL1/tel_021/chan_00/image23703\n",
      "/DL1/tel_013/chan_00/image23703\n"
     ]
    }
   ],
   "source": [
    "try:\n",
    "    for event in source:\n",
    "        \n",
    "        count +=1\n",
    "        \n",
    "        # calibrating images\n",
    "        calib.calibrate(event)\n",
    "\n",
    "        # fill hdf5 with structure\n",
    "        # telescope groups\n",
    "        #\n",
    "        for tel_id, dl1cameracontainer in event.dl1.tel.items():\n",
    "            telname = \"tel_{:03d}\".format(tel_id)\n",
    "\n",
    "            # camera channels groups\n",
    "            #\n",
    "            for chan in range(dl1cameracontainer.image.shape[0]):\n",
    "                channelname = \"chan_{:02}\".format(chan)\n",
    "\n",
    "                # create images with camera geometry\n",
    "                #\n",
    "                pix_x, pix_y = event.inst.pixel_pos[tel_id]\n",
    "                foclen = event.inst.optical_foclen[tel_id]\n",
    "                camgeom = CameraGeometry.guess(pix_x, pix_y, foclen)\n",
    "\n",
    "                signal = dl1cameracontainer.image[chan]\n",
    "                new_geom, image2d = convert_geometry_hex1d_to_rect2d(camgeom, signal)\n",
    "        \n",
    "                # write images in each channel group\n",
    "                #\n",
    "                #2d image\n",
    "                imagename = '/DL1/'+telname+'/'+channelname+'/image'+str(event.r0.event_id)      \n",
    "                image5f = h5f.create_dataset(imagename, data=image2d)\n",
    "\n",
    "                # set image attributes\n",
    "                image5f.attrs['CLASS'] = 'IMAGE'\n",
    "                image5f.attrs['IMAGE_VERSION'] = '1.2'\n",
    "                image5f.attrs['IMAGE_MINMAXRANGE'] = [np.nanmin(signal), np.nanmax(signal)]\n",
    "\n",
    "                print(imagename)\n",
    "                \n",
    "                #3d extracted_samples\n",
    "                #2d peakpos\n",
    "                #3d cleaned\n",
    "        \n",
    "        if count>maxevents: break\n",
    "            \n",
    "finally:\n",
    "   h5f.close()                  "
   ]
  },
  {
   "cell_type": "markdown",
   "metadata": {
    "collapsed": true
   },
   "source": [
    "# Generated HDF5 File\n",
    "\n",
    "* [DL1 Images File](images.h5)"
   ]
  },
  {
   "cell_type": "code",
   "execution_count": null,
   "metadata": {
    "collapsed": true
   },
   "outputs": [],
   "source": []
  }
 ],
 "metadata": {
  "kernelspec": {
   "display_name": "Python 3",
   "language": "python",
   "name": "python3"
  },
  "language_info": {
   "codemirror_mode": {
    "name": "ipython",
    "version": 3
   },
   "file_extension": ".py",
   "mimetype": "text/x-python",
   "name": "python",
   "nbconvert_exporter": "python",
   "pygments_lexer": "ipython3",
   "version": "3.5.1"
  },
  "toc": {
   "nav_menu": {
    "height": "13px",
    "width": "253px"
   },
   "number_sections": false,
   "sideBar": true,
   "skip_h1_title": false,
   "toc_cell": false,
   "toc_position": {},
   "toc_section_display": "block",
   "toc_window_display": false
  }
 },
 "nbformat": 4,
 "nbformat_minor": 2
}
