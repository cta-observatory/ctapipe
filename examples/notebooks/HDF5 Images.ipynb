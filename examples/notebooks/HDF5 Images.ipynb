{
 "cells": [
  {
   "cell_type": "code",
   "execution_count": 1,
   "metadata": {},
   "outputs": [],
   "source": [
    "import h5py\n",
    "import numpy as np"
   ]
  },
  {
   "cell_type": "code",
   "execution_count": 2,
   "metadata": {},
   "outputs": [],
   "source": [
    "from ctapipe.instrument import CameraGeometry\n",
    "from ctapipe.image.geometry_converter import convert_geometry_hex1d_to_rect2d\n",
    "from ctapipe.calib import CameraCalibrator\n",
    "from ctapipe.io import event_source\n",
    "from ctapipe.utils import get_dataset_path"
   ]
  },
  {
   "cell_type": "code",
   "execution_count": 3,
   "metadata": {},
   "outputs": [],
   "source": [
    "filename = get_dataset_path('gamma_test_large.simtel.gz')\n",
    "source = event_source(filename)\n",
    "calib = CameraCalibrator()"
   ]
  },
  {
   "cell_type": "code",
   "execution_count": 4,
   "metadata": {},
   "outputs": [],
   "source": [
    "h5f = h5py.File('images.h5', 'w')\n",
    "maxevents = 1 # number of events to save in hdf5 file\n",
    "count = 1"
   ]
  },
  {
   "cell_type": "code",
   "execution_count": 5,
   "metadata": {
    "scrolled": false
   },
   "outputs": [
    {
     "ename": "AttributeError",
     "evalue": "'InstrumentContainer' object has no attribute 'tel'",
     "output_type": "error",
     "traceback": [
      "\u001b[0;31m---------------------------------------------------------------------------\u001b[0m",
      "\u001b[0;31mAttributeError\u001b[0m                            Traceback (most recent call last)",
      "\u001b[0;32m<ipython-input-5-7191bf67b9c6>\u001b[0m in \u001b[0;36m<module>\u001b[0;34m()\u001b[0m\n\u001b[1;32m     20\u001b[0m                 \u001b[0;31m# create images with camera geometry\u001b[0m\u001b[0;34m\u001b[0m\u001b[0;34m\u001b[0m\u001b[0m\n\u001b[1;32m     21\u001b[0m                 \u001b[0;31m#\u001b[0m\u001b[0;34m\u001b[0m\u001b[0;34m\u001b[0m\u001b[0m\n\u001b[0;32m---> 22\u001b[0;31m                 \u001b[0mcamgeom\u001b[0m \u001b[0;34m=\u001b[0m \u001b[0mevent\u001b[0m\u001b[0;34m.\u001b[0m\u001b[0minst\u001b[0m\u001b[0;34m.\u001b[0m\u001b[0mtel\u001b[0m\u001b[0;34m[\u001b[0m\u001b[0mtel_id\u001b[0m\u001b[0;34m]\u001b[0m\u001b[0;34m.\u001b[0m\u001b[0mcamera\u001b[0m\u001b[0;34m\u001b[0m\u001b[0m\n\u001b[0m\u001b[1;32m     23\u001b[0m \u001b[0;34m\u001b[0m\u001b[0m\n\u001b[1;32m     24\u001b[0m                 \u001b[0msignal\u001b[0m \u001b[0;34m=\u001b[0m \u001b[0mdl1cameracontainer\u001b[0m\u001b[0;34m.\u001b[0m\u001b[0mimage\u001b[0m\u001b[0;34m[\u001b[0m\u001b[0mchan\u001b[0m\u001b[0;34m]\u001b[0m\u001b[0;34m\u001b[0m\u001b[0m\n",
      "\u001b[0;31mAttributeError\u001b[0m: 'InstrumentContainer' object has no attribute 'tel'"
     ]
    }
   ],
   "source": [
    "try:\n",
    "    for event in source:\n",
    "        \n",
    "        count +=1\n",
    "        \n",
    "        # calibrating images\n",
    "        calib.calibrate(event)\n",
    "\n",
    "        # fill hdf5 with structure\n",
    "        # telescope groups\n",
    "        #\n",
    "        for tel_id, dl1cameracontainer in event.dl1.tel.items():\n",
    "            telname = \"tel_{:03d}\".format(tel_id)\n",
    "\n",
    "            # camera channels groups\n",
    "            #\n",
    "            for chan in range(dl1cameracontainer.image.shape[0]):\n",
    "                channelname = \"chan_{:02}\".format(chan)\n",
    "\n",
    "                # create images with camera geometry\n",
    "                #\n",
    "                camgeom = event.inst.subarray.tel[tel_id].camera\n",
    "\n",
    "                signal = dl1cameracontainer.image[chan]\n",
    "                new_geom, image2d = convert_geometry_hex1d_to_rect2d(camgeom, signal)\n",
    "        \n",
    "                # write images in each channel group\n",
    "                #\n",
    "                #2d image\n",
    "                imagename = '/DL1/'+telname+'/'+channelname+'/image'+str(event.r0.event_id)      \n",
    "                image5f = h5f.create_dataset(imagename, data=image2d)\n",
    "\n",
    "                # set image attributes\n",
    "                image5f.attrs['CLASS'] = 'IMAGE'\n",
    "                image5f.attrs['IMAGE_VERSION'] = '1.2'\n",
    "                image5f.attrs['IMAGE_MINMAXRANGE'] = [np.nanmin(signal), np.nanmax(signal)]\n",
    "\n",
    "                print(imagename)\n",
    "                \n",
    "                #3d extracted_samples\n",
    "                #2d peakpos\n",
    "                #3d cleaned\n",
    "        \n",
    "        if count>maxevents: break\n",
    "            \n",
    "finally:\n",
    "    h5f.close()                  "
   ]
  },
  {
   "cell_type": "markdown",
   "metadata": {},
   "source": [
    "# Generated HDF5 File\n",
    "\n",
    "* [DL1 Images File](images.h5)"
   ]
  },
  {
   "cell_type": "code",
   "execution_count": null,
   "metadata": {},
   "outputs": [],
   "source": []
  }
 ],
 "metadata": {
  "kernelspec": {
   "display_name": "Python 3",
   "language": "python",
   "name": "python3"
  },
  "language_info": {
   "codemirror_mode": {
    "name": "ipython",
    "version": 3
   },
   "file_extension": ".py",
   "mimetype": "text/x-python",
   "name": "python",
   "nbconvert_exporter": "python",
   "pygments_lexer": "ipython3",
   "version": "3.6.5"
  },
  "toc": {
   "nav_menu": {
    "height": "13px",
    "width": "253px"
   },
   "number_sections": false,
   "sideBar": true,
   "skip_h1_title": false,
   "toc_cell": false,
   "toc_position": {},
   "toc_section_display": "block",
   "toc_window_display": false
  }
 },
 "nbformat": 4,
 "nbformat_minor": 2
}
