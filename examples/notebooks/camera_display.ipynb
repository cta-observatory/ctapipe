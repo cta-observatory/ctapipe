{
 "cells": [
  {
   "cell_type": "markdown",
   "metadata": {},
   "source": [
    "# Example of a Camera Display to HTML5 via MPLD3\n",
    "\n"
   ]
  },
  {
   "cell_type": "code",
   "execution_count": null,
   "metadata": {
    "collapsed": false
   },
   "outputs": [],
   "source": [
    "%matplotlib inline"
   ]
  },
  {
   "cell_type": "code",
   "execution_count": null,
   "metadata": {
    "collapsed": false
   },
   "outputs": [],
   "source": [
    "import matplotlib.pylab as plt\n",
    "from ctapipe import io, visualization\n",
    "from ctapipe.image import toymodel\n",
    "from ctapipe.image.hillas import hillas_parameters\n",
    "import numpy as np"
   ]
  },
  {
   "cell_type": "markdown",
   "metadata": {},
   "source": [
    "Just a quick function to mark a pixel and draw lines to its neighbors"
   ]
  },
  {
   "cell_type": "code",
   "execution_count": null,
   "metadata": {
    "collapsed": true
   },
   "outputs": [],
   "source": [
    "def draw_neighbors(geom, pixel_index, color='r', **kwargs):\n",
    "    \"\"\" draw lines between a pixel and its neighbors\"\"\"\n",
    "    neigh = geom.neighbors[pixel_index]  # neighbor indices (not pixel ids)\n",
    "    x, y = geom.pix_x[pixel_index].value, geom.pix_y[pixel_index].value\n",
    "    for nn in neigh:\n",
    "        nx, ny = geom.pix_x[nn].value, geom.pix_y[nn].value\n",
    "        plt.plot([x, nx], [y, ny], color=color, **kwargs)"
   ]
  },
  {
   "cell_type": "markdown",
   "metadata": {},
   "source": [
    "Now, let's create a fake Cherenkov image from a given `CameraGeometry` and fill it with some data:"
   ]
  },
  {
   "cell_type": "code",
   "execution_count": null,
   "metadata": {
    "collapsed": false
   },
   "outputs": [],
   "source": [
    "# get the HESS demo camera geometry\n",
    "geom = io.CameraGeometry.from_name(\"hess\", 1)\n",
    "\n",
    "# create a fake camera image to display:\n",
    "model = toymodel.generate_2d_shower_model(centroid=(0.2, 0.0),\n",
    "                                      width=0.01,\n",
    "                                      length=0.1,\n",
    "                                      psi='35d')\n",
    "\n",
    "image, sig, bg = toymodel.make_toymodel_shower_image(geom, model.pdf, \n",
    "                                             intensity=50,\n",
    "                                             nsb_level_pe=1000)\n",
    "\n",
    "# apply really stupid image cleaning (single threshold):\n",
    "clean = image.copy()\n",
    "clean[image <= 3.0 * image.mean()] = 0.0\n",
    "\n",
    "# calculate image parameters\n",
    "hillas, _ = hillas_parameters(geom.pix_x.value, geom.pix_y.value, clean)"
   ]
  },
  {
   "cell_type": "code",
   "execution_count": null,
   "metadata": {
    "collapsed": false
   },
   "outputs": [],
   "source": [
    "# show the camera image and overlay Hillas ellipse\n",
    "disp = visualization.CameraDisplay(geom)\n",
    "disp.set_limits_minmax(0, 300)\n",
    "disp.add_colorbar()\n",
    "disp.image = image\n",
    "disp.overlay_moments(hillas, color='grey', linewidth=3,zorder=10)\n",
    "\n",
    "# draw the neighbors of pixel 100 in red, and the\n",
    "# neighbor-neighbors in green\n",
    "for ii in geom.neighbors[130]:\n",
    "    draw_neighbors(geom, ii, color='green')\n",
    "draw_neighbors(geom, 130, color='red',lw=2)"
   ]
  },
  {
   "cell_type": "markdown",
   "metadata": {},
   "source": [
    "For online use, you can use the mpld3 library to automatically convert this to a zoomable HTML5 plot if you like. Simply call `display()` at the end of the code:\n",
    "\n",
    "    import mpld3\n",
    "    ...\n",
    "    mpld3.display()"
   ]
  },
  {
   "cell_type": "code",
   "execution_count": null,
   "metadata": {
    "collapsed": true
   },
   "outputs": [],
   "source": []
  }
 ],
 "metadata": {
  "anaconda-cloud": {},
  "kernelspec": {
   "display_name": "Python [default]",
   "language": "python",
   "name": "python3"
  }
 },
 "nbformat": 4,
 "nbformat_minor": 0
}
