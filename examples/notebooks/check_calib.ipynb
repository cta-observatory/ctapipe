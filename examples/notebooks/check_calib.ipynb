{
 "cells": [
  {
   "cell_type": "markdown",
   "metadata": {},
   "source": [
    "## Test if the calibration is doing what I expect\n",
    "\n",
    "This calculates residual offsets from that calibrated images by applying a tailcut + some dilation around the signal, and using non-signal pixels as background."
   ]
  },
  {
   "cell_type": "code",
   "execution_count": 2,
   "metadata": {
    "collapsed": true
   },
   "outputs": [],
   "source": [
    "from ctapipe.io import event_source\n",
    "from ctapipe.utils import datasets\n",
    "from ctapipe.calib import CameraCalibrator\n",
    "from ctapipe.image import tailcuts_clean, dilate\n",
    "from ctapipe.visualization import CameraDisplay\n",
    "from ctapipe.instrument import CameraGeometry\n",
    "import matplotlib.pyplot as plt\n",
    "import numpy as np\n",
    "from tqdm import tqdm\n",
    "from scipy.stats import poisson\n",
    "import os\n",
    "%matplotlib inline"
   ]
  },
  {
   "cell_type": "code",
   "execution_count": 3,
   "metadata": {
    "collapsed": true
   },
   "outputs": [],
   "source": [
    "cal = CameraCalibrator()"
   ]
  },
  {
   "cell_type": "markdown",
   "metadata": {},
   "source": [
    "The process_pedestal function just accumulates pixel-wise pedestal data for each event"
   ]
  },
  {
   "cell_type": "code",
   "execution_count": 4,
   "metadata": {
    "collapsed": true
   },
   "outputs": [],
   "source": [
    "hists = {}\n",
    "chan = 0 # which channel to look at\n",
    "\n",
    "def process_pedestal(event, output=False):\n",
    "\n",
    "    for tel in event.dl0.tels_with_data:\n",
    "        geom = event.inst.subarray.tel[tel].camera\n",
    "        im = np.squeeze(event.dl1.tel[tel].image[chan]) \n",
    "\n",
    "        # select pixels that are not signal and calculate \n",
    "        # means and std of them (they should be pedestals):\n",
    "        mask = tailcuts_clean(geom, im, picture_thresh=7, boundary_thresh=4)\n",
    "        for ii in range(3):\n",
    "            mask = dilate(geom, mask)\n",
    "\n",
    "        if output:\n",
    "            print(\"evt:{:10d} tel: {:03d}/{:10.10s} mean: {:5.3f} std: {:5.3f}\"\\\n",
    "                  .format(event.dl0.event_id, tel, geom.cam_id, \n",
    "                          im[~mask].mean(), im[~mask].std()))\n",
    "        \n",
    "        hist, ed = np.histogram(im[~mask], bins=200, range=[-10,10])\n",
    "\n",
    "        if geom.cam_id in hists:\n",
    "            hists[geom.cam_id][0] += hist\n",
    "            hists[geom.cam_id][2] += len(im[~mask]) # counter\n",
    "        else:\n",
    "            hists[geom.cam_id] = [hist,ed,len(im[~mask])]\n"
   ]
  },
  {
   "cell_type": "markdown",
   "metadata": {},
   "source": [
    "Loop over events in a file and collect residual statistics on all images"
   ]
  },
  {
   "cell_type": "code",
   "execution_count": 5,
   "metadata": {},
   "outputs": [
    {
     "name": "stderr",
     "output_type": "stream",
     "text": [
      "\r",
      "  0%|          | 0/100 [00:00<?, ?it/s]\r",
      "  1%|          | 1/100 [00:00<00:43,  2.28it/s]\r",
      "  2%|▏         | 2/100 [00:00<00:33,  2.96it/s]\r",
      "  3%|▎         | 3/100 [00:00<00:26,  3.68it/s]\r",
      "  6%|▌         | 6/100 [00:00<00:20,  4.63it/s]\r",
      "  7%|▋         | 7/100 [00:01<00:22,  4.21it/s]\r",
      " 10%|█         | 10/100 [00:01<00:16,  5.52it/s]\r",
      " 13%|█▎        | 13/100 [00:01<00:12,  6.97it/s]\r",
      " 15%|█▌        | 15/100 [00:01<00:10,  7.92it/s]\r",
      " 17%|█▋        | 17/100 [00:01<00:09,  8.57it/s]\r",
      " 19%|█▉        | 19/100 [00:02<00:08,  9.53it/s]\r",
      " 21%|██        | 21/100 [00:02<00:07, 11.05it/s]\r",
      " 23%|██▎       | 23/100 [00:02<00:07,  9.90it/s]\r",
      " 26%|██▌       | 26/100 [00:02<00:06, 12.17it/s]\r",
      " 28%|██▊       | 28/100 [00:02<00:05, 12.57it/s]\r",
      " 30%|███       | 30/100 [00:02<00:05, 12.96it/s]\r",
      " 32%|███▏      | 32/100 [00:02<00:05, 13.19it/s]\r",
      " 34%|███▍      | 34/100 [00:03<00:04, 13.98it/s]\r",
      " 37%|███▋      | 37/100 [00:03<00:04, 13.75it/s]\r",
      " 39%|███▉      | 39/100 [00:03<00:04, 13.73it/s]\r",
      " 41%|████      | 41/100 [00:03<00:04, 14.04it/s]\r",
      " 43%|████▎     | 43/100 [00:03<00:03, 14.42it/s]\r",
      " 45%|████▌     | 45/100 [00:03<00:03, 15.13it/s]\r",
      " 47%|████▋     | 47/100 [00:04<00:04, 11.71it/s]\r",
      " 49%|████▉     | 49/100 [00:04<00:04, 11.60it/s]\r",
      " 51%|█████     | 51/100 [00:04<00:05,  9.74it/s]\r",
      " 53%|█████▎    | 53/100 [00:04<00:04, 10.45it/s]\r",
      " 55%|█████▌    | 55/100 [00:04<00:03, 11.83it/s]\r",
      " 57%|█████▋    | 57/100 [00:04<00:03, 12.50it/s]\r",
      " 59%|█████▉    | 59/100 [00:05<00:03, 11.20it/s]\r",
      " 62%|██████▏   | 62/100 [00:05<00:02, 13.39it/s]\r",
      " 64%|██████▍   | 64/100 [00:05<00:02, 13.29it/s]\r",
      " 66%|██████▌   | 66/100 [00:05<00:02, 12.16it/s]\r",
      " 68%|██████▊   | 68/100 [00:05<00:02, 13.51it/s]\r",
      " 70%|███████   | 70/100 [00:05<00:02, 11.56it/s]\r",
      " 72%|███████▏  | 72/100 [00:06<00:02, 12.35it/s]\r",
      " 74%|███████▍  | 74/100 [00:06<00:01, 13.18it/s]\r",
      " 76%|███████▌  | 76/100 [00:06<00:01, 13.66it/s]\r",
      " 78%|███████▊  | 78/100 [00:06<00:01, 11.04it/s]\r",
      " 80%|████████  | 80/100 [00:06<00:01, 11.46it/s]\r",
      " 82%|████████▏ | 82/100 [00:06<00:01, 11.97it/s]\r",
      " 84%|████████▍ | 84/100 [00:07<00:01, 11.26it/s]\r",
      " 87%|████████▋ | 87/100 [00:07<00:00, 13.56it/s]\r",
      " 89%|████████▉ | 89/100 [00:07<00:01, 10.05it/s]\r",
      " 92%|█████████▏| 92/100 [00:07<00:00, 11.52it/s]\r",
      " 94%|█████████▍| 94/100 [00:07<00:00, 12.47it/s]\r",
      " 96%|█████████▌| 96/100 [00:08<00:00, 11.14it/s]\r",
      " 98%|█████████▊| 98/100 [00:08<00:00, 10.81it/s]\r",
      "100%|██████████| 100/100 [00:08<00:00,  9.04it/s]\n"
     ]
    }
   ],
   "source": [
    "hists = {} \n",
    "max_events = 100\n",
    "\n",
    "infile = datasets.get_dataset('gamma_test_large.simtel.gz')  # from ctapipe_resources\n",
    "\n",
    "# alternative infile from my working directory:\n",
    "infile = '/Users/kosack/Data/CTA/Prod3/Old/gamma_20deg_180deg_run1000___cta-prod3-demo_desert-2150m-Paranal-demo2rad_cone10.simtel.gz'\n",
    "\n",
    "for event in tqdm(event_source(infile, max_events=max_events), total=max_events):\n",
    "    cal.calibrate(event)\n",
    "    process_pedestal(event)"
   ]
  },
  {
   "cell_type": "code",
   "execution_count": 6,
   "metadata": {},
   "outputs": [
    {
     "data": {
      "text/plain": [
       "<matplotlib.text.Text at 0x10b994978>"
      ]
     },
     "execution_count": 6,
     "metadata": {},
     "output_type": "execute_result"
    },
    {
     "data": {
      "image/png": "[encoded data removed]",
      "text/plain": [
       "<matplotlib.figure.Figure at 0x1114e7ac8>"
      ]
     },
     "metadata": {},
     "output_type": "display_data"
    }
   ],
   "source": [
    "plt.figure(figsize=(15,6))\n",
    "\n",
    "#poiss = poiss/poiss.max()\n",
    "for cam in hists:\n",
    "    X = hists[cam][1][1:]\n",
    "    H = hists[cam][0]\n",
    "    plt.plot(X, H/H.max(), label=cam, ls='steps')\n",
    "\n",
    "\n",
    "plt.xlabel(\"Effective PE\")\n",
    "plt.ylabel(\"Frequency (norm to peak)\")\n",
    "plt.legend()\n",
    "plt.title(\"Residual signals after calibration\")"
   ]
  },
  {
   "cell_type": "code",
   "execution_count": null,
   "metadata": {
    "collapsed": true
   },
   "outputs": [],
   "source": []
  },
  {
   "cell_type": "code",
   "execution_count": null,
   "metadata": {
    "collapsed": true
   },
   "outputs": [],
   "source": []
  }
 ],
 "metadata": {
  "kernelspec": {
   "display_name": "Python 3",
   "language": "python",
   "name": "python3"
  },
  "language_info": {
   "codemirror_mode": {
    "name": "ipython",
    "version": 3
   },
   "file_extension": ".py",
   "mimetype": "text/x-python",
   "name": "python",
   "nbconvert_exporter": "python",
   "pygments_lexer": "ipython3",
   "version": "3.6.2"
  }
 },
 "nbformat": 4,
 "nbformat_minor": 2
}
