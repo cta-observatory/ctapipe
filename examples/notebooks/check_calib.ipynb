{
 "cells": [
  {
   "cell_type": "markdown",
   "metadata": {},
   "source": [
    "## Test if the calibration is doing what I expect\n",
    "\n",
    "This calculates residual offsets from that calibrated images by applying a tailcut + some dilation around the signal, and using non-signal pixels as background."
   ]
  },
  {
   "cell_type": "code",
   "execution_count": 1,
   "metadata": {
    "collapsed": true
   },
   "outputs": [],
   "source": [
    "from ctapipe.io.hessio import hessio_event_source\n",
    "from ctapipe.utils import datasets\n",
    "from ctapipe.calib import CameraCalibrator\n",
    "from ctapipe.image import tailcuts_clean, dilate\n",
    "from ctapipe.visualization import CameraDisplay\n",
    "from ctapipe.instrument import CameraGeometry\n",
    "import matplotlib.pyplot as plt\n",
    "import numpy as np\n",
    "from tqdm import tqdm\n",
    "from scipy.stats import poisson\n",
    "import os\n",
    "%matplotlib inline"
   ]
  },
  {
   "cell_type": "code",
   "execution_count": 2,
   "metadata": {
    "collapsed": true
   },
   "outputs": [],
   "source": [
    "cal = CameraCalibrator(None,None)"
   ]
  },
  {
   "cell_type": "code",
   "execution_count": 3,
   "metadata": {
    "collapsed": true
   },
   "outputs": [],
   "source": [
    "hists = {}\n",
    "chan = 0 # which channel to look at\n",
    "\n",
    "def process_pedestal(event, output=False):\n",
    "\n",
    "    for tel in event.dl0.tels_with_data:\n",
    "        geom = event.inst.subarray.tel[tel].camera\n",
    "        im = np.squeeze(event.dl1.tel[tel].image[chan]) \n",
    "\n",
    "        # select pixels that are not signal and calculate means and std of them (they should be pedestals):\n",
    "        mask = tailcuts_clean(geom, im, picture_thresh=14, boundary_thresh=7)\n",
    "        for ii in range(3):\n",
    "            mask = dilate(geom, mask)\n",
    "\n",
    "        if output:\n",
    "            print(\"evt:{:10d} tel: {:03d}/{:10.10s} mean: {:5.3f} std: {:5.3f}\"\\\n",
    "                  .format(event.dl0.event_id, tel, geom.cam_id, \n",
    "                          im[~mask].mean(), im[~mask].std()))\n",
    "        \n",
    "        hist, ed = np.histogram(im[~mask], bins=200, range=[-10,10])\n",
    "\n",
    "        if geom.cam_id in hists:\n",
    "            hists[geom.cam_id][0] += hist\n",
    "            hists[geom.cam_id][2] += len(im[~mask]) # counter\n",
    "        else:\n",
    "            hists[geom.cam_id] = [hist,ed,len(im[~mask])]\n"
   ]
  },
  {
   "cell_type": "markdown",
   "metadata": {},
   "source": [
    "Loop over events in a file and collect residual statistics on all images"
   ]
  },
  {
   "cell_type": "code",
   "execution_count": 4,
   "metadata": {},
   "outputs": [
    {
     "name": "stderr",
     "output_type": "stream",
     "text": [
      "100%|██████████| 100/100 [00:06<00:00, 14.52it/s]\n"
     ]
    },
    {
     "ename": "IndexError",
     "evalue": "boolean index did not match indexed array along dimension 1; dimension is 1 but corresponding boolean dimension is 2368",
     "output_type": "error",
     "traceback": [
      "\u001b[0;31m---------------------------------------------------------------------------\u001b[0m",
      "\u001b[0;31mIndexError\u001b[0m                                Traceback (most recent call last)",
      "\u001b[0;32m<ipython-input-4-3a15d4209c96>\u001b[0m in \u001b[0;36m<module>\u001b[0;34m()\u001b[0m\n\u001b[1;32m     10\u001b[0m \u001b[0;32mfor\u001b[0m \u001b[0mevent\u001b[0m \u001b[0;32min\u001b[0m \u001b[0mtqdm_notebook\u001b[0m\u001b[0;34m(\u001b[0m\u001b[0mhessio_event_source\u001b[0m\u001b[0;34m(\u001b[0m\u001b[0minfile\u001b[0m\u001b[0;34m,\u001b[0m \u001b[0mmax_events\u001b[0m\u001b[0;34m=\u001b[0m\u001b[0mmax_events\u001b[0m\u001b[0;34m)\u001b[0m\u001b[0;34m,\u001b[0m \u001b[0mtotal\u001b[0m\u001b[0;34m=\u001b[0m\u001b[0mmax_events\u001b[0m\u001b[0;34m)\u001b[0m\u001b[0;34m:\u001b[0m\u001b[0;34m\u001b[0m\u001b[0m\n\u001b[1;32m     11\u001b[0m     \u001b[0mcal\u001b[0m\u001b[0;34m.\u001b[0m\u001b[0mcalibrate\u001b[0m\u001b[0;34m(\u001b[0m\u001b[0mevent\u001b[0m\u001b[0;34m)\u001b[0m\u001b[0;34m\u001b[0m\u001b[0m\n\u001b[0;32m---> 12\u001b[0;31m     \u001b[0mprocess_pedestal\u001b[0m\u001b[0;34m(\u001b[0m\u001b[0mevent\u001b[0m\u001b[0;34m)\u001b[0m\u001b[0;34m\u001b[0m\u001b[0m\n\u001b[0m",
      "\u001b[0;32m<ipython-input-3-1215205017ef>\u001b[0m in \u001b[0;36mprocess_pedestal\u001b[0;34m(event, output)\u001b[0m\n\u001b[1;32m     16\u001b[0m                           im[~mask].mean(), im[~mask].std()))\n\u001b[1;32m     17\u001b[0m \u001b[0;34m\u001b[0m\u001b[0m\n\u001b[0;32m---> 18\u001b[0;31m         \u001b[0mhist\u001b[0m\u001b[0;34m,\u001b[0m \u001b[0med\u001b[0m \u001b[0;34m=\u001b[0m \u001b[0mnp\u001b[0m\u001b[0;34m.\u001b[0m\u001b[0mhistogram\u001b[0m\u001b[0;34m(\u001b[0m\u001b[0mim\u001b[0m\u001b[0;34m[\u001b[0m\u001b[0;34m~\u001b[0m\u001b[0mmask\u001b[0m\u001b[0;34m]\u001b[0m\u001b[0;34m,\u001b[0m \u001b[0mbins\u001b[0m\u001b[0;34m=\u001b[0m\u001b[0;36m200\u001b[0m\u001b[0;34m,\u001b[0m \u001b[0mrange\u001b[0m\u001b[0;34m=\u001b[0m\u001b[0;34m[\u001b[0m\u001b[0;34m-\u001b[0m\u001b[0;36m10\u001b[0m\u001b[0;34m,\u001b[0m\u001b[0;36m10\u001b[0m\u001b[0;34m]\u001b[0m\u001b[0;34m)\u001b[0m\u001b[0;34m\u001b[0m\u001b[0m\n\u001b[0m\u001b[1;32m     19\u001b[0m \u001b[0;34m\u001b[0m\u001b[0m\n\u001b[1;32m     20\u001b[0m         \u001b[0;32mif\u001b[0m \u001b[0mgeom\u001b[0m\u001b[0;34m.\u001b[0m\u001b[0mcam_id\u001b[0m \u001b[0;32min\u001b[0m \u001b[0mhists\u001b[0m\u001b[0;34m:\u001b[0m\u001b[0;34m\u001b[0m\u001b[0m\n",
      "\u001b[0;31mIndexError\u001b[0m: boolean index did not match indexed array along dimension 1; dimension is 1 but corresponding boolean dimension is 2368"
     ]
    }
   ],
   "source": [
    "hists = {} \n",
    "max_events = 100\n",
    "\n",
    "infile = datasets.get_dataset('gamma_test_large.simtel.gz')  # from ctapipe_resources\n",
    "\n",
    "# alternative infile from my working directory:\n",
    "# os.environ['CTAPIPE_SVC_PATH']='/Users/kosack/Data/CTA/Prod3'  \n",
    "# infile = datasets.get_dataset('gamma_20deg_180deg_run1000___cta-prod3-demo_desert-2150m-Paranal-demo2rad_cone10.simtel.gz')  \n",
    "\n",
    "for event in tqdm(hessio_event_source(infile, max_events=max_events), total=max_events):\n",
    "    cal.calibrate(event)\n",
    "    process_pedestal(event)"
   ]
  },
  {
   "cell_type": "code",
   "execution_count": 5,
   "metadata": {},
   "outputs": [
    {
     "data": {
      "text/plain": [
       "<matplotlib.text.Text at 0x10a764588>"
      ]
     },
     "execution_count": 5,
     "metadata": {},
     "output_type": "execute_result"
    },
    {
     "data": {
      "image/png": "iVBORw0KGgoAAAANSUhEUgAAA3sAAAGDCAYAAACSkwm+AAAABHNCSVQICAgIfAhkiAAAAAlwSFlz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\n",
      "text/plain": [
       "<matplotlib.figure.Figure at 0x1135e3780>"
      ]
     },
     "metadata": {},
     "output_type": "display_data"
    }
   ],
   "source": [
    "plt.figure(figsize=(15,6))\n",
    "\n",
    "#poiss = poiss/poiss.max()\n",
    "for cam in hists:\n",
    "    X = hists[cam][1][1:]\n",
    "    H = hists[cam][0]\n",
    "    plt.plot(X, H/H.max(), label=cam, ls='steps')\n",
    "\n",
    "\n",
    "plt.xlabel(\"Effective PE\")\n",
    "plt.ylabel(\"Frequency (norm to peak)\")\n",
    "plt.legend()\n",
    "plt.title(\"Residual signals after calibration\")"
   ]
  },
  {
   "cell_type": "code",
   "execution_count": null,
   "metadata": {
    "collapsed": true
   },
   "outputs": [],
   "source": []
  },
  {
   "cell_type": "code",
   "execution_count": null,
   "metadata": {
    "collapsed": true
   },
   "outputs": [],
   "source": []
  }
 ],
 "metadata": {
  "kernelspec": {
   "display_name": "Python 3",
   "language": "python",
   "name": "python3"
  },
  "language_info": {
   "codemirror_mode": {
    "name": "ipython",
    "version": 3
   },
   "file_extension": ".py",
   "mimetype": "text/x-python",
   "name": "python",
   "nbconvert_exporter": "python",
   "pygments_lexer": "ipython3"
   "version": "3.6.2"
  }
 },
 "nbformat": 4,
 "nbformat_minor": 2
}
