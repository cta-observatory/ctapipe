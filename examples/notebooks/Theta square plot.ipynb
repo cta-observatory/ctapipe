{
 "cells": [
  {
   "cell_type": "code",
   "execution_count": 1,
   "metadata": {
    "ExecuteTime": {
     "end_time": "2018-06-15T12:49:35.515499Z",
     "start_time": "2018-06-15T12:49:34.968051Z"
    },
    "collapsed": true
   },
   "outputs": [],
   "source": [
    "%matplotlib inline"
   ]
  },
  {
   "cell_type": "code",
   "execution_count": 2,
   "metadata": {
    "ExecuteTime": {
     "end_time": "2018-06-15T12:49:37.807612Z",
     "start_time": "2018-06-15T12:49:35.520552Z"
    },
    "collapsed": true
   },
   "outputs": [],
   "source": [
    "from astropy import units as u\n",
    "from astropy.coordinates.angle_utilities import angular_separation\n",
    "\n",
    "import matplotlib.pyplot as plt\n",
    "import numpy as np\n",
    "\n",
    "from ctapipe.io import event_source\n",
    "from ctapipe.visualization import CameraDisplay\n",
    "from ctapipe.instrument.camera import CameraGeometry\n",
    "from ctapipe.calib import CameraCalibrator\n",
    "from ctapipe.reco.HillasReconstructor import HillasReconstructor\n",
    "from ctapipe.image.hillas import hillas_parameters\n",
    "from ctapipe.image.cleaning import tailcuts_clean\n",
    "from ctapipe.utils import linalg\n",
    "from ctapipe.utils import datasets"
   ]
  },
  {
   "cell_type": "code",
   "execution_count": 3,
   "metadata": {
    "ExecuteTime": {
     "end_time": "2018-06-15T12:49:37.815579Z",
     "start_time": "2018-06-15T12:49:37.810814Z"
    },
    "collapsed": true
   },
   "outputs": [],
   "source": [
    "# MC dataset\n",
    "filename = datasets.get_dataset_path(\"gamma_test_large.simtel.gz\")"
   ]
  },
  {
   "cell_type": "code",
   "execution_count": 4,
   "metadata": {
    "ExecuteTime": {
     "end_time": "2018-06-15T12:49:37.887391Z",
     "start_time": "2018-06-15T12:49:37.818824Z"
    }
   },
   "outputs": [],
   "source": [
    "# get source events in MC dataset\n",
    "source = event_source(filename, allowed_tels={1, 2, 3, 4})\n",
    "reco = HillasReconstructor()\n",
    "calib = CameraCalibrator(r1_product='HESSIOR1Calibrator')"
   ]
  },
  {
   "cell_type": "code",
   "execution_count": 5,
   "metadata": {
    "ExecuteTime": {
     "end_time": "2018-06-15T12:49:47.500199Z",
     "start_time": "2018-06-15T12:49:37.893169Z"
    }
   },
   "outputs": [
    {
     "name": "stderr",
     "output_type": "stream",
     "text": [
      "/Users/mackaiver/Development/ctapipe/ctapipe/image/hillas.py:571: RuntimeWarning: invalid value encountered in sqrt\n",
      "  width = np.sqrt((vy2 + vx2 - z) / 2.0)\n",
      "/Users/mackaiver/Development/ctapipe/ctapipe/image/hillas.py:571: RuntimeWarning: invalid value encountered in sqrt\n",
      "  width = np.sqrt((vy2 + vx2 - z) / 2.0)\n"
     ]
    }
   ],
   "source": [
    "off_angles = []\n",
    "for event in source:\n",
    "\n",
    "    # calibrating the event\n",
    "    calib.calibrate(event)\n",
    "    \n",
    "    hillas_params = {}\n",
    "    # pointing direction of the telescopes\n",
    "    point_azimuth = {}\n",
    "    point_altitude = {}\n",
    "    \n",
    "    subarray = event.inst.subarray\n",
    "    \n",
    "    # get hillas params for each event in different telescopes\n",
    "    for tel_id in event.dl0.tels_with_data:\n",
    "\n",
    "        # telescope pointing direction\n",
    "        point_azimuth[tel_id] = event.mc.tel[tel_id].azimuth_raw * u.rad\n",
    "        point_altitude[tel_id] = event.mc.tel[tel_id].altitude_raw * u.rad\n",
    "        #        print(point_azimuth,point_altitude)\n",
    "\n",
    "        # Camera Geometry required for hillas parametrization\n",
    "        camgeom = subarray.tel[tel_id].camera\n",
    "\n",
    "        # note the [0] is for channel 0 which is high-gain channel\n",
    "        image = event.dl1.tel[tel_id].image[0]\n",
    "\n",
    "        # Cleaning  of the image\n",
    "        cleaned_image = image\n",
    "        # create a clean mask of pixels above the threshold\n",
    "        cleanmask = tailcuts_clean(\n",
    "            camgeom, image, picture_thresh=10, boundary_thresh=5\n",
    "        )\n",
    "        # set all rejected pixels to zero\n",
    "        cleaned_image[~cleanmask] = 0\n",
    "\n",
    "        # Calulate hillas parameters\n",
    "        # It fails for empty pixels\n",
    "        try:\n",
    "            hillas_params[tel_id] = hillas_parameters(camgeom, cleaned_image)\n",
    "        except:\n",
    "            pass\n",
    "\n",
    "    if len(hillas_params) < 2:\n",
    "        continue\n",
    "\n",
    "    reco_result = reco.predict(hillas_params, event.inst, point_altitude, point_azimuth)\n",
    "\n",
    "    # get angular offset between reconstructed shower direction and MC\n",
    "    # generated shower direction\n",
    "    off_angle = angular_separation(event.mc.az, event.mc.alt, reco_result.az, reco_result.alt)\n",
    "\n",
    "    # Appending all estimated off angles\n",
    "    off_angles.append(off_angle.to(u.deg).value)"
   ]
  },
  {
   "cell_type": "code",
   "execution_count": 6,
   "metadata": {
    "ExecuteTime": {
     "end_time": "2018-06-15T12:49:47.507369Z",
     "start_time": "2018-06-15T12:49:47.502642Z"
    },
    "collapsed": true
   },
   "outputs": [],
   "source": [
    "# calculate theta square for angles which are not nan\n",
    "off_angles = np.array(off_angles)\n",
    "thetasquare = off_angles[np.isfinite(off_angles)]**2"
   ]
  },
  {
   "cell_type": "code",
   "execution_count": 7,
   "metadata": {
    "ExecuteTime": {
     "end_time": "2018-06-15T12:49:48.264122Z",
     "start_time": "2018-06-15T12:49:47.511172Z"
    }
   },
   "outputs": [
    {
     "data": {
      "image/png": "[encoded data removed]",
      "text/plain": [
       "<Figure size 432x288 with 1 Axes>"
      ]
     },
     "metadata": {},
     "output_type": "display_data"
    }
   ],
   "source": [
    "# plot \n",
    "plt.hist(thetasquare, bins=np.linspace(0, 1, 50))\n",
    "plt.xlabel(r'$\\theta^2$ (deg)')\n",
    "plt.ylabel(\"# of events\")\n",
    "plt.show()"
   ]
  },
  {
   "cell_type": "code",
   "execution_count": null,
   "metadata": {
    "collapsed": true
   },
   "outputs": [],
   "source": []
  }
 ],
 "metadata": {
  "kernelspec": {
   "display_name": "Python 3",
   "language": "python",
   "name": "python3"
  },
  "language_info": {
   "codemirror_mode": {
    "name": "ipython",
    "version": 3
   },
   "file_extension": ".py",
   "mimetype": "text/x-python",
   "name": "python",
   "nbconvert_exporter": "python",
   "pygments_lexer": "ipython3",
   "version": "3.6.5"
  },
  "toc": {
   "nav_menu": {
    "height": "13px",
    "width": "253px"
   },
   "number_sections": false,
   "sideBar": true,
   "skip_h1_title": false,
   "toc_cell": false,
   "toc_position": {},
   "toc_section_display": "block",
   "toc_window_display": false
  }
 },
 "nbformat": 4,
 "nbformat_minor": 2
}
