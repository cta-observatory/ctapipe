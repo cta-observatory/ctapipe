{
 "cells": [
  {
   "cell_type": "code",
   "execution_count": 1,
   "metadata": {
    "collapsed": true
   },
   "outputs": [],
   "source": [
    "%matplotlib notebook"
   ]
  },
  {
   "cell_type": "code",
   "execution_count": 1,
   "metadata": {
    "collapsed": true
   },
   "outputs": [],
   "source": [
    "from astropy import units as u\n",
    "import matplotlib.pyplot as plt\n",
    "import numpy as np\n",
    "\n",
    "from ctapipe.io import event_source\n",
    "from ctapipe.visualization import CameraDisplay\n",
    "from ctapipe.instrument.camera import CameraGeometry\n",
    "from ctapipe.calib import CameraCalibrator\n",
    "from ctapipe.reco.HillasReconstructor import HillasReconstructor\n",
    "from ctapipe.image.hillas import hillas_parameters\n",
    "from ctapipe.image.cleaning import tailcuts_clean\n",
    "from ctapipe.utils import linalg\n",
    "from ctapipe.utils import datasets"
   ]
  },
  {
   "cell_type": "code",
   "execution_count": 2,
   "metadata": {},
   "outputs": [
    {
     "name": "stdout",
     "output_type": "stream",
     "text": [
      "env: CTAPIPE_SVC_PATH=/Users/jer/DATA/MAGIC/prod3blp_sample\n"
     ]
    }
   ],
   "source": [
    "# path to MC dataset\n",
    "%env CTAPIPE_SVC_PATH=/Users/jer/DATA/MAGIC/prod3blp_sample"
   ]
  },
  {
   "cell_type": "code",
   "execution_count": 5,
   "metadata": {},
   "outputs": [],
   "source": [
    "# MC dataset\n",
    "filename = datasets.get_dataset(\"gamma_test_large.simtel.gz\")"
   ]
  },
  {
   "cell_type": "code",
   "execution_count": 6,
   "metadata": {
    "collapsed": true
   },
   "outputs": [],
   "source": [
    "# get source events in MC dataset\n",
    "source = event_source(filename, allowed_tels={1, 2, 3, 4})"
   ]
  },
  {
   "cell_type": "code",
   "execution_count": 7,
   "metadata": {
    "collapsed": true
   },
   "outputs": [],
   "source": [
    "# for each event\n",
    "off_angles = []      \n",
    "\n",
    "reco = HillasReconstructor()\n",
    "calib = CameraCalibrator()"
   ]
  },
  {
   "cell_type": "code",
   "execution_count": 9,
   "metadata": {},
   "outputs": [
    {
     "name": "stderr",
     "output_type": "stream",
     "text": [
      "WARNING: AstropyDeprecationWarning: will be replaced with proper coord transform [ctapipe.reco.HillasReconstructor]\n",
      "WARNING:astropy:AstropyDeprecationWarning: will be replaced with proper coord transform\n",
      "/Users/kosack/Projects/CTA/Working/ctapipe/ctapipe/image/hillas.py:582: RuntimeWarning: invalid value encountered in sqrt\n",
      "  width = np.sqrt((vy2 + vx2 - z) / 2.0)\n"
     ]
    }
   ],
   "source": [
    "for event in source:\n",
    "\n",
    "    # shower direction\n",
    "    # converting MC shower angular parameters to 3D spatial vector\n",
    "    shower_azimuth = event.mc.az                        # same as in MC file\n",
    "    shower_altitude = np.pi * u.rad / 2 - event.mc.alt  # altitude = 90 - mc.alt\n",
    "    shower_direction = linalg.set_phi_theta(shower_azimuth, shower_altitude)\n",
    "\n",
    "    # calibrating the event\n",
    "    calib.calibrate(event)\n",
    "\n",
    "    # for each telescope and event\n",
    "    point_azimuth = {}\n",
    "    point_altitude = {}\n",
    "    hillas_params = {}\n",
    "\n",
    "    # get hillas params for each event in different telescopes\n",
    "    for tel_id in event.dl0.tels_with_data:\n",
    "\n",
    "        # telescope pointing direction extracted from MC dataset\n",
    "        point_azimuth[tel_id] = event.mc.tel[tel_id].azimuth_raw * u.rad\n",
    "        point_altitude[tel_id] = (\n",
    "            np.pi / 2 - event.mc.tel[tel_id].altitude_raw) * u.rad\n",
    "\n",
    "        # camera geometry required for hillas parametrization\n",
    "        camgeom = event.inst.subarray.tel[tel_id].camera\n",
    "\n",
    "        # note that [0] is for channel 0 which is high-gain channel\n",
    "        image = event.dl1.tel[tel_id].image[0]\n",
    "\n",
    "        # cleaning  the image\n",
    "        cleaned_image = image\n",
    "        # create a clean mask of pixels above the threshold\n",
    "        cleanmask = tailcuts_clean(\n",
    "            camgeom, image, picture_thresh=10, boundary_thresh=5)\n",
    "        # set all rejected pixels to zero\n",
    "        cleaned_image[~cleanmask] = 0\n",
    "\n",
    "        # calulate hillas parameters\n",
    "        # it fails for empty pixels\n",
    "        try:\n",
    "            hillas_params[tel_id] = hillas_parameters(camgeom, cleaned_image)\n",
    "        except:\n",
    "            pass\n",
    "\n",
    "    # not a stereo event -> next event\n",
    "    if len(hillas_params) < 2:\n",
    "        continue\n",
    "\n",
    "    # fit stereo event direction\n",
    "    reco.get_great_circles(\n",
    "        hillas_params, event.inst.subarray, point_azimuth, point_altitude)\n",
    "    \n",
    "    # reconstruct direction (3 components) with errors on the values\n",
    "    reco_direction, reco_dir_err = reco.fit_origin_crosses()\n",
    "\n",
    "    # in case fit reconstruct fails to get any real value -> next event\n",
    "    if np.isnan(reco_direction).any():\n",
    "        continue\n",
    "\n",
    "    # get angular offset between reconstructed event direction and MC shower direction\n",
    "    off_angle = linalg.angle(reco_direction, shower_direction)\n",
    "\n",
    "    # appending all estimated off angles of each event\n",
    "    off_angles.append(off_angle.to(u.deg).value)"
   ]
  },
  {
   "cell_type": "code",
   "execution_count": 10,
   "metadata": {
    "collapsed": true
   },
   "outputs": [],
   "source": [
    "# square the angles\n",
    "thetasq = []\n",
    "for i in off_angles:\n",
    "    thetasq.append(i**2)"
   ]
  },
  {
   "cell_type": "code",
   "execution_count": 11,
   "metadata": {},
   "outputs": [
    {
     "data": {
      "image/png": "[encoded data removed]",
      "text/plain": [
       "<matplotlib.figure.Figure at 0x1d157862b0>"
      ]
     },
     "metadata": {},
     "output_type": "display_data"
    }
   ],
   "source": [
    "# plot \n",
    "plt.hist(thetasq, bins=np.linspace(0, 0.5, 300))\n",
    "plt.xlabel(r'$\\theta^2$ (deg)')\n",
    "plt.ylabel(\"# of events\")\n",
    "plt.show()"
   ]
  },
  {
   "cell_type": "code",
   "execution_count": null,
   "metadata": {
    "collapsed": true
   },
   "outputs": [],
   "source": []
  }
 ],
 "metadata": {
  "kernelspec": {
   "display_name": "Python 3",
   "language": "python",
   "name": "python3"
  },
  "language_info": {
   "codemirror_mode": {
    "name": "ipython",
    "version": 3
   },
   "file_extension": ".py",
   "mimetype": "text/x-python",
   "name": "python",
   "nbconvert_exporter": "python",
   "pygments_lexer": "ipython3",
   "version": "3.6.2"
  },
  "toc": {
   "nav_menu": {
    "height": "13px",
    "width": "253px"
   },
   "number_sections": false,
   "sideBar": true,
   "skip_h1_title": false,
   "toc_cell": false,
   "toc_position": {},
   "toc_section_display": "block",
   "toc_window_display": false
  }
 },
 "nbformat": 4,
 "nbformat_minor": 2
}
