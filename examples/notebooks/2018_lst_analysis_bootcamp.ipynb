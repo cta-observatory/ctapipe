{
 "cells": [
  {
   "cell_type": "markdown",
   "metadata": {
    "slideshow": {
     "slide_type": "slide"
    }
   },
   "source": [
    "<div align=\"center\" style=\"font-size: 2rem\">\n",
    "\n",
    "<img heoght=\"300px\" src=\"https://cta-observatory.github.io/ctapipe/_images/ctapipe_logo.png\" alt=\"ctapipe\"/>\n",
    "\n",
    "\n",
    "<p style=\"text-align: center;\">LST Analysis Bootcamp</p>\n",
    "\n",
    "<p style=\"text-align: center\">Padova, 26.11.2018</p>\n",
    "\n",
    "<p style=\"text-align: center\">Maximilian Nöthe (@maxnoe) & Kai A. Brügge (@mackaiver)</p>\n",
    "\n",
    "</div>"
   ]
  },
  {
   "cell_type": "code",
   "execution_count": null,
   "metadata": {
    "slideshow": {
     "slide_type": "skip"
    }
   },
   "outputs": [],
   "source": [
    "import matplotlib.pyplot as plt\n",
    "import numpy as np\n",
    "\n",
    "%matplotlib inline"
   ]
  },
  {
   "cell_type": "code",
   "execution_count": null,
   "metadata": {
    "slideshow": {
     "slide_type": "skip"
    }
   },
   "outputs": [],
   "source": [
    "plt.rcParams['figure.figsize'] = (12, 8)\n",
    "plt.rcParams['font.size'] = 14\n",
    "\n",
    "plt.rcParams['figure.figsize']"
   ]
  },
  {
   "cell_type": "code",
   "execution_count": null,
   "metadata": {
    "slideshow": {
     "slide_type": "notes"
    }
   },
   "outputs": [],
   "source": [
    "%%javascript\n",
    "$.getScript('https://kmahelona.github.io/ipython_notebook_goodies/ipython_notebook_toc.js')"
   ]
  },
  {
   "cell_type": "markdown",
   "metadata": {
    "slideshow": {
     "slide_type": "slide"
    }
   },
   "source": [
    "<h1 id=\"tocheading\">Table of Contents</h1>\n",
    "<div id=\"toc\"></div>"
   ]
  },
  {
   "cell_type": "markdown",
   "metadata": {
    "slideshow": {
     "slide_type": "slide"
    }
   },
   "source": [
    "# General Information"
   ]
  },
  {
   "cell_type": "markdown",
   "metadata": {
    "slideshow": {
     "slide_type": "slide"
    }
   },
   "source": [
    "## Design\n",
    "\n",
    "* DL0 → DL3 analysis\n",
    "\n",
    "* Currently some R0 → DL0 code to be able to analyze simtel files\n",
    "\n",
    "* ctapipe is built upon the Scientific Python Stack, core dependencies are\n",
    "  * numpy\n",
    "  * scipy\n",
    "  * astropy"
   ]
  },
  {
   "cell_type": "markdown",
   "metadata": {
    "slideshow": {
     "slide_type": "slide"
    }
   },
   "source": [
    "## Developement\n",
    "\n",
    "* ctapipe is developed as Open Source Software (Currently under MIT License) at <https://github.com/cta-observatory/ctapipe>\n",
    "\n",
    "* We use the \"Github-Workflow\": \n",
    "  * Few people (e.g. @kosack, @mackaiver) have write access to the main repository\n",
    "  * Contributors fork the main repository and work on branches\n",
    "  * Pull Requests are merged after Code Review and automatic execution of the test suite\n",
    "\n",
    "* Early developement stage ⇒ backwards-incompatible API changes might and will happen \n",
    "\n",
    "* Many open design questions ⇒ Core Developer Meeting in the second week of December in Dortmund"
   ]
  },
  {
   "cell_type": "markdown",
   "metadata": {
    "slideshow": {
     "slide_type": "slide"
    }
   },
   "source": [
    "## What's there?\n",
    "\n",
    "* Reading simtel simulation files\n",
    "* Simple calibration, cleaning and feature extraction functions\n",
    "* Camera and Array plotting\n",
    "* Coordinate frames and transformations \n",
    "* Stereo-reconstruction using line intersections\n",
    "  \n",
    " "
   ]
  },
  {
   "cell_type": "markdown",
   "metadata": {
    "slideshow": {
     "slide_type": "slide"
    }
   },
   "source": [
    "## What's still missing?\n",
    "\n",
    "* Easy to use IO of analysis results to standard data formats (e.g. FITS, hdf5)\n",
    "* Easy to use \"analysis builder\"\n",
    "* A \"Standard Analysis\"\n",
    "* Good integration with machine learning techniques\n",
    "* IRF calculation \n",
    "* Defining APIs for IO, instrument description access etc.\n",
    "* Most code only tested on HESSIO simulations\n",
    "* Documentation, e.g. formal definitions of coordinate frames \n",
    " \n",
    " "
   ]
  },
  {
   "cell_type": "markdown",
   "metadata": {
    "slideshow": {
     "slide_type": "slide"
    }
   },
   "source": [
    "## What can you do?\n",
    "\n",
    "* Report issues\n",
    "  * Hard to get started? Tell us where you are stuck\n",
    "  * Tell user stories\n",
    "  * Missing features\n",
    "\n",
    "* Start contributing\n",
    "  * ctapipe needs more workpower\n",
    "  * Implement new reconstruction features"
   ]
  },
  {
   "cell_type": "markdown",
   "metadata": {
    "slideshow": {
     "slide_type": "slide"
    }
   },
   "source": [
    "# A simple hillas analysis"
   ]
  },
  {
   "cell_type": "markdown",
   "metadata": {},
   "source": [
    "## Reading in simtel files"
   ]
  },
  {
   "cell_type": "code",
   "execution_count": null,
   "metadata": {},
   "outputs": [],
   "source": [
    "from ctapipe.io import EventSourceFactory\n",
    "from ctapipe.utils.datasets import get_dataset_path\n",
    "\n",
    "input_url = get_dataset_path('gamma_test_large.simtel.gz')\n",
    "\n",
    "# The EventSourceFactory automatically detects what kind of file we are giving it,\n",
    "# if already supported by ctapipe\n",
    "event_source = EventSourceFactory.produce(input_url=input_url, max_events=9)\n",
    "\n",
    "print(type(event_source))"
   ]
  },
  {
   "cell_type": "code",
   "execution_count": null,
   "metadata": {},
   "outputs": [],
   "source": [
    "for event in event_source:\n",
    "    print(f'Id: {event.count}', f'E = {event.mc.energy:1.3f}', f'Telescopes: {len(event.r0.tel)}', sep=', ')"
   ]
  },
  {
   "cell_type": "markdown",
   "metadata": {},
   "source": [
    "Each event is a `DataContainer` holding several `Field`s of data, which can be containers or just numbers.\n",
    "Let's look a one event:"
   ]
  },
  {
   "cell_type": "code",
   "execution_count": null,
   "metadata": {},
   "outputs": [],
   "source": [
    "event"
   ]
  },
  {
   "cell_type": "code",
   "execution_count": null,
   "metadata": {},
   "outputs": [],
   "source": [
    "event.inst.subarray.camera_types"
   ]
  },
  {
   "cell_type": "code",
   "execution_count": null,
   "metadata": {},
   "outputs": [],
   "source": [
    "len(event.r0.tel), len(event.r1.tel)"
   ]
  },
  {
   "cell_type": "markdown",
   "metadata": {},
   "source": [
    "## Data calibration\n",
    "\n",
    "As we saw, the data container only contains raw data (only the `r0` containers are filled)\n",
    "\n",
    "So we use the `CameraCalibrator` factory to calibrate the event."
   ]
  },
  {
   "cell_type": "code",
   "execution_count": null,
   "metadata": {},
   "outputs": [],
   "source": [
    "from ctapipe.calib import CameraCalibrator\n",
    "\n",
    "calibrator = CameraCalibrator(\n",
    "    eventsource=event_source,\n",
    ")"
   ]
  },
  {
   "cell_type": "code",
   "execution_count": null,
   "metadata": {},
   "outputs": [],
   "source": [
    "calibrator.r1"
   ]
  },
  {
   "cell_type": "code",
   "execution_count": null,
   "metadata": {},
   "outputs": [],
   "source": [
    "calibrator.calibrate(event)"
   ]
  },
  {
   "cell_type": "markdown",
   "metadata": {},
   "source": [
    "## Event displays\n",
    "\n",
    "Let's use ctapipe's plotting facilities to plot the telescope images"
   ]
  },
  {
   "cell_type": "code",
   "execution_count": null,
   "metadata": {},
   "outputs": [],
   "source": [
    "event.dl1.tel.keys()"
   ]
  },
  {
   "cell_type": "code",
   "execution_count": null,
   "metadata": {},
   "outputs": [],
   "source": [
    "tel_id = 15\n"
   ]
  },
  {
   "cell_type": "code",
   "execution_count": null,
   "metadata": {},
   "outputs": [],
   "source": [
    "camera = event.inst.subarray.tel[tel_id].camera\n",
    "dl1 = event.dl1.tel[tel_id]\n",
    "\n",
    "camera, dl1"
   ]
  },
  {
   "cell_type": "code",
   "execution_count": null,
   "metadata": {},
   "outputs": [],
   "source": [
    "from ctapipe.visualization import CameraDisplay\n",
    "\n",
    "display = CameraDisplay(camera)\n",
    "\n",
    "# right now, there might be one image per gain channel.\n",
    "# This will change as soon as \n",
    "display.image = dl1.image[0]\n",
    "display.add_colorbar()"
   ]
  },
  {
   "cell_type": "markdown",
   "metadata": {},
   "source": [
    "## Image Cleaning"
   ]
  },
  {
   "cell_type": "code",
   "execution_count": null,
   "metadata": {},
   "outputs": [],
   "source": [
    "from ctapipe.image.cleaning import tailcuts_clean"
   ]
  },
  {
   "cell_type": "code",
   "execution_count": null,
   "metadata": {},
   "outputs": [],
   "source": [
    "# unoptimized cleaning levels, copied from \n",
    "# https://github.com/tudo-astroparticlephysics/cta_preprocessing\n",
    "cleaning_level = {\n",
    "    'ASTRICam': (5, 7, 2),  # (5, 10)?\n",
    "    'LSTCam': (3.5, 7.5, 2),  # ?? (3, 6) for Abelardo...\n",
    "    'FlashCam': (4, 8, 2),  # there is some scaling missing?\n",
    "}"
   ]
  },
  {
   "cell_type": "code",
   "execution_count": null,
   "metadata": {},
   "outputs": [],
   "source": [
    "boundary, picture, min_neighbors = cleaning_level[camera.cam_id]\n",
    "\n",
    "clean = tailcuts_clean(\n",
    "    camera, \n",
    "    dl1.image[0],\n",
    "    boundary_thresh=boundary,\n",
    "    picture_thresh=picture,\n",
    "    min_number_picture_neighbors=min_neighbors\n",
    ")"
   ]
  },
  {
   "cell_type": "code",
   "execution_count": null,
   "metadata": {},
   "outputs": [],
   "source": [
    "fig, (ax1, ax2) = plt.subplots(1, 2, figsize=(15, 5))\n",
    "\n",
    "d1 = CameraDisplay(camera, ax=ax1)\n",
    "d2 = CameraDisplay(camera, ax=ax2)\n",
    "\n",
    "ax1.set_title('Image')\n",
    "d1.image = dl1.image[0]\n",
    "d1.add_colorbar(ax=ax1)\n",
    "\n",
    "ax2.set_title('PeakPos')\n",
    "d2.image = dl1.peakpos[0] - np.average(dl1.peakpos[0], weights=dl1.image[0])\n",
    "d2.cmap = 'RdBu_r'\n",
    "d2.add_colorbar(ax=ax2)\n",
    "\n",
    "d1.highlight_pixels(clean, color='red', linewidth=1)"
   ]
  },
  {
   "cell_type": "markdown",
   "metadata": {},
   "source": [
    "## Image Parameters"
   ]
  },
  {
   "cell_type": "code",
   "execution_count": null,
   "metadata": {},
   "outputs": [],
   "source": [
    "from ctapipe.image import hillas_parameters, leakage, concentration\n",
    "from ctapipe.image.timing_parameters import timing_parameters\n",
    "from ctapipe.image.cleaning import number_of_islands"
   ]
  },
  {
   "cell_type": "code",
   "execution_count": null,
   "metadata": {},
   "outputs": [],
   "source": [
    "hillas = hillas_parameters(camera[clean], dl1.image[0][clean])\n",
    "\n",
    "print(hillas)"
   ]
  },
  {
   "cell_type": "code",
   "execution_count": null,
   "metadata": {},
   "outputs": [],
   "source": [
    "display = CameraDisplay(camera)\n",
    "\n",
    "# set \"unclean\" pixels to 0\n",
    "cleaned = dl1.image[0].copy()\n",
    "cleaned[~clean] = 0.0\n",
    "\n",
    "display.image = cleaned\n",
    "display.add_colorbar()\n",
    "\n",
    "display.overlay_moments(hillas, color='xkcd:red')"
   ]
  },
  {
   "cell_type": "code",
   "execution_count": null,
   "metadata": {},
   "outputs": [],
   "source": [
    "timing = timing_parameters(\n",
    "    camera[clean],\n",
    "    dl1.image[0][clean],\n",
    "    dl1.peakpos[0][clean],\n",
    "    hillas,\n",
    ")\n",
    "\n",
    "print(timing)"
   ]
  },
  {
   "cell_type": "code",
   "execution_count": null,
   "metadata": {},
   "outputs": [],
   "source": [
    "l = leakage(camera, dl1.image[0], clean)\n",
    "print(l)"
   ]
  },
  {
   "cell_type": "code",
   "execution_count": null,
   "metadata": {},
   "outputs": [],
   "source": [
    "n_islands, island_id = number_of_islands(camera, clean)\n",
    "\n",
    "print(n_islands)"
   ]
  },
  {
   "cell_type": "code",
   "execution_count": null,
   "metadata": {},
   "outputs": [],
   "source": [
    "conc = concentration(camera, dl1.image[0], hillas)\n",
    "print(conc)"
   ]
  },
  {
   "cell_type": "markdown",
   "metadata": {},
   "source": [
    "## Putting it all together / Stereo reconstruction"
   ]
  },
  {
   "cell_type": "code",
   "execution_count": null,
   "metadata": {
    "scrolled": false
   },
   "outputs": [],
   "source": [
    "import astropy.units as u\n",
    "\n",
    "from ctapipe.io import EventSourceFactory\n",
    "from ctapipe.utils.datasets import get_dataset_path\n",
    "\n",
    "from ctapipe.calib import CameraCalibrator\n",
    "\n",
    "from ctapipe.image.cleaning import tailcuts_clean, number_of_islands\n",
    "\n",
    "from ctapipe.reco import HillasReconstructor\n",
    "\n",
    "\n",
    "# unoptimized cleaning levels, copied from \n",
    "# https://github.com/tudo-astroparticlephysics/cta_preprocessing\n",
    "cleaning_level = {\n",
    "    'ASTRICam': (5, 7, 2),  # (5, 10)?\n",
    "    'LSTCam': (3.5, 7.5, 2),  # ?? (3, 6) for Abelardo...\n",
    "    'FlashCam': (4, 8, 2),  # there is some scaling missing?\n",
    "}\n",
    "\n",
    "\n",
    "input_url = get_dataset_path('gamma_test_large.simtel.gz')\n",
    "event_source = EventSourceFactory.produce(input_url=input_url, max_events=4)\n",
    "\n",
    "\n",
    "calibrator = CameraCalibrator(\n",
    "    eventsource=event_source,\n",
    ")\n",
    "\n",
    "reco = HillasReconstructor()\n",
    "\n",
    "for event in event_source:\n",
    "    print(f'Id: {event.count}', f'E = {event.mc.energy:1.3f}', f'Telescopes: {len(event.r0.tel)}', sep=', ')\n",
    "    \n",
    "    calibrator.calibrate(event)\n",
    "    \n",
    "    # mapping of telescope_id to parameters for stereo reconstruction\n",
    "    hillas_containers = {}\n",
    "    pointing_azimuth = {}\n",
    "    pointing_altitude = {}\n",
    "    time_gradients = {}\n",
    "    \n",
    "    for telescope_id, dl1 in event.dl1.tel.items():\n",
    "        camera = event.inst.subarray.tels[telescope_id].camera\n",
    "        image = dl1.image[0]\n",
    "        peakpos = dl1.peakpos[0]\n",
    "        \n",
    "        boundary, picture, min_neighbors = cleaning_level[camera.cam_id]\n",
    "\n",
    "        clean = tailcuts_clean(\n",
    "            camera, \n",
    "            image,\n",
    "            boundary_thresh=boundary,\n",
    "            picture_thresh=picture,\n",
    "            min_number_picture_neighbors=min_neighbors\n",
    "        )\n",
    "        \n",
    "        hillas_c = hillas_parameters(camera[clean], image[clean])\n",
    "        leakage_c = leakage(camera, image, clean)\n",
    "        n_islands, island_ids = number_of_islands(camera, clean)\n",
    "        \n",
    "        timing_c = timing_parameters(camera[clean], image[clean], peakpos[clean], hillas_c)\n",
    "        \n",
    "        hillas_containers[telescope_id] = hillas_c\n",
    "        \n",
    "        # ssts have no timing in prod4, so we'll use the skewness\n",
    "        time_gradients[telescope_id] = timing_c.slope.value if camera.cam_id != 'ASTRICam' else hillas_c.skewness\n",
    "        \n",
    "        pointing_azimuth[telescope_id] = event.mc.tel[telescope_id].azimuth_raw * u.rad\n",
    "        pointing_altitude[telescope_id] = event.mc.tel[telescope_id].altitude_raw * u.rad\n",
    "        \n",
    "    stereo = reco.predict(\n",
    "        hillas_containers, event.inst, pointing_altitude, pointing_azimuth\n",
    "    )\n",
    "    \n",
    "    print(f'  Alt: {stereo.alt.deg:.2f}°')\n",
    "    print(f'  Az: {stereo.az.deg:.2f}°')\n",
    "    print(f'  Hmax: {stereo.h_max:.0f}')\n",
    "    print(f'  CoreX: {stereo.core_x:.1f}')\n",
    "    print(f'  CoreY: {stereo.core_y:.1f}')\n",
    "\n"
   ]
  },
  {
   "cell_type": "markdown",
   "metadata": {},
   "source": [
    "## ArrayDisplay\n"
   ]
  },
  {
   "cell_type": "code",
   "execution_count": null,
   "metadata": {},
   "outputs": [],
   "source": [
    "from ctapipe.visualization import ArrayDisplay\n",
    "\n",
    "\n",
    "angle_offset = event.mcheader.run_array_direction[0]\n",
    "\n",
    "\n",
    "disp = ArrayDisplay(event.inst.subarray)\n",
    "\n",
    "disp.set_vector_hillas(hillas_containers, time_gradient=time_gradients, angle_offset=angle_offset, length=500)\n",
    "plt.scatter(event.mc.core_x, event.mc.core_y, s=200, c='k', marker='x', label='True Impact',)\n",
    "plt.scatter(stereo.core_x, stereo.core_y, s=200, c='r', marker='x', label='Estimated Impact',)\n",
    "\n",
    "plt.legend()\n",
    "plt.xlim(-400, 400)\n",
    "plt.ylim(-400, 400)"
   ]
  },
  {
   "cell_type": "markdown",
   "metadata": {},
   "source": [
    "# LST Mono with output\n",
    "\n",
    "\n",
    "* Let's use the `HDF5TableWriter` to save the dl2 data to an hdf5 file\n",
    "* This is not ideal yet and one of the major points to be discussed in two weeks"
   ]
  },
  {
   "cell_type": "code",
   "execution_count": null,
   "metadata": {},
   "outputs": [],
   "source": [
    "from ctapipe.io import HDF5TableWriter\n",
    "\n",
    "\n",
    "input_url = get_dataset_path('gamma_test_large.simtel.gz')\n",
    "\n",
    "event_source = EventSourceFactory.produce(\n",
    "    input_url=input_url,\n",
    "    allowed_tels=[1, 2, 3, 4], # only use the first LST\n",
    ")\n",
    "\n",
    "\n",
    "calibrator = CameraCalibrator(\n",
    "    eventsource=event_source,\n",
    ")\n",
    "\n",
    "\n",
    "with HDF5TableWriter(filename='hillas.h5', group_name='dl2', mode='w') as writer:\n",
    "\n",
    "    for event in event_source:\n",
    "        print(f'Id: {event.count}', f'E = {event.mc.energy:1.3f}', f'Telescopes: {len(event.r0.tel)}', sep=', ')\n",
    "    \n",
    "        calibrator.calibrate(event)\n",
    "    \n",
    "        for telescope_id, dl1 in event.dl1.tel.items():      \n",
    "\n",
    "            camera = event.inst.subarray.tels[telescope_id].camera\n",
    "            image = dl1.image[0]\n",
    "            peakpos = dl1.peakpos[0]\n",
    "\n",
    "            boundary, picture, min_neighbors = cleaning_level[camera.cam_id]\n",
    "\n",
    "            clean = tailcuts_clean(\n",
    "                camera, \n",
    "                image,\n",
    "                boundary_thresh=boundary,\n",
    "                picture_thresh=picture,\n",
    "                min_number_picture_neighbors=min_neighbors\n",
    "            )\n",
    "            \n",
    "            if clean.sum() < 5:\n",
    "                continue\n",
    "\n",
    "            hillas_c = hillas_parameters(camera[clean], image[clean])\n",
    "            leakage_c = leakage(camera, image, clean)\n",
    "            timing_c = timing_parameters(camera[clean], image[clean], peakpos[clean], hillas_c)\n",
    "\n",
    "            writer.write('events', [event, event.mc, hillas_c, leakage_c, timing_c])\n",
    "    \n"
   ]
  },
  {
   "cell_type": "code",
   "execution_count": null,
   "metadata": {},
   "outputs": [],
   "source": [
    "df = pd.read_hdf('hillas.h5')\n",
    "\n",
    "print(len(df))\n",
    "df.head()"
   ]
  },
  {
   "cell_type": "code",
   "execution_count": null,
   "metadata": {},
   "outputs": [],
   "source": [
    "plt.scatter(np.log10(df.energy), np.log10(df.intensity))\n",
    "plt.xlabel('log10(E / TeV)')\n",
    "plt.ylabel('log10(intensity)')\n",
    "None"
   ]
  },
  {
   "cell_type": "code",
   "execution_count": null,
   "metadata": {},
   "outputs": [],
   "source": []
  }
 ],
 "metadata": {
  "celltoolbar": "Slideshow",
  "kernelspec": {
   "display_name": "Python 3",
   "language": "python",
   "name": "python3"
  },
  "language_info": {
   "codemirror_mode": {
    "name": "ipython",
    "version": 3
   },
   "file_extension": ".py",
   "mimetype": "text/x-python",
   "name": "python",
   "nbconvert_exporter": "python",
   "pygments_lexer": "ipython3",
   "version": "3.7.0"
  }
 },
 "nbformat": 4,
 "nbformat_minor": 2
}
