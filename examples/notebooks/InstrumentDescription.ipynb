{
 "cells": [
  {
   "cell_type": "markdown",
   "metadata": {},
   "source": [
    "# Working with Instrumental Descriptions\n",
    "\n",
    "the instrumental description is loaded by the event source, and consists of a hierarchy of classes in the ctapipe.instrument module, the base of which is the `SubarrayDescription`"
   ]
  },
  {
   "cell_type": "markdown",
   "metadata": {},
   "source": [
    "First, let's open a file and load a single event so we get the instrument info in the event.inst container."
   ]
  },
  {
   "cell_type": "code",
   "execution_count": 1,
   "metadata": {},
   "outputs": [
    {
     "name": "stderr",
     "output_type": "stream",
     "text": [
      "WARNING:ctapipe.core.provenance:No activity has been started... starting a default one\n"
     ]
    }
   ],
   "source": [
    "from ctapipe.utils.datasets import get_dataset\n",
    "from ctapipe.io.hessio import hessio_event_source\n",
    "import numpy as np\n",
    "\n",
    "#filename = get_dataset(\"gamma_test_large.simtel.gz\") # try this one as well\n",
    "filename = get_dataset(\"gamma_test.simtel.gz\")  \n",
    "\n",
    "\n",
    "source = hessio_event_source(filename)\n",
    "event = next(source)\n",
    "del source # close the file"
   ]
  },
  {
   "cell_type": "markdown",
   "metadata": {},
   "source": [
    "### now let's play with the SubarrayDescription:"
   ]
  },
  {
   "cell_type": "code",
   "execution_count": 2,
   "metadata": {},
   "outputs": [
    {
     "name": "stdout",
     "output_type": "stream",
     "text": [
      "Subarray : MonteCarloArray\n",
      "Num Tels : 126\n",
      "Footprint: 7.32 km2\n",
      "\n",
      "                TYPE  Num IDmin  IDmax\n",
      "=====================================\n",
      "          LST:LSTCam    4    1 ..   4\n",
      "       MST:NectarCam   24    5 ..  28\n",
      "      SST-ASTRI:CHEC   72   29 .. 100\n",
      "      MST-SCT:SCTCam   26  101 .. 126\n"
     ]
    }
   ],
   "source": [
    "subarray = event.inst.subarray\n",
    "\n",
    "subarray.info()"
   ]
  },
  {
   "cell_type": "code",
   "execution_count": 3,
   "metadata": {},
   "outputs": [
    {
     "data": {
      "text/html": [
       "&lt;Table length=126&gt;\n",
       "<table id=\"table4397933848\" class=\"table-striped table-bordered table-condensed\">\n",
       "<thead><tr><th>tel_id</th><th>tel_pos_x</th><th>tel_pos_y</th><th>tel_type</th><th>tel_subtype</th><th>mirror_type</th><th>camera_type</th><th>tel_description</th></tr></thead>\n",
       "<thead><tr><th></th><th>m</th><th>m</th><th></th><th></th><th></th><th></th><th></th></tr></thead>\n",
       "<thead><tr><th>int16</th><th>float64</th><th>float64</th><th>str3</th><th>str5</th><th>str2</th><th>str9</th><th>str14</th></tr></thead>\n",
       "<tr><td>1</td><td>50.0</td><td>50.0</td><td>LST</td><td></td><td>DC</td><td>LSTCam</td><td>LST:LSTCam</td></tr>\n",
       "<tr><td>2</td><td>-50.0</td><td>50.0</td><td>LST</td><td></td><td>DC</td><td>LSTCam</td><td>LST:LSTCam</td></tr>\n",
       "<tr><td>3</td><td>50.0</td><td>-50.0</td><td>LST</td><td></td><td>DC</td><td>LSTCam</td><td>LST:LSTCam</td></tr>\n",
       "<tr><td>4</td><td>-50.0</td><td>-50.0</td><td>LST</td><td></td><td>DC</td><td>LSTCam</td><td>LST:LSTCam</td></tr>\n",
       "<tr><td>5</td><td>141.100006104</td><td>0.0</td><td>MST</td><td></td><td>DC</td><td>NectarCam</td><td>MST:NectarCam</td></tr>\n",
       "<tr><td>6</td><td>-141.100006104</td><td>0.0</td><td>MST</td><td></td><td>DC</td><td>NectarCam</td><td>MST:NectarCam</td></tr>\n",
       "<tr><td>7</td><td>0.0</td><td>55.4000015259</td><td>MST</td><td></td><td>DC</td><td>NectarCam</td><td>MST:NectarCam</td></tr>\n",
       "<tr><td>8</td><td>298.399993896</td><td>66.9000015259</td><td>MST</td><td></td><td>DC</td><td>NectarCam</td><td>MST:NectarCam</td></tr>\n",
       "<tr><td>9</td><td>-298.399993896</td><td>66.9000015259</td><td>MST</td><td></td><td>DC</td><td>NectarCam</td><td>MST:NectarCam</td></tr>\n",
       "<tr><td>...</td><td>...</td><td>...</td><td>...</td><td>...</td><td>...</td><td>...</td><td>...</td></tr>\n",
       "<tr><td>117</td><td>-350.0</td><td>-350.0</td><td>MST</td><td>SCT</td><td>SC</td><td>SCTCam</td><td>MST-SCT:SCTCam</td></tr>\n",
       "<tr><td>118</td><td>350.0</td><td>-350.0</td><td>MST</td><td>SCT</td><td>SC</td><td>SCTCam</td><td>MST-SCT:SCTCam</td></tr>\n",
       "<tr><td>119</td><td>550.0</td><td>-150.0</td><td>MST</td><td>SCT</td><td>SC</td><td>SCTCam</td><td>MST-SCT:SCTCam</td></tr>\n",
       "<tr><td>120</td><td>150.0</td><td>-550.0</td><td>MST</td><td>SCT</td><td>SC</td><td>SCTCam</td><td>MST-SCT:SCTCam</td></tr>\n",
       "<tr><td>121</td><td>550.0</td><td>150.0</td><td>MST</td><td>SCT</td><td>SC</td><td>SCTCam</td><td>MST-SCT:SCTCam</td></tr>\n",
       "<tr><td>122</td><td>150.0</td><td>550.0</td><td>MST</td><td>SCT</td><td>SC</td><td>SCTCam</td><td>MST-SCT:SCTCam</td></tr>\n",
       "<tr><td>123</td><td>-150.0</td><td>550.0</td><td>MST</td><td>SCT</td><td>SC</td><td>SCTCam</td><td>MST-SCT:SCTCam</td></tr>\n",
       "<tr><td>124</td><td>-550.0</td><td>150.0</td><td>MST</td><td>SCT</td><td>SC</td><td>SCTCam</td><td>MST-SCT:SCTCam</td></tr>\n",
       "<tr><td>125</td><td>-150.0</td><td>-550.0</td><td>MST</td><td>SCT</td><td>SC</td><td>SCTCam</td><td>MST-SCT:SCTCam</td></tr>\n",
       "<tr><td>126</td><td>-550.0</td><td>-150.0</td><td>MST</td><td>SCT</td><td>SC</td><td>SCTCam</td><td>MST-SCT:SCTCam</td></tr>\n",
       "</table>"
      ],
      "text/plain": [
       "<Table length=126>\n",
       "tel_id   tel_pos_x      tel_pos_y   ... mirror_type camera_type tel_description\n",
       "             m              m       ...                                        \n",
       "int16     float64        float64    ...     str2        str9         str14     \n",
       "------ -------------- ------------- ... ----------- ----------- ---------------\n",
       "     1           50.0          50.0 ...          DC      LSTCam      LST:LSTCam\n",
       "     2          -50.0          50.0 ...          DC      LSTCam      LST:LSTCam\n",
       "     3           50.0         -50.0 ...          DC      LSTCam      LST:LSTCam\n",
       "     4          -50.0         -50.0 ...          DC      LSTCam      LST:LSTCam\n",
       "     5  141.100006104           0.0 ...          DC   NectarCam   MST:NectarCam\n",
       "     6 -141.100006104           0.0 ...          DC   NectarCam   MST:NectarCam\n",
       "     7            0.0 55.4000015259 ...          DC   NectarCam   MST:NectarCam\n",
       "     8  298.399993896 66.9000015259 ...          DC   NectarCam   MST:NectarCam\n",
       "     9 -298.399993896 66.9000015259 ...          DC   NectarCam   MST:NectarCam\n",
       "   ...            ...           ... ...         ...         ...             ...\n",
       "   117         -350.0        -350.0 ...          SC      SCTCam  MST-SCT:SCTCam\n",
       "   118          350.0        -350.0 ...          SC      SCTCam  MST-SCT:SCTCam\n",
       "   119          550.0        -150.0 ...          SC      SCTCam  MST-SCT:SCTCam\n",
       "   120          150.0        -550.0 ...          SC      SCTCam  MST-SCT:SCTCam\n",
       "   121          550.0         150.0 ...          SC      SCTCam  MST-SCT:SCTCam\n",
       "   122          150.0         550.0 ...          SC      SCTCam  MST-SCT:SCTCam\n",
       "   123         -150.0         550.0 ...          SC      SCTCam  MST-SCT:SCTCam\n",
       "   124         -550.0         150.0 ...          SC      SCTCam  MST-SCT:SCTCam\n",
       "   125         -150.0        -550.0 ...          SC      SCTCam  MST-SCT:SCTCam\n",
       "   126         -550.0        -150.0 ...          SC      SCTCam  MST-SCT:SCTCam"
      ]
     },
     "execution_count": 3,
     "metadata": {},
     "output_type": "execute_result"
    }
   ],
   "source": [
    "subarray.to_table()"
   ]
  },
  {
   "cell_type": "markdown",
   "metadata": {},
   "source": [
    "You can also get a table of just the `OpticsDescriptions` (`CameraGeometry` is more complex and can't be stored on a single table row, so each one can be converted to a table separately)"
   ]
  },
  {
   "cell_type": "code",
   "execution_count": 4,
   "metadata": {},
   "outputs": [
    {
     "data": {
      "text/html": [
       "&lt;Table length=4&gt;\n",
       "<table id=\"table9202131968\" class=\"table-striped table-bordered table-condensed\">\n",
       "<thead><tr><th>tel_type</th><th>tel_subtype</th><th>mirror_area</th><th>mirror_type</th><th>num_mirror_tiles</th><th>equivalent_focal_length</th></tr></thead>\n",
       "<thead><tr><th></th><th></th><th>m2</th><th></th><th></th><th>m</th></tr></thead>\n",
       "<thead><tr><th>str3</th><th>str5</th><th>float64</th><th>str2</th><th>int64</th><th>float64</th></tr></thead>\n",
       "<tr><td>MST</td><td>SCT</td><td>73.3475723267</td><td>SC</td><td>2</td><td>5.58629989624</td></tr>\n",
       "<tr><td>MST</td><td></td><td>103.830558777</td><td>DC</td><td>84</td><td>16.0</td></tr>\n",
       "<tr><td>SST</td><td>ASTRI</td><td>14.5625667572</td><td>SC</td><td>2</td><td>2.15000009537</td></tr>\n",
       "<tr><td>LST</td><td></td><td>386.751556396</td><td>DC</td><td>198</td><td>28.0</td></tr>\n",
       "</table>"
      ],
      "text/plain": [
       "<Table length=4>\n",
       "tel_type tel_subtype  mirror_area  ... num_mirror_tiles equivalent_focal_length\n",
       "                           m2      ...                            m           \n",
       "  str3       str5       float64    ...      int64              float64        \n",
       "-------- ----------- ------------- ... ---------------- ----------------------\n",
       "     MST         SCT 73.3475723267 ...                2          5.58629989624\n",
       "     MST             103.830558777 ...               84                   16.0\n",
       "     SST       ASTRI 14.5625667572 ...                2          2.15000009537\n",
       "     LST             386.751556396 ...              198                   28.0"
      ]
     },
     "execution_count": 4,
     "metadata": {},
     "output_type": "execute_result"
    }
   ],
   "source": [
    "subarray.to_table(kind='optics')"
   ]
  },
  {
   "cell_type": "markdown",
   "metadata": {},
   "source": [
    "Make a sub-array with only SC-type telescopes:"
   ]
  },
  {
   "cell_type": "code",
   "execution_count": 5,
   "metadata": {},
   "outputs": [
    {
     "name": "stdout",
     "output_type": "stream",
     "text": [
      "Subarray : SCTels\n",
      "Num Tels : 98\n",
      "Footprint: 7.32 km2\n",
      "\n",
      "                TYPE  Num IDmin  IDmax\n",
      "=====================================\n",
      "      SST-ASTRI:CHEC   72   29 .. 100\n",
      "      MST-SCT:SCTCam   26  101 .. 126\n"
     ]
    }
   ],
   "source": [
    "tab = subarray.to_table()\n",
    "sc_tels = tab[tab['mirror_type']=='SC']['tel_id']  # select tel_id of entries where the mirror type is SC\n",
    "newsub = subarray.select_subarray(\"SCTels\", sc_tels)\n",
    "newsub.info()"
   ]
  },
  {
   "cell_type": "markdown",
   "metadata": {},
   "source": [
    "can also do this by using `Table.group_by`"
   ]
  },
  {
   "cell_type": "code",
   "execution_count": 6,
   "metadata": {},
   "outputs": [
    {
     "name": "stdout",
     "output_type": "stream",
     "text": [
      "Subarray : SCTels\n",
      "Num Tels : 98\n",
      "Footprint: 7.32 km2\n",
      "\n",
      "                TYPE  Num IDmin  IDmax\n",
      "=====================================\n",
      "      SST-ASTRI:CHEC   72   29 .. 100\n",
      "      MST-SCT:SCTCam   26  101 .. 126\n"
     ]
    }
   ],
   "source": [
    "gtab = tab.group_by('mirror_type')\n",
    "sc = gtab.groups[1]\n",
    "newsub = subarray.select_subarray(\"SCTels\", sc['tel_id'])\n",
    "newsub.info()"
   ]
  },
  {
   "cell_type": "markdown",
   "metadata": {},
   "source": [
    "### Explore some of the details of the telescopes"
   ]
  },
  {
   "cell_type": "code",
   "execution_count": 7,
   "metadata": {},
   "outputs": [
    {
     "data": {
      "text/plain": [
       "TelescopeDescription(optics=MST, camera=NectarCam)"
      ]
     },
     "execution_count": 7,
     "metadata": {},
     "output_type": "execute_result"
    }
   ],
   "source": [
    "tel = subarray.tel[5]\n",
    "tel"
   ]
  },
  {
   "cell_type": "code",
   "execution_count": 8,
   "metadata": {},
   "outputs": [
    {
     "data": {
      "text/latex": [
       "$103.83056 \\; \\mathrm{m^{2}}$"
      ],
      "text/plain": [
       "<Quantity 103.83055877685547 m2>"
      ]
     },
     "execution_count": 8,
     "metadata": {},
     "output_type": "execute_result"
    }
   ],
   "source": [
    "tel.optics.mirror_area"
   ]
  },
  {
   "cell_type": "code",
   "execution_count": 9,
   "metadata": {},
   "outputs": [
    {
     "data": {
      "text/plain": [
       "84"
      ]
     },
     "execution_count": 9,
     "metadata": {},
     "output_type": "execute_result"
    }
   ],
   "source": [
    "tel.optics.num_mirror_tiles"
   ]
  },
  {
   "cell_type": "code",
   "execution_count": 10,
   "metadata": {},
   "outputs": [
    {
     "data": {
      "text/latex": [
       "$16 \\; \\mathrm{m}$"
      ],
      "text/plain": [
       "<Quantity 16.0 m>"
      ]
     },
     "execution_count": 10,
     "metadata": {},
     "output_type": "execute_result"
    }
   ],
   "source": [
    "tel.optics.equivalent_focal_length"
   ]
  },
  {
   "cell_type": "code",
   "execution_count": 11,
   "metadata": {},
   "outputs": [
    {
     "data": {
      "text/plain": [
       "CameraGeometry(cam_id='NectarCam', pix_type='hexagonal', npix=1855, cam_rot=0.0 deg, pix_rot=100.893 deg)"
      ]
     },
     "execution_count": 11,
     "metadata": {},
     "output_type": "execute_result"
    }
   ],
   "source": [
    "tel.camera"
   ]
  },
  {
   "cell_type": "code",
   "execution_count": 12,
   "metadata": {},
   "outputs": [
    {
     "data": {
      "text/latex": [
       "$[0,~-0.0094487738,~-0.047244198,~\\dots, -0.6519913,~-0.6141959,~-0.62364467] \\; \\mathrm{m}$"
      ],
      "text/plain": [
       "<Quantity [ 0.        ,-0.00944877,-0.0472442 ,..., -0.6519913 ,\n",
       "           -0.6141959 ,-0.62364467] m>"
      ]
     },
     "execution_count": 12,
     "metadata": {},
     "output_type": "execute_result"
    }
   ],
   "source": [
    "tel.camera.pix_x"
   ]
  },
  {
   "cell_type": "code",
   "execution_count": 13,
   "metadata": {},
   "outputs": [
    {
     "data": {
      "text/plain": [
       "<ctapipe.visualization.mpl.CameraDisplay at 0x10fd05f60>"
      ]
     },
     "execution_count": 13,
     "metadata": {},
     "output_type": "execute_result"
    },
    {
     "data": {
      "image/png": "[encoded data removed]",
      "text/plain": [
       "<matplotlib.figure.Figure at 0x106dbda58>"
      ]
     },
     "metadata": {},
     "output_type": "display_data"
    }
   ],
   "source": [
    "%matplotlib inline\n",
    "from ctapipe.visualization import CameraDisplay\n",
    "CameraDisplay(tel.camera)"
   ]
  },
  {
   "cell_type": "code",
   "execution_count": 14,
   "metadata": {},
   "outputs": [
    {
     "data": {
      "text/plain": [
       "<ctapipe.visualization.mpl.CameraDisplay at 0x1114420f0>"
      ]
     },
     "execution_count": 14,
     "metadata": {},
     "output_type": "execute_result"
    },
    {
     "data": {
      "image/png": "[encoded data removed]",
      "text/plain": [
       "<matplotlib.figure.Figure at 0x1114427f0>"
      ]
     },
     "metadata": {},
     "output_type": "display_data"
    }
   ],
   "source": [
    "CameraDisplay(subarray.tel[98].camera)"
   ]
  },
  {
   "cell_type": "markdown",
   "metadata": {},
   "source": [
    "## Plot the subarray\n",
    "\n",
    "We'll make a subarray by telescope type and plot each separately, so they appear in different colors.  We also calculate the radius using the mirror area (and exagerate it a bit).\n",
    "\n",
    "This is just for debugging and info, for any \"real\" use, a `visualization.ArrayDisplay` should be used"
   ]
  },
  {
   "cell_type": "code",
   "execution_count": 15,
   "metadata": {},
   "outputs": [
    {
     "data": {
      "image/png": "[encoded data removed]",
      "text/plain": [
       "<matplotlib.figure.Figure at 0x112365da0>"
      ]
     },
     "metadata": {},
     "output_type": "display_data"
    }
   ],
   "source": [
    "subarray.peek()"
   ]
  },
  {
   "cell_type": "code",
   "execution_count": 16,
   "metadata": {},
   "outputs": [
    {
     "data": {
      "text/latex": [
       "$7.3166122 \\; \\mathrm{km^{2}}$"
      ],
      "text/plain": [
       "<Quantity 7.316612241794466 km2>"
      ]
     },
     "execution_count": 16,
     "metadata": {},
     "output_type": "execute_result"
    }
   ],
   "source": [
    "subarray.footprint"
   ]
  },
  {
   "cell_type": "markdown",
   "metadata": {},
   "source": [
    "### With Pandas\n",
    "If you prefer working with *Pandas* `DataFrames` instead of *AstroPy* `Tables`, you can always convert between the two:"
   ]
  },
  {
   "cell_type": "code",
   "execution_count": 17,
   "metadata": {},
   "outputs": [
    {
     "data": {
      "text/html": [
       "<div>\n",
       "<style>\n",
       "    .dataframe thead tr:only-child th {\n",
       "        text-align: right;\n",
       "    }\n",
       "\n",
       "    .dataframe thead th {\n",
       "        text-align: left;\n",
       "    }\n",
       "\n",
       "    .dataframe tbody tr th {\n",
       "        vertical-align: top;\n",
       "    }\n",
       "</style>\n",
       "<table border=\"1\" class=\"dataframe\">\n",
       "  <thead>\n",
       "    <tr style=\"text-align: right;\">\n",
       "      <th></th>\n",
       "      <th>tel_pos_x</th>\n",
       "      <th>tel_pos_y</th>\n",
       "      <th>tel_type</th>\n",
       "      <th>tel_subtype</th>\n",
       "      <th>mirror_type</th>\n",
       "      <th>camera_type</th>\n",
       "      <th>tel_description</th>\n",
       "    </tr>\n",
       "    <tr>\n",
       "      <th>tel_id</th>\n",
       "      <th></th>\n",
       "      <th></th>\n",
       "      <th></th>\n",
       "      <th></th>\n",
       "      <th></th>\n",
       "      <th></th>\n",
       "      <th></th>\n",
       "    </tr>\n",
       "  </thead>\n",
       "  <tbody>\n",
       "    <tr>\n",
       "      <th>1</th>\n",
       "      <td>50.000000</td>\n",
       "      <td>50.000000</td>\n",
       "      <td>LST</td>\n",
       "      <td></td>\n",
       "      <td>DC</td>\n",
       "      <td>LSTCam</td>\n",
       "      <td>LST:LSTCam</td>\n",
       "    </tr>\n",
       "    <tr>\n",
       "      <th>2</th>\n",
       "      <td>-50.000000</td>\n",
       "      <td>50.000000</td>\n",
       "      <td>LST</td>\n",
       "      <td></td>\n",
       "      <td>DC</td>\n",
       "      <td>LSTCam</td>\n",
       "      <td>LST:LSTCam</td>\n",
       "    </tr>\n",
       "    <tr>\n",
       "      <th>3</th>\n",
       "      <td>50.000000</td>\n",
       "      <td>-50.000000</td>\n",
       "      <td>LST</td>\n",
       "      <td></td>\n",
       "      <td>DC</td>\n",
       "      <td>LSTCam</td>\n",
       "      <td>LST:LSTCam</td>\n",
       "    </tr>\n",
       "    <tr>\n",
       "      <th>4</th>\n",
       "      <td>-50.000000</td>\n",
       "      <td>-50.000000</td>\n",
       "      <td>LST</td>\n",
       "      <td></td>\n",
       "      <td>DC</td>\n",
       "      <td>LSTCam</td>\n",
       "      <td>LST:LSTCam</td>\n",
       "    </tr>\n",
       "    <tr>\n",
       "      <th>5</th>\n",
       "      <td>141.100006</td>\n",
       "      <td>0.000000</td>\n",
       "      <td>MST</td>\n",
       "      <td></td>\n",
       "      <td>DC</td>\n",
       "      <td>NectarCam</td>\n",
       "      <td>MST:NectarCam</td>\n",
       "    </tr>\n",
       "    <tr>\n",
       "      <th>6</th>\n",
       "      <td>-141.100006</td>\n",
       "      <td>0.000000</td>\n",
       "      <td>MST</td>\n",
       "      <td></td>\n",
       "      <td>DC</td>\n",
       "      <td>NectarCam</td>\n",
       "      <td>MST:NectarCam</td>\n",
       "    </tr>\n",
       "    <tr>\n",
       "      <th>7</th>\n",
       "      <td>0.000000</td>\n",
       "      <td>55.400002</td>\n",
       "      <td>MST</td>\n",
       "      <td></td>\n",
       "      <td>DC</td>\n",
       "      <td>NectarCam</td>\n",
       "      <td>MST:NectarCam</td>\n",
       "    </tr>\n",
       "    <tr>\n",
       "      <th>8</th>\n",
       "      <td>298.399994</td>\n",
       "      <td>66.900002</td>\n",
       "      <td>MST</td>\n",
       "      <td></td>\n",
       "      <td>DC</td>\n",
       "      <td>NectarCam</td>\n",
       "      <td>MST:NectarCam</td>\n",
       "    </tr>\n",
       "    <tr>\n",
       "      <th>9</th>\n",
       "      <td>-298.399994</td>\n",
       "      <td>66.900002</td>\n",
       "      <td>MST</td>\n",
       "      <td></td>\n",
       "      <td>DC</td>\n",
       "      <td>NectarCam</td>\n",
       "      <td>MST:NectarCam</td>\n",
       "    </tr>\n",
       "    <tr>\n",
       "      <th>10</th>\n",
       "      <td>-0.000000</td>\n",
       "      <td>-55.400002</td>\n",
       "      <td>MST</td>\n",
       "      <td></td>\n",
       "      <td>DC</td>\n",
       "      <td>NectarCam</td>\n",
       "      <td>MST:NectarCam</td>\n",
       "    </tr>\n",
       "    <tr>\n",
       "      <th>11</th>\n",
       "      <td>298.399994</td>\n",
       "      <td>-66.900002</td>\n",
       "      <td>MST</td>\n",
       "      <td></td>\n",
       "      <td>DC</td>\n",
       "      <td>NectarCam</td>\n",
       "      <td>MST:NectarCam</td>\n",
       "    </tr>\n",
       "    <tr>\n",
       "      <th>12</th>\n",
       "      <td>-298.399994</td>\n",
       "      <td>-66.900002</td>\n",
       "      <td>MST</td>\n",
       "      <td></td>\n",
       "      <td>DC</td>\n",
       "      <td>NectarCam</td>\n",
       "      <td>MST:NectarCam</td>\n",
       "    </tr>\n",
       "    <tr>\n",
       "      <th>13</th>\n",
       "      <td>130.300003</td>\n",
       "      <td>126.300003</td>\n",
       "      <td>MST</td>\n",
       "      <td></td>\n",
       "      <td>DC</td>\n",
       "      <td>NectarCam</td>\n",
       "      <td>MST:NectarCam</td>\n",
       "    </tr>\n",
       "    <tr>\n",
       "      <th>14</th>\n",
       "      <td>-130.300003</td>\n",
       "      <td>126.300003</td>\n",
       "      <td>MST</td>\n",
       "      <td></td>\n",
       "      <td>DC</td>\n",
       "      <td>NectarCam</td>\n",
       "      <td>MST:NectarCam</td>\n",
       "    </tr>\n",
       "    <tr>\n",
       "      <th>15</th>\n",
       "      <td>-0.000000</td>\n",
       "      <td>186.500000</td>\n",
       "      <td>MST</td>\n",
       "      <td></td>\n",
       "      <td>DC</td>\n",
       "      <td>NectarCam</td>\n",
       "      <td>MST:NectarCam</td>\n",
       "    </tr>\n",
       "    <tr>\n",
       "      <th>16</th>\n",
       "      <td>270.000000</td>\n",
       "      <td>206.899994</td>\n",
       "      <td>MST</td>\n",
       "      <td></td>\n",
       "      <td>DC</td>\n",
       "      <td>NectarCam</td>\n",
       "      <td>MST:NectarCam</td>\n",
       "    </tr>\n",
       "    <tr>\n",
       "      <th>17</th>\n",
       "      <td>-270.000000</td>\n",
       "      <td>206.899994</td>\n",
       "      <td>MST</td>\n",
       "      <td></td>\n",
       "      <td>DC</td>\n",
       "      <td>NectarCam</td>\n",
       "      <td>MST:NectarCam</td>\n",
       "    </tr>\n",
       "    <tr>\n",
       "      <th>18</th>\n",
       "      <td>139.899994</td>\n",
       "      <td>283.700012</td>\n",
       "      <td>MST</td>\n",
       "      <td></td>\n",
       "      <td>DC</td>\n",
       "      <td>NectarCam</td>\n",
       "      <td>MST:NectarCam</td>\n",
       "    </tr>\n",
       "    <tr>\n",
       "      <th>19</th>\n",
       "      <td>-139.899994</td>\n",
       "      <td>283.700012</td>\n",
       "      <td>MST</td>\n",
       "      <td></td>\n",
       "      <td>DC</td>\n",
       "      <td>NectarCam</td>\n",
       "      <td>MST:NectarCam</td>\n",
       "    </tr>\n",
       "    <tr>\n",
       "      <th>20</th>\n",
       "      <td>-0.000000</td>\n",
       "      <td>340.700012</td>\n",
       "      <td>MST</td>\n",
       "      <td></td>\n",
       "      <td>DC</td>\n",
       "      <td>NectarCam</td>\n",
       "      <td>MST:NectarCam</td>\n",
       "    </tr>\n",
       "    <tr>\n",
       "      <th>21</th>\n",
       "      <td>130.300003</td>\n",
       "      <td>-126.300003</td>\n",
       "      <td>MST</td>\n",
       "      <td></td>\n",
       "      <td>DC</td>\n",
       "      <td>NectarCam</td>\n",
       "      <td>MST:NectarCam</td>\n",
       "    </tr>\n",
       "    <tr>\n",
       "      <th>22</th>\n",
       "      <td>-130.300003</td>\n",
       "      <td>-126.300003</td>\n",
       "      <td>MST</td>\n",
       "      <td></td>\n",
       "      <td>DC</td>\n",
       "      <td>NectarCam</td>\n",
       "      <td>MST:NectarCam</td>\n",
       "    </tr>\n",
       "    <tr>\n",
       "      <th>23</th>\n",
       "      <td>-0.000000</td>\n",
       "      <td>-186.500000</td>\n",
       "      <td>MST</td>\n",
       "      <td></td>\n",
       "      <td>DC</td>\n",
       "      <td>NectarCam</td>\n",
       "      <td>MST:NectarCam</td>\n",
       "    </tr>\n",
       "    <tr>\n",
       "      <th>24</th>\n",
       "      <td>270.000000</td>\n",
       "      <td>-206.899994</td>\n",
       "      <td>MST</td>\n",
       "      <td></td>\n",
       "      <td>DC</td>\n",
       "      <td>NectarCam</td>\n",
       "      <td>MST:NectarCam</td>\n",
       "    </tr>\n",
       "    <tr>\n",
       "      <th>25</th>\n",
       "      <td>-270.000000</td>\n",
       "      <td>-206.899994</td>\n",
       "      <td>MST</td>\n",
       "      <td></td>\n",
       "      <td>DC</td>\n",
       "      <td>NectarCam</td>\n",
       "      <td>MST:NectarCam</td>\n",
       "    </tr>\n",
       "    <tr>\n",
       "      <th>26</th>\n",
       "      <td>139.899994</td>\n",
       "      <td>-283.700012</td>\n",
       "      <td>MST</td>\n",
       "      <td></td>\n",
       "      <td>DC</td>\n",
       "      <td>NectarCam</td>\n",
       "      <td>MST:NectarCam</td>\n",
       "    </tr>\n",
       "    <tr>\n",
       "      <th>27</th>\n",
       "      <td>-139.899994</td>\n",
       "      <td>-283.700012</td>\n",
       "      <td>MST</td>\n",
       "      <td></td>\n",
       "      <td>DC</td>\n",
       "      <td>NectarCam</td>\n",
       "      <td>MST:NectarCam</td>\n",
       "    </tr>\n",
       "    <tr>\n",
       "      <th>28</th>\n",
       "      <td>0.000000</td>\n",
       "      <td>-340.700012</td>\n",
       "      <td>MST</td>\n",
       "      <td></td>\n",
       "      <td>DC</td>\n",
       "      <td>NectarCam</td>\n",
       "      <td>MST:NectarCam</td>\n",
       "    </tr>\n",
       "    <tr>\n",
       "      <th>29</th>\n",
       "      <td>-0.000000</td>\n",
       "      <td>128.300003</td>\n",
       "      <td>SST</td>\n",
       "      <td>ASTRI</td>\n",
       "      <td>SC</td>\n",
       "      <td>CHEC</td>\n",
       "      <td>SST-ASTRI:CHEC</td>\n",
       "    </tr>\n",
       "    <tr>\n",
       "      <th>30</th>\n",
       "      <td>1288.400024</td>\n",
       "      <td>134.600006</td>\n",
       "      <td>SST</td>\n",
       "      <td>ASTRI</td>\n",
       "      <td>SC</td>\n",
       "      <td>CHEC</td>\n",
       "      <td>SST-ASTRI:CHEC</td>\n",
       "    </tr>\n",
       "    <tr>\n",
       "      <th>...</th>\n",
       "      <td>...</td>\n",
       "      <td>...</td>\n",
       "      <td>...</td>\n",
       "      <td>...</td>\n",
       "      <td>...</td>\n",
       "      <td>...</td>\n",
       "      <td>...</td>\n",
       "    </tr>\n",
       "    <tr>\n",
       "      <th>97</th>\n",
       "      <td>-512.900024</td>\n",
       "      <td>-1202.900024</td>\n",
       "      <td>SST</td>\n",
       "      <td>ASTRI</td>\n",
       "      <td>SC</td>\n",
       "      <td>CHEC</td>\n",
       "      <td>SST-ASTRI:CHEC</td>\n",
       "    </tr>\n",
       "    <tr>\n",
       "      <th>98</th>\n",
       "      <td>0.000000</td>\n",
       "      <td>-1208.000000</td>\n",
       "      <td>SST</td>\n",
       "      <td>ASTRI</td>\n",
       "      <td>SC</td>\n",
       "      <td>CHEC</td>\n",
       "      <td>SST-ASTRI:CHEC</td>\n",
       "    </tr>\n",
       "    <tr>\n",
       "      <th>99</th>\n",
       "      <td>251.100006</td>\n",
       "      <td>-1226.599976</td>\n",
       "      <td>SST</td>\n",
       "      <td>ASTRI</td>\n",
       "      <td>SC</td>\n",
       "      <td>CHEC</td>\n",
       "      <td>SST-ASTRI:CHEC</td>\n",
       "    </tr>\n",
       "    <tr>\n",
       "      <th>100</th>\n",
       "      <td>-251.100006</td>\n",
       "      <td>-1226.599976</td>\n",
       "      <td>SST</td>\n",
       "      <td>ASTRI</td>\n",
       "      <td>SC</td>\n",
       "      <td>CHEC</td>\n",
       "      <td>SST-ASTRI:CHEC</td>\n",
       "    </tr>\n",
       "    <tr>\n",
       "      <th>101</th>\n",
       "      <td>679.900024</td>\n",
       "      <td>0.000000</td>\n",
       "      <td>MST</td>\n",
       "      <td>SCT</td>\n",
       "      <td>SC</td>\n",
       "      <td>SCTCam</td>\n",
       "      <td>MST-SCT:SCTCam</td>\n",
       "    </tr>\n",
       "    <tr>\n",
       "      <th>102</th>\n",
       "      <td>-679.900024</td>\n",
       "      <td>-0.000000</td>\n",
       "      <td>MST</td>\n",
       "      <td>SCT</td>\n",
       "      <td>SC</td>\n",
       "      <td>SCTCam</td>\n",
       "      <td>MST-SCT:SCTCam</td>\n",
       "    </tr>\n",
       "    <tr>\n",
       "      <th>103</th>\n",
       "      <td>711.200012</td>\n",
       "      <td>273.600006</td>\n",
       "      <td>MST</td>\n",
       "      <td>SCT</td>\n",
       "      <td>SC</td>\n",
       "      <td>SCTCam</td>\n",
       "      <td>MST-SCT:SCTCam</td>\n",
       "    </tr>\n",
       "    <tr>\n",
       "      <th>104</th>\n",
       "      <td>-711.200012</td>\n",
       "      <td>273.600006</td>\n",
       "      <td>MST</td>\n",
       "      <td>SCT</td>\n",
       "      <td>SC</td>\n",
       "      <td>SCTCam</td>\n",
       "      <td>MST-SCT:SCTCam</td>\n",
       "    </tr>\n",
       "    <tr>\n",
       "      <th>105</th>\n",
       "      <td>655.500000</td>\n",
       "      <td>562.599976</td>\n",
       "      <td>MST</td>\n",
       "      <td>SCT</td>\n",
       "      <td>SC</td>\n",
       "      <td>SCTCam</td>\n",
       "      <td>MST-SCT:SCTCam</td>\n",
       "    </tr>\n",
       "    <tr>\n",
       "      <th>106</th>\n",
       "      <td>-655.500000</td>\n",
       "      <td>562.599976</td>\n",
       "      <td>MST</td>\n",
       "      <td>SCT</td>\n",
       "      <td>SC</td>\n",
       "      <td>SCTCam</td>\n",
       "      <td>MST-SCT:SCTCam</td>\n",
       "    </tr>\n",
       "    <tr>\n",
       "      <th>107</th>\n",
       "      <td>380.200012</td>\n",
       "      <td>647.000000</td>\n",
       "      <td>MST</td>\n",
       "      <td>SCT</td>\n",
       "      <td>SC</td>\n",
       "      <td>SCTCam</td>\n",
       "      <td>MST-SCT:SCTCam</td>\n",
       "    </tr>\n",
       "    <tr>\n",
       "      <th>108</th>\n",
       "      <td>-380.200012</td>\n",
       "      <td>647.000000</td>\n",
       "      <td>MST</td>\n",
       "      <td>SCT</td>\n",
       "      <td>SC</td>\n",
       "      <td>SCTCam</td>\n",
       "      <td>MST-SCT:SCTCam</td>\n",
       "    </tr>\n",
       "    <tr>\n",
       "      <th>109</th>\n",
       "      <td>711.200012</td>\n",
       "      <td>-273.600006</td>\n",
       "      <td>MST</td>\n",
       "      <td>SCT</td>\n",
       "      <td>SC</td>\n",
       "      <td>SCTCam</td>\n",
       "      <td>MST-SCT:SCTCam</td>\n",
       "    </tr>\n",
       "    <tr>\n",
       "      <th>110</th>\n",
       "      <td>-711.200012</td>\n",
       "      <td>-273.600006</td>\n",
       "      <td>MST</td>\n",
       "      <td>SCT</td>\n",
       "      <td>SC</td>\n",
       "      <td>SCTCam</td>\n",
       "      <td>MST-SCT:SCTCam</td>\n",
       "    </tr>\n",
       "    <tr>\n",
       "      <th>111</th>\n",
       "      <td>655.500000</td>\n",
       "      <td>-562.599976</td>\n",
       "      <td>MST</td>\n",
       "      <td>SCT</td>\n",
       "      <td>SC</td>\n",
       "      <td>SCTCam</td>\n",
       "      <td>MST-SCT:SCTCam</td>\n",
       "    </tr>\n",
       "    <tr>\n",
       "      <th>112</th>\n",
       "      <td>-655.500000</td>\n",
       "      <td>-562.599976</td>\n",
       "      <td>MST</td>\n",
       "      <td>SCT</td>\n",
       "      <td>SC</td>\n",
       "      <td>SCTCam</td>\n",
       "      <td>MST-SCT:SCTCam</td>\n",
       "    </tr>\n",
       "    <tr>\n",
       "      <th>113</th>\n",
       "      <td>380.200012</td>\n",
       "      <td>-647.000000</td>\n",
       "      <td>MST</td>\n",
       "      <td>SCT</td>\n",
       "      <td>SC</td>\n",
       "      <td>SCTCam</td>\n",
       "      <td>MST-SCT:SCTCam</td>\n",
       "    </tr>\n",
       "    <tr>\n",
       "      <th>114</th>\n",
       "      <td>-380.200012</td>\n",
       "      <td>-647.000000</td>\n",
       "      <td>MST</td>\n",
       "      <td>SCT</td>\n",
       "      <td>SC</td>\n",
       "      <td>SCTCam</td>\n",
       "      <td>MST-SCT:SCTCam</td>\n",
       "    </tr>\n",
       "    <tr>\n",
       "      <th>115</th>\n",
       "      <td>350.000000</td>\n",
       "      <td>350.000000</td>\n",
       "      <td>MST</td>\n",
       "      <td>SCT</td>\n",
       "      <td>SC</td>\n",
       "      <td>SCTCam</td>\n",
       "      <td>MST-SCT:SCTCam</td>\n",
       "    </tr>\n",
       "    <tr>\n",
       "      <th>116</th>\n",
       "      <td>-350.000000</td>\n",
       "      <td>350.000000</td>\n",
       "      <td>MST</td>\n",
       "      <td>SCT</td>\n",
       "      <td>SC</td>\n",
       "      <td>SCTCam</td>\n",
       "      <td>MST-SCT:SCTCam</td>\n",
       "    </tr>\n",
       "    <tr>\n",
       "      <th>117</th>\n",
       "      <td>-350.000000</td>\n",
       "      <td>-350.000000</td>\n",
       "      <td>MST</td>\n",
       "      <td>SCT</td>\n",
       "      <td>SC</td>\n",
       "      <td>SCTCam</td>\n",
       "      <td>MST-SCT:SCTCam</td>\n",
       "    </tr>\n",
       "    <tr>\n",
       "      <th>118</th>\n",
       "      <td>350.000000</td>\n",
       "      <td>-350.000000</td>\n",
       "      <td>MST</td>\n",
       "      <td>SCT</td>\n",
       "      <td>SC</td>\n",
       "      <td>SCTCam</td>\n",
       "      <td>MST-SCT:SCTCam</td>\n",
       "    </tr>\n",
       "    <tr>\n",
       "      <th>119</th>\n",
       "      <td>550.000000</td>\n",
       "      <td>-150.000000</td>\n",
       "      <td>MST</td>\n",
       "      <td>SCT</td>\n",
       "      <td>SC</td>\n",
       "      <td>SCTCam</td>\n",
       "      <td>MST-SCT:SCTCam</td>\n",
       "    </tr>\n",
       "    <tr>\n",
       "      <th>120</th>\n",
       "      <td>150.000000</td>\n",
       "      <td>-550.000000</td>\n",
       "      <td>MST</td>\n",
       "      <td>SCT</td>\n",
       "      <td>SC</td>\n",
       "      <td>SCTCam</td>\n",
       "      <td>MST-SCT:SCTCam</td>\n",
       "    </tr>\n",
       "    <tr>\n",
       "      <th>121</th>\n",
       "      <td>550.000000</td>\n",
       "      <td>150.000000</td>\n",
       "      <td>MST</td>\n",
       "      <td>SCT</td>\n",
       "      <td>SC</td>\n",
       "      <td>SCTCam</td>\n",
       "      <td>MST-SCT:SCTCam</td>\n",
       "    </tr>\n",
       "    <tr>\n",
       "      <th>122</th>\n",
       "      <td>150.000000</td>\n",
       "      <td>550.000000</td>\n",
       "      <td>MST</td>\n",
       "      <td>SCT</td>\n",
       "      <td>SC</td>\n",
       "      <td>SCTCam</td>\n",
       "      <td>MST-SCT:SCTCam</td>\n",
       "    </tr>\n",
       "    <tr>\n",
       "      <th>123</th>\n",
       "      <td>-150.000000</td>\n",
       "      <td>550.000000</td>\n",
       "      <td>MST</td>\n",
       "      <td>SCT</td>\n",
       "      <td>SC</td>\n",
       "      <td>SCTCam</td>\n",
       "      <td>MST-SCT:SCTCam</td>\n",
       "    </tr>\n",
       "    <tr>\n",
       "      <th>124</th>\n",
       "      <td>-550.000000</td>\n",
       "      <td>150.000000</td>\n",
       "      <td>MST</td>\n",
       "      <td>SCT</td>\n",
       "      <td>SC</td>\n",
       "      <td>SCTCam</td>\n",
       "      <td>MST-SCT:SCTCam</td>\n",
       "    </tr>\n",
       "    <tr>\n",
       "      <th>125</th>\n",
       "      <td>-150.000000</td>\n",
       "      <td>-550.000000</td>\n",
       "      <td>MST</td>\n",
       "      <td>SCT</td>\n",
       "      <td>SC</td>\n",
       "      <td>SCTCam</td>\n",
       "      <td>MST-SCT:SCTCam</td>\n",
       "    </tr>\n",
       "    <tr>\n",
       "      <th>126</th>\n",
       "      <td>-550.000000</td>\n",
       "      <td>-150.000000</td>\n",
       "      <td>MST</td>\n",
       "      <td>SCT</td>\n",
       "      <td>SC</td>\n",
       "      <td>SCTCam</td>\n",
       "      <td>MST-SCT:SCTCam</td>\n",
       "    </tr>\n",
       "  </tbody>\n",
       "</table>\n",
       "<p>126 rows × 7 columns</p>\n",
       "</div>"
      ],
      "text/plain": [
       "          tel_pos_x    tel_pos_y tel_type tel_subtype mirror_type camera_type  \\\n",
       "tel_id                                                                          \n",
       "1         50.000000    50.000000      LST                      DC      LSTCam   \n",
       "2        -50.000000    50.000000      LST                      DC      LSTCam   \n",
       "3         50.000000   -50.000000      LST                      DC      LSTCam   \n",
       "4        -50.000000   -50.000000      LST                      DC      LSTCam   \n",
       "5        141.100006     0.000000      MST                      DC   NectarCam   \n",
       "6       -141.100006     0.000000      MST                      DC   NectarCam   \n",
       "7          0.000000    55.400002      MST                      DC   NectarCam   \n",
       "8        298.399994    66.900002      MST                      DC   NectarCam   \n",
       "9       -298.399994    66.900002      MST                      DC   NectarCam   \n",
       "10        -0.000000   -55.400002      MST                      DC   NectarCam   \n",
       "11       298.399994   -66.900002      MST                      DC   NectarCam   \n",
       "12      -298.399994   -66.900002      MST                      DC   NectarCam   \n",
       "13       130.300003   126.300003      MST                      DC   NectarCam   \n",
       "14      -130.300003   126.300003      MST                      DC   NectarCam   \n",
       "15        -0.000000   186.500000      MST                      DC   NectarCam   \n",
       "16       270.000000   206.899994      MST                      DC   NectarCam   \n",
       "17      -270.000000   206.899994      MST                      DC   NectarCam   \n",
       "18       139.899994   283.700012      MST                      DC   NectarCam   \n",
       "19      -139.899994   283.700012      MST                      DC   NectarCam   \n",
       "20        -0.000000   340.700012      MST                      DC   NectarCam   \n",
       "21       130.300003  -126.300003      MST                      DC   NectarCam   \n",
       "22      -130.300003  -126.300003      MST                      DC   NectarCam   \n",
       "23        -0.000000  -186.500000      MST                      DC   NectarCam   \n",
       "24       270.000000  -206.899994      MST                      DC   NectarCam   \n",
       "25      -270.000000  -206.899994      MST                      DC   NectarCam   \n",
       "26       139.899994  -283.700012      MST                      DC   NectarCam   \n",
       "27      -139.899994  -283.700012      MST                      DC   NectarCam   \n",
       "28         0.000000  -340.700012      MST                      DC   NectarCam   \n",
       "29        -0.000000   128.300003      SST       ASTRI          SC        CHEC   \n",
       "30      1288.400024   134.600006      SST       ASTRI          SC        CHEC   \n",
       "...             ...          ...      ...         ...         ...         ...   \n",
       "97      -512.900024 -1202.900024      SST       ASTRI          SC        CHEC   \n",
       "98         0.000000 -1208.000000      SST       ASTRI          SC        CHEC   \n",
       "99       251.100006 -1226.599976      SST       ASTRI          SC        CHEC   \n",
       "100     -251.100006 -1226.599976      SST       ASTRI          SC        CHEC   \n",
       "101      679.900024     0.000000      MST         SCT          SC      SCTCam   \n",
       "102     -679.900024    -0.000000      MST         SCT          SC      SCTCam   \n",
       "103      711.200012   273.600006      MST         SCT          SC      SCTCam   \n",
       "104     -711.200012   273.600006      MST         SCT          SC      SCTCam   \n",
       "105      655.500000   562.599976      MST         SCT          SC      SCTCam   \n",
       "106     -655.500000   562.599976      MST         SCT          SC      SCTCam   \n",
       "107      380.200012   647.000000      MST         SCT          SC      SCTCam   \n",
       "108     -380.200012   647.000000      MST         SCT          SC      SCTCam   \n",
       "109      711.200012  -273.600006      MST         SCT          SC      SCTCam   \n",
       "110     -711.200012  -273.600006      MST         SCT          SC      SCTCam   \n",
       "111      655.500000  -562.599976      MST         SCT          SC      SCTCam   \n",
       "112     -655.500000  -562.599976      MST         SCT          SC      SCTCam   \n",
       "113      380.200012  -647.000000      MST         SCT          SC      SCTCam   \n",
       "114     -380.200012  -647.000000      MST         SCT          SC      SCTCam   \n",
       "115      350.000000   350.000000      MST         SCT          SC      SCTCam   \n",
       "116     -350.000000   350.000000      MST         SCT          SC      SCTCam   \n",
       "117     -350.000000  -350.000000      MST         SCT          SC      SCTCam   \n",
       "118      350.000000  -350.000000      MST         SCT          SC      SCTCam   \n",
       "119      550.000000  -150.000000      MST         SCT          SC      SCTCam   \n",
       "120      150.000000  -550.000000      MST         SCT          SC      SCTCam   \n",
       "121      550.000000   150.000000      MST         SCT          SC      SCTCam   \n",
       "122      150.000000   550.000000      MST         SCT          SC      SCTCam   \n",
       "123     -150.000000   550.000000      MST         SCT          SC      SCTCam   \n",
       "124     -550.000000   150.000000      MST         SCT          SC      SCTCam   \n",
       "125     -150.000000  -550.000000      MST         SCT          SC      SCTCam   \n",
       "126     -550.000000  -150.000000      MST         SCT          SC      SCTCam   \n",
       "\n",
       "       tel_description  \n",
       "tel_id                  \n",
       "1           LST:LSTCam  \n",
       "2           LST:LSTCam  \n",
       "3           LST:LSTCam  \n",
       "4           LST:LSTCam  \n",
       "5        MST:NectarCam  \n",
       "6        MST:NectarCam  \n",
       "7        MST:NectarCam  \n",
       "8        MST:NectarCam  \n",
       "9        MST:NectarCam  \n",
       "10       MST:NectarCam  \n",
       "11       MST:NectarCam  \n",
       "12       MST:NectarCam  \n",
       "13       MST:NectarCam  \n",
       "14       MST:NectarCam  \n",
       "15       MST:NectarCam  \n",
       "16       MST:NectarCam  \n",
       "17       MST:NectarCam  \n",
       "18       MST:NectarCam  \n",
       "19       MST:NectarCam  \n",
       "20       MST:NectarCam  \n",
       "21       MST:NectarCam  \n",
       "22       MST:NectarCam  \n",
       "23       MST:NectarCam  \n",
       "24       MST:NectarCam  \n",
       "25       MST:NectarCam  \n",
       "26       MST:NectarCam  \n",
       "27       MST:NectarCam  \n",
       "28       MST:NectarCam  \n",
       "29      SST-ASTRI:CHEC  \n",
       "30      SST-ASTRI:CHEC  \n",
       "...                ...  \n",
       "97      SST-ASTRI:CHEC  \n",
       "98      SST-ASTRI:CHEC  \n",
       "99      SST-ASTRI:CHEC  \n",
       "100     SST-ASTRI:CHEC  \n",
       "101     MST-SCT:SCTCam  \n",
       "102     MST-SCT:SCTCam  \n",
       "103     MST-SCT:SCTCam  \n",
       "104     MST-SCT:SCTCam  \n",
       "105     MST-SCT:SCTCam  \n",
       "106     MST-SCT:SCTCam  \n",
       "107     MST-SCT:SCTCam  \n",
       "108     MST-SCT:SCTCam  \n",
       "109     MST-SCT:SCTCam  \n",
       "110     MST-SCT:SCTCam  \n",
       "111     MST-SCT:SCTCam  \n",
       "112     MST-SCT:SCTCam  \n",
       "113     MST-SCT:SCTCam  \n",
       "114     MST-SCT:SCTCam  \n",
       "115     MST-SCT:SCTCam  \n",
       "116     MST-SCT:SCTCam  \n",
       "117     MST-SCT:SCTCam  \n",
       "118     MST-SCT:SCTCam  \n",
       "119     MST-SCT:SCTCam  \n",
       "120     MST-SCT:SCTCam  \n",
       "121     MST-SCT:SCTCam  \n",
       "122     MST-SCT:SCTCam  \n",
       "123     MST-SCT:SCTCam  \n",
       "124     MST-SCT:SCTCam  \n",
       "125     MST-SCT:SCTCam  \n",
       "126     MST-SCT:SCTCam  \n",
       "\n",
       "[126 rows x 7 columns]"
      ]
     },
     "execution_count": 17,
     "metadata": {},
     "output_type": "execute_result"
    }
   ],
   "source": [
    "df = subarray.to_table().to_pandas()\n",
    "df.set_index('tel_id')"
   ]
  },
  {
   "cell_type": "code",
   "execution_count": 18,
   "metadata": {},
   "outputs": [
    {
     "data": {
      "text/plain": [
       "{'LST:LSTCam': Int64Index([0, 1, 2, 3], dtype='int64'),\n",
       " 'MST-SCT:SCTCam': Int64Index([100, 101, 102, 103, 104, 105, 106, 107, 108, 109, 110, 111, 112,\n",
       "             113, 114, 115, 116, 117, 118, 119, 120, 121, 122, 123, 124, 125],\n",
       "            dtype='int64'),\n",
       " 'MST:NectarCam': Int64Index([ 4,  5,  6,  7,  8,  9, 10, 11, 12, 13, 14, 15, 16, 17, 18, 19, 20,\n",
       "             21, 22, 23, 24, 25, 26, 27],\n",
       "            dtype='int64'),\n",
       " 'SST-ASTRI:CHEC': Int64Index([28, 29, 30, 31, 32, 33, 34, 35, 36, 37, 38, 39, 40, 41, 42, 43, 44,\n",
       "             45, 46, 47, 48, 49, 50, 51, 52, 53, 54, 55, 56, 57, 58, 59, 60, 61,\n",
       "             62, 63, 64, 65, 66, 67, 68, 69, 70, 71, 72, 73, 74, 75, 76, 77, 78,\n",
       "             79, 80, 81, 82, 83, 84, 85, 86, 87, 88, 89, 90, 91, 92, 93, 94, 95,\n",
       "             96, 97, 98, 99],\n",
       "            dtype='int64')}"
      ]
     },
     "execution_count": 18,
     "metadata": {},
     "output_type": "execute_result"
    }
   ],
   "source": [
    "g = df.groupby('tel_description')\n",
    "g.groups"
   ]
  },
  {
   "cell_type": "code",
   "execution_count": 19,
   "metadata": {},
   "outputs": [
    {
     "data": {
      "text/plain": [
       "Int64Index([0, 1, 2, 3], dtype='int64')"
      ]
     },
     "execution_count": 19,
     "metadata": {},
     "output_type": "execute_result"
    }
   ],
   "source": [
    "g.groups['LST:LSTCam']"
   ]
  },
  {
   "cell_type": "code",
   "execution_count": 20,
   "metadata": {},
   "outputs": [
    {
     "data": {
      "text/html": [
       "<div>\n",
       "<style>\n",
       "    .dataframe thead tr:only-child th {\n",
       "        text-align: right;\n",
       "    }\n",
       "\n",
       "    .dataframe thead th {\n",
       "        text-align: left;\n",
       "    }\n",
       "\n",
       "    .dataframe tbody tr th {\n",
       "        vertical-align: top;\n",
       "    }\n",
       "</style>\n",
       "<table border=\"1\" class=\"dataframe\">\n",
       "  <thead>\n",
       "    <tr style=\"text-align: right;\">\n",
       "      <th></th>\n",
       "      <th>tel_id</th>\n",
       "      <th>tel_pos_x</th>\n",
       "      <th>tel_pos_y</th>\n",
       "      <th>tel_type</th>\n",
       "      <th>tel_subtype</th>\n",
       "      <th>mirror_type</th>\n",
       "      <th>camera_type</th>\n",
       "      <th>tel_description</th>\n",
       "    </tr>\n",
       "  </thead>\n",
       "  <tbody>\n",
       "    <tr>\n",
       "      <th>0</th>\n",
       "      <td>1</td>\n",
       "      <td>50.0</td>\n",
       "      <td>50.0</td>\n",
       "      <td>LST</td>\n",
       "      <td></td>\n",
       "      <td>DC</td>\n",
       "      <td>LSTCam</td>\n",
       "      <td>LST:LSTCam</td>\n",
       "    </tr>\n",
       "    <tr>\n",
       "      <th>1</th>\n",
       "      <td>2</td>\n",
       "      <td>-50.0</td>\n",
       "      <td>50.0</td>\n",
       "      <td>LST</td>\n",
       "      <td></td>\n",
       "      <td>DC</td>\n",
       "      <td>LSTCam</td>\n",
       "      <td>LST:LSTCam</td>\n",
       "    </tr>\n",
       "    <tr>\n",
       "      <th>2</th>\n",
       "      <td>3</td>\n",
       "      <td>50.0</td>\n",
       "      <td>-50.0</td>\n",
       "      <td>LST</td>\n",
       "      <td></td>\n",
       "      <td>DC</td>\n",
       "      <td>LSTCam</td>\n",
       "      <td>LST:LSTCam</td>\n",
       "    </tr>\n",
       "    <tr>\n",
       "      <th>3</th>\n",
       "      <td>4</td>\n",
       "      <td>-50.0</td>\n",
       "      <td>-50.0</td>\n",
       "      <td>LST</td>\n",
       "      <td></td>\n",
       "      <td>DC</td>\n",
       "      <td>LSTCam</td>\n",
       "      <td>LST:LSTCam</td>\n",
       "    </tr>\n",
       "  </tbody>\n",
       "</table>\n",
       "</div>"
      ],
      "text/plain": [
       "   tel_id  tel_pos_x  tel_pos_y tel_type tel_subtype mirror_type camera_type  \\\n",
       "0       1       50.0       50.0      LST                      DC      LSTCam   \n",
       "1       2      -50.0       50.0      LST                      DC      LSTCam   \n",
       "2       3       50.0      -50.0      LST                      DC      LSTCam   \n",
       "3       4      -50.0      -50.0      LST                      DC      LSTCam   \n",
       "\n",
       "  tel_description  \n",
       "0      LST:LSTCam  \n",
       "1      LST:LSTCam  \n",
       "2      LST:LSTCam  \n",
       "3      LST:LSTCam  "
      ]
     },
     "execution_count": 20,
     "metadata": {},
     "output_type": "execute_result"
    }
   ],
   "source": [
    "df.loc[g.groups['LST:LSTCam']]"
   ]
  },
  {
   "cell_type": "code",
   "execution_count": 21,
   "metadata": {},
   "outputs": [
    {
     "name": "stdout",
     "output_type": "stream",
     "text": [
      "Subarray : LSTs\n",
      "Num Tels : 4\n",
      "Footprint: 0.02 km2\n",
      "\n",
      "                TYPE  Num IDmin  IDmax\n",
      "=====================================\n",
      "          LST:LSTCam    4    1 ..   4\n"
     ]
    },
    {
     "data": {
      "text/latex": [
       "$0.015707963 \\; \\mathrm{km^{2}}$"
      ],
      "text/plain": [
       "<Quantity 0.015707963267948967 km2>"
      ]
     },
     "execution_count": 21,
     "metadata": {},
     "output_type": "execute_result"
    },
    {
     "data": {
      "image/png": "[encoded data removed]",
      "text/plain": [
       "<matplotlib.figure.Figure at 0x111e0a208>"
      ]
     },
     "metadata": {},
     "output_type": "display_data"
    }
   ],
   "source": [
    "lsts = subarray.select_subarray(\"LSTs\", df.loc[g.groups['LST:LSTCam']]['tel_id'])\n",
    "lsts.info()\n",
    "lsts.peek()\n",
    "lsts.footprint"
   ]
  },
  {
   "cell_type": "code",
   "execution_count": null,
   "metadata": {
    "collapsed": true
   },
   "outputs": [],
   "source": []
  }
 ],
 "metadata": {
  "kernelspec": {
   "display_name": "Python 3",
   "language": "python",
   "name": "python3"
  },
  "language_info": {
   "codemirror_mode": {
    "name": "ipython",
    "version": 3
   },
   "file_extension": ".py",
   "mimetype": "text/x-python",
   "name": "python",
   "nbconvert_exporter": "python",
   "pygments_lexer": "ipython3",
   "version": "3.6.0"
  }
 },
 "nbformat": 4,
 "nbformat_minor": 2
}
