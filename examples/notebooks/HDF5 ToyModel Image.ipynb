{
 "cells": [
  {
   "cell_type": "markdown",
   "metadata": {},
   "source": [
    "# Example of writing ToyModel image in HDF5 format\n",
    "\n"
   ]
  },
  {
   "cell_type": "code",
   "execution_count": 1,
   "metadata": {},
   "outputs": [],
   "source": [
    "import matplotlib.pylab as plt\n",
    "from ctapipe.instrument import CameraGeometry\n",
    "from ctapipe.image import toymodel\n",
    "from ctapipe.image.geometry_converter import convert_geometry_hex1d_to_rect2d\n",
    "import numpy as np\n",
    "import h5py"
   ]
  },
  {
   "cell_type": "markdown",
   "metadata": {},
   "source": [
    "Now, let's create a fake Cherenkov image from a given `CameraGeometry` and fill it with some data:"
   ]
  },
  {
   "cell_type": "code",
   "execution_count": 2,
   "metadata": {},
   "outputs": [],
   "source": [
    "# get the HESS demo camera geometry\n",
    "geom = CameraGeometry.from_name(\"NectarCam\")\n",
    "\n",
    "# create a fake camera image to display:\n",
    "model = toymodel.generate_2d_shower_model(centroid=(0.2, 0.0),\n",
    "                                      width=0.05,\n",
    "                                      length=0.15,\n",
    "                                      psi='35d')\n",
    "\n",
    "image, sig, bg = toymodel.make_toymodel_shower_image(geom, model.pdf, \n",
    "                                             intensity=1500,\n",
    "                                             nsb_level_pe=5)"
   ]
  },
  {
   "cell_type": "code",
   "execution_count": 3,
   "metadata": {},
   "outputs": [],
   "source": [
    "new_geom, image2d = convert_geometry_hex1d_to_rect2d(geom, image)"
   ]
  },
  {
   "cell_type": "code",
   "execution_count": 4,
   "metadata": {},
   "outputs": [],
   "source": [
    "h5f = h5py.File('toymodel.h5', 'w')\n",
    "image5f = h5f.create_dataset('imagen', data=image2d)\n",
    "image5f.attrs['CLASS'] = 'IMAGE'\n",
    "image5f.attrs['IMAGE_VERSION'] = '1.2'\n",
    "image5f.attrs['IMAGE_MINMAXRANGE'] = [np.nanmin(image), np.nanmax(image)]\n",
    "h5f.close()"
   ]
  },
  {
   "cell_type": "markdown",
   "metadata": {},
   "source": [
    "# Generated HDF5 File\n",
    "\n",
    "* [ToyModel HDF5 File](toymodel.h5)"
   ]
  },
  {
   "cell_type": "code",
   "execution_count": null,
   "metadata": {
    "collapsed": true
   },
   "outputs": [],
   "source": []
  }
 ],
 "metadata": {
  "anaconda-cloud": {},
  "kernelspec": {
   "display_name": "Python 3",
   "language": "python",
   "name": "python3"
  },
  "language_info": {
   "codemirror_mode": {
    "name": "ipython",
    "version": 3
   },
   "file_extension": ".py",
   "mimetype": "text/x-python",
   "name": "python",
   "nbconvert_exporter": "python",
   "pygments_lexer": "ipython3",
   "version": "3.6.6"
  },
  "toc": {
   "nav_menu": {},
   "number_sections": false,
   "sideBar": true,
   "skip_h1_title": false,
   "toc_cell": false,
   "toc_position": {},
   "toc_section_display": "block",
   "toc_window_display": false
  }
 },
 "nbformat": 4,
 "nbformat_minor": 2
}
